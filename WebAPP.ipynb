{
 "cells": [
  {
   "cell_type": "code",
   "execution_count": 1091,
   "metadata": {},
   "outputs": [],
   "source": [
    "import requests\n",
    "import warnings\n",
    "from tqdm import tqdm, trange\n",
    "import streamlit as st\n",
    "import pandas as pd \n",
    "import yfinance as yf\n",
    "from datetime import datetime\n",
    "from dateutil.relativedelta import relativedelta\n",
    "import plotly_express  as px\n",
    "import plotly.graph_objects as go\n",
    "import random\n",
    "import unittest\n",
    "import tables\n",
    "import pickle\n",
    "import pyarrow.parquet as pq\n",
    "import pyarrow as pa\n",
    "import plotly.io as pio\n",
    "import math\n",
    "import investpy\n",
    "import sklearn.preprocessing\n",
    "from sklearn.preprocessing import StandardScaler\n",
    "from sklearn.cluster import KMeans\n",
    "import subprocess\n",
    "import numpy as np\n",
    "import matplotlib.pyplot as plt\n",
    "warnings.simplefilter(action='ignore', category=pd.errors.PerformanceWarning)"
   ]
  },
  {
   "cell_type": "code",
   "execution_count": 1092,
   "metadata": {},
   "outputs": [],
   "source": [
    "pio.templates.default = \"plotly_dark\""
   ]
  },
  {
   "cell_type": "code",
   "execution_count": 1110,
   "metadata": {},
   "outputs": [],
   "source": [
    "oi = yf.Ticker(\"TSLA\")"
   ]
  },
  {
   "cell_type": "code",
   "execution_count": 1111,
   "metadata": {},
   "outputs": [
    {
     "data": {
      "text/plain": [
       "{'address1': '1 Tesla Road',\n",
       " 'city': 'Austin',\n",
       " 'state': 'TX',\n",
       " 'zip': '78725',\n",
       " 'country': 'United States',\n",
       " 'phone': '512 516 8177',\n",
       " 'website': 'https://www.tesla.com',\n",
       " 'industry': 'Auto Manufacturers',\n",
       " 'industryKey': 'auto-manufacturers',\n",
       " 'industryDisp': 'Auto Manufacturers',\n",
       " 'sector': 'Consumer Cyclical',\n",
       " 'sectorKey': 'consumer-cyclical',\n",
       " 'sectorDisp': 'Consumer Cyclical',\n",
       " 'longBusinessSummary': 'Tesla, Inc. designs, develops, manufactures, leases, and sells electric vehicles, and energy generation and storage systems in the United States, China, and internationally. The company operates in two segments, Automotive, and Energy Generation and Storage. The Automotive segment offers electric vehicles, as well as sells automotive regulatory credits; and non-warranty after-sales vehicle, used vehicles, body shop and parts, supercharging, retail merchandise, and vehicle insurance services. This segment also provides sedans and sport utility vehicles through direct and used vehicle sales, a network of Tesla Superchargers, and in-app upgrades; purchase financing and leasing services; services for electric vehicles through its company-owned service locations and Tesla mobile service technicians; and vehicle limited warranties and extended service plans. The Energy Generation and Storage segment engages in the design, manufacture, installation, sale, and leasing of solar energy generation and energy storage products, and related services to residential, commercial, and industrial customers and utilities through its website, stores, and galleries, as well as through a network of channel partners; and provision of service and repairs to its energy product customers, including under warranty, as well as various financing options to its solar customers. The company was formerly known as Tesla Motors, Inc. and changed its name to Tesla, Inc. in February 2017. Tesla, Inc. was incorporated in 2003 and is headquartered in Austin, Texas.',\n",
       " 'fullTimeEmployees': 140473,\n",
       " 'companyOfficers': [{'maxAge': 1,\n",
       "   'name': 'Mr. Elon R. Musk',\n",
       "   'age': 52,\n",
       "   'title': 'Co-Founder, Technoking of Tesla, CEO & Director',\n",
       "   'yearBorn': 1972,\n",
       "   'fiscalYear': 2023,\n",
       "   'exercisedValue': 0,\n",
       "   'unexercisedValue': 0},\n",
       "  {'maxAge': 1,\n",
       "   'name': 'Mr. Vaibhav  Taneja',\n",
       "   'age': 46,\n",
       "   'title': 'Chief Financial Officer',\n",
       "   'yearBorn': 1978,\n",
       "   'fiscalYear': 2023,\n",
       "   'totalPay': 278000,\n",
       "   'exercisedValue': 8517957,\n",
       "   'unexercisedValue': 202075632},\n",
       "  {'maxAge': 1,\n",
       "   'name': 'Mr. Xiaotong  Zhu',\n",
       "   'age': 44,\n",
       "   'title': 'Senior Vice President of Automotive',\n",
       "   'yearBorn': 1980,\n",
       "   'fiscalYear': 2023,\n",
       "   'totalPay': 926877,\n",
       "   'exercisedValue': 0,\n",
       "   'unexercisedValue': 344144320},\n",
       "  {'maxAge': 1,\n",
       "   'name': 'Travis  Axelrod',\n",
       "   'title': 'Head of Investor Relations',\n",
       "   'fiscalYear': 2023,\n",
       "   'exercisedValue': 0,\n",
       "   'unexercisedValue': 0},\n",
       "  {'maxAge': 1,\n",
       "   'name': 'Brian  Scelfo',\n",
       "   'title': 'Senior Director of Corporate Development',\n",
       "   'fiscalYear': 2023,\n",
       "   'exercisedValue': 0,\n",
       "   'unexercisedValue': 0},\n",
       "  {'maxAge': 1,\n",
       "   'name': 'Mr. Franz  von Holzhausen',\n",
       "   'title': 'Chief Designer',\n",
       "   'fiscalYear': 2023,\n",
       "   'exercisedValue': 0,\n",
       "   'unexercisedValue': 0},\n",
       "  {'maxAge': 1,\n",
       "   'name': 'Mr. John  Walker',\n",
       "   'age': 61,\n",
       "   'title': 'Vice President of Sales - North America',\n",
       "   'yearBorn': 1963,\n",
       "   'fiscalYear': 2023,\n",
       "   'totalPay': 121550,\n",
       "   'exercisedValue': 0,\n",
       "   'unexercisedValue': 0},\n",
       "  {'maxAge': 1,\n",
       "   'name': 'Mr. Peter  Bannon',\n",
       "   'title': 'Chip Architect',\n",
       "   'fiscalYear': 2023,\n",
       "   'exercisedValue': 0,\n",
       "   'unexercisedValue': 0},\n",
       "  {'maxAge': 1,\n",
       "   'name': 'Mr. Turner  Caldwell',\n",
       "   'title': 'Engineering Manager',\n",
       "   'fiscalYear': 2023,\n",
       "   'exercisedValue': 0,\n",
       "   'unexercisedValue': 0},\n",
       "  {'maxAge': 1,\n",
       "   'name': 'Mr. Rodney D. Westmoreland Jr.',\n",
       "   'title': 'Director of Construction Management',\n",
       "   'fiscalYear': 2023,\n",
       "   'exercisedValue': 0,\n",
       "   'unexercisedValue': 0}],\n",
       " 'auditRisk': 5,\n",
       " 'boardRisk': 9,\n",
       " 'compensationRisk': 10,\n",
       " 'shareHolderRightsRisk': 9,\n",
       " 'overallRisk': 10,\n",
       " 'governanceEpochDate': 1735689600,\n",
       " 'compensationAsOfEpochDate': 1703980800,\n",
       " 'maxAge': 86400,\n",
       " 'priceHint': 2,\n",
       " 'previousClose': 350.73,\n",
       " 'open': 345.825,\n",
       " 'dayLow': 331.56,\n",
       " 'dayHigh': 349.37,\n",
       " 'regularMarketPreviousClose': 350.73,\n",
       " 'regularMarketOpen': 345.825,\n",
       " 'regularMarketDayLow': 331.56,\n",
       " 'regularMarketDayHigh': 349.37,\n",
       " 'beta': 2.295,\n",
       " 'trailingPE': 163.54779,\n",
       " 'forwardPE': 86.74575,\n",
       " 'volume': 67001540,\n",
       " 'regularMarketVolume': 67001540,\n",
       " 'averageVolume': 84092816,\n",
       " 'averageVolume10days': 73171010,\n",
       " 'averageDailyVolume10Day': 73171010,\n",
       " 'bid': 331.84,\n",
       " 'ask': 332.13,\n",
       " 'bidSize': 100,\n",
       " 'askSize': 200,\n",
       " 'marketCap': 1067891097600,\n",
       " 'fiftyTwoWeekLow': 138.8,\n",
       " 'fiftyTwoWeekHigh': 488.54,\n",
       " 'priceToSalesTrailing12Months': 10.992188,\n",
       " 'fiftyDayAverage': 401.8516,\n",
       " 'twoHundredDayAverage': 268.8348,\n",
       " 'currency': 'USD',\n",
       " 'enterpriseValue': 1228948242432,\n",
       " 'profitMargins': 0.13075,\n",
       " 'floatShares': 2793105010,\n",
       " 'sharesOutstanding': 3216519936,\n",
       " 'sharesShort': 63254084,\n",
       " 'sharesShortPriorMonth': 80765425,\n",
       " 'sharesShortPreviousMonthDate': 1734048000,\n",
       " 'dateShortInterest': 1736899200,\n",
       " 'sharesPercentSharesOut': 0.0197,\n",
       " 'heldPercentInsiders': 0.1291,\n",
       " 'heldPercentInstitutions': 0.47744998,\n",
       " 'shortRatio': 0.7,\n",
       " 'shortPercentOfFloat': 0.0226,\n",
       " 'impliedSharesOutstanding': 3216519936,\n",
       " 'bookValue': 21.806,\n",
       " 'priceToBook': 15.22526,\n",
       " 'lastFiscalYearEnd': 1703980800,\n",
       " 'nextFiscalYearEnd': 1735603200,\n",
       " 'mostRecentQuarter': 1727654400,\n",
       " 'earningsQuarterlyGrowth': 0.169,\n",
       " 'netIncomeToCommon': 12743000064,\n",
       " 'trailingEps': 2.03,\n",
       " 'forwardEps': 3.24,\n",
       " 'lastSplitFactor': '3:1',\n",
       " 'lastSplitDate': 1661385600,\n",
       " 'enterpriseToRevenue': 12.65,\n",
       " 'enterpriseToEbitda': 92.793,\n",
       " '52WeekChange': 0.9059341,\n",
       " 'SandP52WeekChange': 0.2247591,\n",
       " 'exchange': 'NMS',\n",
       " 'quoteType': 'EQUITY',\n",
       " 'symbol': 'TSLA',\n",
       " 'underlyingSymbol': 'TSLA',\n",
       " 'shortName': 'Tesla, Inc.',\n",
       " 'longName': 'Tesla, Inc.',\n",
       " 'firstTradeDateEpochUtc': 1277818200,\n",
       " 'timeZoneFullName': 'America/New_York',\n",
       " 'timeZoneShortName': 'EST',\n",
       " 'uuid': 'ec367bc4-f92c-397c-ac81-bf7b43cffaf7',\n",
       " 'messageBoardId': 'finmb_27444752',\n",
       " 'gmtOffSetMilliseconds': -18000000,\n",
       " 'currentPrice': 332.002,\n",
       " 'targetHighPrice': 550.0,\n",
       " 'targetLowPrice': 135.0,\n",
       " 'targetMeanPrice': 336.42316,\n",
       " 'targetMedianPrice': 325.0,\n",
       " 'recommendationMean': 2.78261,\n",
       " 'recommendationKey': 'hold',\n",
       " 'numberOfAnalystOpinions': 41,\n",
       " 'totalCash': 33648001024,\n",
       " 'totalCashPerShare': 10.482,\n",
       " 'ebitda': 13244000256,\n",
       " 'totalDebt': 12782999552,\n",
       " 'quickRatio': 1.214,\n",
       " 'currentRatio': 1.844,\n",
       " 'totalRevenue': 97150001152,\n",
       " 'debtToEquity': 18.078,\n",
       " 'revenuePerShare': 30.457,\n",
       " 'returnOnAssets': 0.04759,\n",
       " 'returnOnEquity': 0.20389,\n",
       " 'grossProfits': 17709000704,\n",
       " 'freeCashflow': 676625024,\n",
       " 'operatingCashflow': 14478999552,\n",
       " 'earningsGrowth': 0.17,\n",
       " 'revenueGrowth': 0.078,\n",
       " 'grossMargins': 0.18229,\n",
       " 'ebitdaMargins': 0.13633001,\n",
       " 'operatingMargins': 0.107889995,\n",
       " 'financialCurrency': 'USD',\n",
       " 'trailingPegRatio': 4.9371}"
      ]
     },
     "execution_count": 1111,
     "metadata": {},
     "output_type": "execute_result"
    }
   ],
   "source": [
    "oi.info"
   ]
  },
  {
   "cell_type": "code",
   "execution_count": 1098,
   "metadata": {},
   "outputs": [
    {
     "data": {
      "text/html": [
       "<div>\n",
       "<style scoped>\n",
       "    .dataframe tbody tr th:only-of-type {\n",
       "        vertical-align: middle;\n",
       "    }\n",
       "\n",
       "    .dataframe tbody tr th {\n",
       "        vertical-align: top;\n",
       "    }\n",
       "\n",
       "    .dataframe thead th {\n",
       "        text-align: right;\n",
       "    }\n",
       "</style>\n",
       "<table border=\"1\" class=\"dataframe\">\n",
       "  <thead>\n",
       "    <tr style=\"text-align: right;\">\n",
       "      <th></th>\n",
       "      <th>Company</th>\n",
       "      <th>Market Cap</th>\n",
       "      <th>Rev Growth</th>\n",
       "      <th>NI Growth</th>\n",
       "      <th>EV/EBITDA</th>\n",
       "      <th>EV/Rev</th>\n",
       "      <th>EBITDA Margin</th>\n",
       "      <th>Operating Margin</th>\n",
       "      <th>Debt/Equity</th>\n",
       "      <th>PE</th>\n",
       "      <th>ROE</th>\n",
       "      <th>ROA</th>\n",
       "      <th>Industry</th>\n",
       "      <th>Sector</th>\n",
       "      <th>Name</th>\n",
       "      <th>Beta</th>\n",
       "      <th>Trailing PEG Ratio</th>\n",
       "      <th>Revenue</th>\n",
       "      <th>EBITDA</th>\n",
       "    </tr>\n",
       "  </thead>\n",
       "  <tbody>\n",
       "    <tr>\n",
       "      <th>1</th>\n",
       "      <td>AOS</td>\n",
       "      <td>9447875584</td>\n",
       "      <td>-0.037</td>\n",
       "      <td>-0.089</td>\n",
       "      <td>-0.089</td>\n",
       "      <td>-0.089</td>\n",
       "      <td>0.20779</td>\n",
       "      <td>0.17793</td>\n",
       "      <td>7.471</td>\n",
       "      <td>17.950413</td>\n",
       "      <td>0.29544</td>\n",
       "      <td>0.14337</td>\n",
       "      <td>specialty-industrial-machinery</td>\n",
       "      <td>industrials</td>\n",
       "      <td>A. O. Smith Corporation</td>\n",
       "      <td>1.169</td>\n",
       "      <td>1.6306</td>\n",
       "      <td>3893799936</td>\n",
       "      <td>8.091000e+08</td>\n",
       "    </tr>\n",
       "    <tr>\n",
       "      <th>2</th>\n",
       "      <td>ABT</td>\n",
       "      <td>223866765312</td>\n",
       "      <td>0.049</td>\n",
       "      <td>0.146</td>\n",
       "      <td>0.146</td>\n",
       "      <td>0.146</td>\n",
       "      <td>0.26263</td>\n",
       "      <td>0.18749</td>\n",
       "      <td>37.589</td>\n",
       "      <td>16.893980</td>\n",
       "      <td>0.14840</td>\n",
       "      <td>0.06488</td>\n",
       "      <td>medical-devices</td>\n",
       "      <td>healthcare</td>\n",
       "      <td>Abbott Laboratories</td>\n",
       "      <td>0.722</td>\n",
       "      <td>2.3206</td>\n",
       "      <td>41216999424</td>\n",
       "      <td>1.082500e+10</td>\n",
       "    </tr>\n",
       "    <tr>\n",
       "      <th>3</th>\n",
       "      <td>ABBV</td>\n",
       "      <td>336816898048</td>\n",
       "      <td>0.038</td>\n",
       "      <td>-0.123</td>\n",
       "      <td>-0.123</td>\n",
       "      <td>-0.123</td>\n",
       "      <td>0.46153</td>\n",
       "      <td>0.28928</td>\n",
       "      <td>1174.815</td>\n",
       "      <td>80.084030</td>\n",
       "      <td>0.56407</td>\n",
       "      <td>0.07720</td>\n",
       "      <td>drug-manufacturers-general</td>\n",
       "      <td>healthcare</td>\n",
       "      <td>AbbVie Inc.</td>\n",
       "      <td>0.613</td>\n",
       "      <td>2.5528</td>\n",
       "      <td>55532998656</td>\n",
       "      <td>2.563000e+10</td>\n",
       "    </tr>\n",
       "    <tr>\n",
       "      <th>4</th>\n",
       "      <td>ACN</td>\n",
       "      <td>241422778368</td>\n",
       "      <td>0.026</td>\n",
       "      <td>0.236</td>\n",
       "      <td>0.236</td>\n",
       "      <td>0.236</td>\n",
       "      <td>0.17052</td>\n",
       "      <td>0.14597</td>\n",
       "      <td>14.127</td>\n",
       "      <td>32.353730</td>\n",
       "      <td>0.26675</td>\n",
       "      <td>0.11627</td>\n",
       "      <td>information-technology-services</td>\n",
       "      <td>technology</td>\n",
       "      <td>Accenture plc</td>\n",
       "      <td>1.245</td>\n",
       "      <td>2.9750</td>\n",
       "      <td>64896462848</td>\n",
       "      <td>1.106591e+10</td>\n",
       "    </tr>\n",
       "    <tr>\n",
       "      <th>5</th>\n",
       "      <td>ADBE</td>\n",
       "      <td>188515368960</td>\n",
       "      <td>0.106</td>\n",
       "      <td>0.233</td>\n",
       "      <td>0.233</td>\n",
       "      <td>0.233</td>\n",
       "      <td>0.38831</td>\n",
       "      <td>0.36834</td>\n",
       "      <td>41.788</td>\n",
       "      <td>35.094814</td>\n",
       "      <td>0.35355</td>\n",
       "      <td>0.15969</td>\n",
       "      <td>software-infrastructure</td>\n",
       "      <td>technology</td>\n",
       "      <td>Adobe Inc.</td>\n",
       "      <td>1.299</td>\n",
       "      <td>1.5182</td>\n",
       "      <td>20946999296</td>\n",
       "      <td>8.134000e+09</td>\n",
       "    </tr>\n",
       "    <tr>\n",
       "      <th>...</th>\n",
       "      <td>...</td>\n",
       "      <td>...</td>\n",
       "      <td>...</td>\n",
       "      <td>...</td>\n",
       "      <td>...</td>\n",
       "      <td>...</td>\n",
       "      <td>...</td>\n",
       "      <td>...</td>\n",
       "      <td>...</td>\n",
       "      <td>...</td>\n",
       "      <td>...</td>\n",
       "      <td>...</td>\n",
       "      <td>...</td>\n",
       "      <td>...</td>\n",
       "      <td>...</td>\n",
       "      <td>...</td>\n",
       "      <td>...</td>\n",
       "      <td>...</td>\n",
       "      <td>...</td>\n",
       "    </tr>\n",
       "    <tr>\n",
       "      <th>493</th>\n",
       "      <td>WDAY</td>\n",
       "      <td>72322744320</td>\n",
       "      <td>0.167</td>\n",
       "      <td>0.661</td>\n",
       "      <td>0.661</td>\n",
       "      <td>0.661</td>\n",
       "      <td>0.08089</td>\n",
       "      <td>0.05324</td>\n",
       "      <td>40.312</td>\n",
       "      <td>44.645320</td>\n",
       "      <td>0.21081</td>\n",
       "      <td>0.01426</td>\n",
       "      <td>software-application</td>\n",
       "      <td>technology</td>\n",
       "      <td>Workday, Inc.</td>\n",
       "      <td>1.352</td>\n",
       "      <td>2.2769</td>\n",
       "      <td>7863000064</td>\n",
       "      <td>6.360000e+08</td>\n",
       "    </tr>\n",
       "    <tr>\n",
       "      <th>495</th>\n",
       "      <td>XEL</td>\n",
       "      <td>38244515840</td>\n",
       "      <td>-0.005</td>\n",
       "      <td>0.018</td>\n",
       "      <td>0.018</td>\n",
       "      <td>0.018</td>\n",
       "      <td>0.40035</td>\n",
       "      <td>0.25165</td>\n",
       "      <td>154.330</td>\n",
       "      <td>19.360464</td>\n",
       "      <td>0.10262</td>\n",
       "      <td>0.02564</td>\n",
       "      <td>utilities-regulated-electric</td>\n",
       "      <td>utilities</td>\n",
       "      <td>Xcel Energy Inc.</td>\n",
       "      <td>0.398</td>\n",
       "      <td>2.1530</td>\n",
       "      <td>13763000320</td>\n",
       "      <td>5.510000e+09</td>\n",
       "    </tr>\n",
       "    <tr>\n",
       "      <th>496</th>\n",
       "      <td>XYL</td>\n",
       "      <td>31847657472</td>\n",
       "      <td>0.013</td>\n",
       "      <td>0.413</td>\n",
       "      <td>0.413</td>\n",
       "      <td>0.413</td>\n",
       "      <td>0.20050</td>\n",
       "      <td>0.13498</td>\n",
       "      <td>19.840</td>\n",
       "      <td>36.013733</td>\n",
       "      <td>0.08081</td>\n",
       "      <td>0.04429</td>\n",
       "      <td>specialty-industrial-machinery</td>\n",
       "      <td>industrials</td>\n",
       "      <td>Xylem Inc.</td>\n",
       "      <td>1.050</td>\n",
       "      <td>2.4925</td>\n",
       "      <td>8424000000</td>\n",
       "      <td>1.689000e+09</td>\n",
       "    </tr>\n",
       "    <tr>\n",
       "      <th>499</th>\n",
       "      <td>ZBH</td>\n",
       "      <td>20092538880</td>\n",
       "      <td>0.040</td>\n",
       "      <td>0.597</td>\n",
       "      <td>0.597</td>\n",
       "      <td>0.597</td>\n",
       "      <td>0.33670</td>\n",
       "      <td>0.17997</td>\n",
       "      <td>53.611</td>\n",
       "      <td>22.783297</td>\n",
       "      <td>0.08713</td>\n",
       "      <td>0.04610</td>\n",
       "      <td>medical-devices</td>\n",
       "      <td>healthcare</td>\n",
       "      <td>Zimmer Biomet Holdings, Inc.</td>\n",
       "      <td>1.021</td>\n",
       "      <td>1.3240</td>\n",
       "      <td>7595500032</td>\n",
       "      <td>2.557400e+09</td>\n",
       "    </tr>\n",
       "    <tr>\n",
       "      <th>500</th>\n",
       "      <td>ZTS</td>\n",
       "      <td>77343211520</td>\n",
       "      <td>0.110</td>\n",
       "      <td>0.163</td>\n",
       "      <td>0.163</td>\n",
       "      <td>0.163</td>\n",
       "      <td>0.41128</td>\n",
       "      <td>0.38526</td>\n",
       "      <td>129.442</td>\n",
       "      <td>32.284367</td>\n",
       "      <td>0.47303</td>\n",
       "      <td>0.14664</td>\n",
       "      <td>drug-manufacturers-specialty-generic</td>\n",
       "      <td>healthcare</td>\n",
       "      <td>Zoetis Inc.</td>\n",
       "      <td>0.896</td>\n",
       "      <td>2.6665</td>\n",
       "      <td>9152000000</td>\n",
       "      <td>3.764000e+09</td>\n",
       "    </tr>\n",
       "  </tbody>\n",
       "</table>\n",
       "<p>328 rows × 19 columns</p>\n",
       "</div>"
      ],
      "text/plain": [
       "    Company    Market Cap  Rev Growth  NI Growth  EV/EBITDA  EV/Rev  \\\n",
       "1       AOS    9447875584      -0.037     -0.089     -0.089  -0.089   \n",
       "2       ABT  223866765312       0.049      0.146      0.146   0.146   \n",
       "3      ABBV  336816898048       0.038     -0.123     -0.123  -0.123   \n",
       "4       ACN  241422778368       0.026      0.236      0.236   0.236   \n",
       "5      ADBE  188515368960       0.106      0.233      0.233   0.233   \n",
       "..      ...           ...         ...        ...        ...     ...   \n",
       "493    WDAY   72322744320       0.167      0.661      0.661   0.661   \n",
       "495     XEL   38244515840      -0.005      0.018      0.018   0.018   \n",
       "496     XYL   31847657472       0.013      0.413      0.413   0.413   \n",
       "499     ZBH   20092538880       0.040      0.597      0.597   0.597   \n",
       "500     ZTS   77343211520       0.110      0.163      0.163   0.163   \n",
       "\n",
       "     EBITDA Margin  Operating Margin  Debt/Equity         PE      ROE  \\\n",
       "1          0.20779           0.17793        7.471  17.950413  0.29544   \n",
       "2          0.26263           0.18749       37.589  16.893980  0.14840   \n",
       "3          0.46153           0.28928     1174.815  80.084030  0.56407   \n",
       "4          0.17052           0.14597       14.127  32.353730  0.26675   \n",
       "5          0.38831           0.36834       41.788  35.094814  0.35355   \n",
       "..             ...               ...          ...        ...      ...   \n",
       "493        0.08089           0.05324       40.312  44.645320  0.21081   \n",
       "495        0.40035           0.25165      154.330  19.360464  0.10262   \n",
       "496        0.20050           0.13498       19.840  36.013733  0.08081   \n",
       "499        0.33670           0.17997       53.611  22.783297  0.08713   \n",
       "500        0.41128           0.38526      129.442  32.284367  0.47303   \n",
       "\n",
       "         ROA                              Industry       Sector  \\\n",
       "1    0.14337        specialty-industrial-machinery  industrials   \n",
       "2    0.06488                       medical-devices   healthcare   \n",
       "3    0.07720            drug-manufacturers-general   healthcare   \n",
       "4    0.11627       information-technology-services   technology   \n",
       "5    0.15969               software-infrastructure   technology   \n",
       "..       ...                                   ...          ...   \n",
       "493  0.01426                  software-application   technology   \n",
       "495  0.02564          utilities-regulated-electric    utilities   \n",
       "496  0.04429        specialty-industrial-machinery  industrials   \n",
       "499  0.04610                       medical-devices   healthcare   \n",
       "500  0.14664  drug-manufacturers-specialty-generic   healthcare   \n",
       "\n",
       "                             Name   Beta  Trailing PEG Ratio      Revenue  \\\n",
       "1         A. O. Smith Corporation  1.169              1.6306   3893799936   \n",
       "2             Abbott Laboratories  0.722              2.3206  41216999424   \n",
       "3                     AbbVie Inc.  0.613              2.5528  55532998656   \n",
       "4                   Accenture plc  1.245              2.9750  64896462848   \n",
       "5                      Adobe Inc.  1.299              1.5182  20946999296   \n",
       "..                            ...    ...                 ...          ...   \n",
       "493                 Workday, Inc.  1.352              2.2769   7863000064   \n",
       "495              Xcel Energy Inc.  0.398              2.1530  13763000320   \n",
       "496                    Xylem Inc.  1.050              2.4925   8424000000   \n",
       "499  Zimmer Biomet Holdings, Inc.  1.021              1.3240   7595500032   \n",
       "500                   Zoetis Inc.  0.896              2.6665   9152000000   \n",
       "\n",
       "           EBITDA  \n",
       "1    8.091000e+08  \n",
       "2    1.082500e+10  \n",
       "3    2.563000e+10  \n",
       "4    1.106591e+10  \n",
       "5    8.134000e+09  \n",
       "..            ...  \n",
       "493  6.360000e+08  \n",
       "495  5.510000e+09  \n",
       "496  1.689000e+09  \n",
       "499  2.557400e+09  \n",
       "500  3.764000e+09  \n",
       "\n",
       "[328 rows x 19 columns]"
      ]
     },
     "execution_count": 1098,
     "metadata": {},
     "output_type": "execute_result"
    }
   ],
   "source": [
    "df = pd.read_csv('Multiples_Database.csv')\n",
    "df = df.drop(columns = ['Unnamed: 0'])\n",
    "df = df.dropna()\n",
    "df"
   ]
  },
  {
   "cell_type": "code",
   "execution_count": 1108,
   "metadata": {},
   "outputs": [
    {
     "data": {
      "application/vnd.plotly.v1+json": {
       "config": {
        "plotlyServerURL": "https://plot.ly"
       },
       "data": [
        {
         "nbinsx": 1000,
         "type": "histogram",
         "x": [
          -0.8315324700817849,
          -0.11628370762319523,
          -0.2077690144492939,
          -0.3075711673504925,
          0.35777651865749777,
          0.9399557439144892,
          -0.8731167004572843,
          -0.9895525455086824,
          -0.5321260113781892,
          0.2995585961317987,
          -0.18281847622399428,
          -0.3741059359512915,
          -0.07469947724769586,
          -0.49054178100268975,
          0.7320345920369923,
          0.7320345920369923,
          0.3910439029578973,
          -0.7400471632556861,
          -0.058065785097496096,
          -0.3990564741765911,
          -1.2390579277616787,
          0.5906482087602944,
          1.4056991241200827,
          1.655204506373079,
          -2.5863869919278595,
          2.0710468101280726,
          1.6385708142228792,
          -0.016481554721996725,
          -0.06638263117259598,
          -0.947968315133183,
          1.1395600497168865,
          0.46589551763379616,
          -0.0331152468721965,
          0.46589551763379616,
          0.06668690602900201,
          0.2579743657562993,
          -0.18281847622399428,
          -0.19113532229909416,
          -0.5986607799789881,
          -0.2077690144492939,
          0.05005321387880236,
          -0.7816313936311855,
          -0.14955109192359478,
          0.7154008998867926,
          -0.9230177769078834,
          1.0813421271911872,
          0.8401535910132908,
          -0.5737102417536886,
          0.058370059953902244,
          1.0397578968156878,
          -0.540442857453289,
          1.2476790486931848,
          -0.8731167004572843,
          0.7070840538116926,
          0.6987672077365927,
          -0.016481554721996725,
          -0.540442857453289,
          0.10827113640450145,
          -0.6568787025046874,
          -0.3907396281014912,
          -1.0560873141094815,
          0.5573808244598949,
          0.12490482855470121,
          1.8049077357248768,
          0.041736367803702476,
          1.730056121048978,
          1.0148073585903883,
          -0.1745016301488944,
          -0.5903439339038884,
          -0.27430378305009295,
          -0.3242048595006922,
          0.016785829578402817,
          -0.8398493161568847,
          -1.1808400052359795,
          -0.04974893902239621,
          0.12490482855470121,
          0.0750037521041019,
          0.38272705688279746,
          -0.4406407045520905,
          2.1126310405035724,
          -0.5986607799789881,
          -0.4156901663267909,
          -0.4988586270777896,
          -0.02479840079709661,
          -0.26598693697499304,
          -0.4406407045520905,
          -0.1412342458484949,
          1.1478768957919863,
          -1.921039305919869,
          -1.3721274649632769,
          -0.3574722438010917,
          -0.3907396281014912,
          -0.1745016301488944,
          -0.2410363987496934,
          -0.4156901663267909,
          -0.407373320251691,
          -0.9230177769078834,
          -0.47390808885249003,
          -0.3574722438010917,
          -0.15786793799869467,
          0.19975644323060007,
          0.1332216746298011,
          0.35777651865749777,
          0.21639013538079985,
          -0.04143209294729632,
          -0.07469947724769586,
          0.549063978384795,
          -3.0937146025089515,
          -0.9978693915837823,
          -0.8481661622319846,
          -0.4156901663267909,
          0.2496575196811994,
          1.0480747428907877,
          -0.2410363987496934,
          0.10827113640450145,
          0.1831227510804004,
          -0.2493532448247933,
          2.5534238824838655,
          0.4742123637088961,
          -0.6485618564295874,
          -0.058065785097496096,
          -0.11628370762319523,
          -0.23271955267459352,
          -0.04143209294729632,
          0.37441021080769754,
          0.05005321387880236,
          0.058370059953902244,
          -0.06638263117259598,
          0.5573808244598949,
          -0.2992543212753926,
          0.39936074903299723,
          0.39936074903299723,
          0.8567872831634906,
          1.4805507387959813,
          -0.04143209294729632,
          -0.26598693697499304,
          0.27460805790649906,
          0.341142826507298,
          -0.6236113182042878,
          0.3494596725823979,
          -0.3158880134255923,
          0.058370059953902244,
          -0.09965001547299553,
          -0.6735123946548871,
          0.1332216746298011,
          1.6302539681477792,
          -0.49054178100268975,
          -0.6402450103544876,
          0.5823313626851946,
          0.31619228828199847,
          -0.14955109192359478,
          0.025102675653502705,
          -0.058065785097496096,
          -0.7067797789552865,
          0.2413406736060995,
          -0.11628370762319523,
          0.415994441183197,
          -0.7234134711054864,
          -0.47390808885249003,
          0.025102675653502705,
          -0.6568787025046874,
          1.4556002005706816,
          0.058370059953902244,
          1.6136202759975795,
          0.9150052056891895,
          -0.3907396281014912,
          -0.7649977014809858,
          -0.09965001547299553,
          -0.04143209294729632,
          -0.16618478407379456,
          -0.7733145475560856,
          -0.09133316939789564,
          -0.4323238584769907,
          -0.09133316939789564,
          -1.3139095424375777,
          -0.5820270878287885,
          -0.3325217055757921,
          -1.5135138482399748,
          -0.814898777931585,
          0.623915593060694,
          -0.9646020072833827,
          1.0148073585903883,
          -0.5737102417536886,
          0.11658798247960134,
          0.09163744425430168,
          1.1146095114915868,
          -0.5820270878287885,
          -0.8564830083070845,
          0.1332216746298011,
          0.27460805790649906,
          -0.3158880134255923,
          -1.0394536219592818,
          -0.49054178100268975,
          -0.4156901663267909,
          0.08332059817920179,
          -0.7649977014809858,
          1.1395600497168865,
          -0.0331152468721965,
          -0.9646020072833827,
          -0.5071754731528895,
          0.5407471323096952,
          -0.548759703528389,
          -0.29093747520029273,
          -0.15786793799869467,
          1.0480747428907877,
          0.8235198988630911,
          -0.08301632332279575,
          -4.549162665651431,
          0.8068862067128912,
          -1.1725231591608798,
          -0.3657890898761916,
          2.0211457336774736,
          -0.4156901663267909,
          1.4056991241200827,
          0.2413406736060995,
          2.062729964052973,
          0.10827113640450145,
          0.7237177459618924,
          -0.26598693697499304,
          -0.26598693697499304,
          -0.06638263117259598,
          -1.3887611571134768,
          -0.12460055369829512,
          -0.3574722438010917,
          -0.2992543212753926,
          -0.3325217055757921,
          0.3660933647325977,
          9.656010430619162,
          -0.9729188533584826,
          -0.5071754731528895,
          -0.7733145475560856,
          0.1831227510804004,
          -2.1206436117222656,
          1.1312432036417865,
          0.05005321387880236,
          0.5324302862345953,
          1.971244657226874,
          0.48252920978399594,
          -0.42400701240189076,
          -0.3158880134255923,
          0.4076775951080971,
          -0.04143209294729632,
          -0.6485618564295874,
          -0.5737102417536886,
          -0.4489575506271904,
          0.141538520704901,
          -0.6485618564295874,
          -0.4323238584769907,
          -0.5737102417536886,
          1.6967887367485783,
          0.041736367803702476,
          0.10827113640450145,
          0.6904503616614929,
          -0.2410363987496934,
          0.4575786715586963,
          0.7653019763373918,
          1.031441050740588,
          0.17480590500530052,
          -0.04974893902239621,
          1.8548088121754758,
          0.21639013538079985,
          0.35777651865749777,
          0.016785829578402817,
          0.39936074903299723,
          -0.3574722438010917,
          -2.2370794567736643,
          0.22470698145589973,
          0.549063978384795,
          0.06668690602900201,
          0.9316388978393894,
          0.7985693606377914,
          0.17480590500530052,
          0.3245091343570982,
          -1.912722459844769,
          1.3225306633690836,
          -0.46559124277739017,
          -0.11628370762319523,
          -1.8461876912439699,
          0.9482725899895891,
          -0.5653933956785887,
          -0.1745016301488944,
          -0.08301632332279575,
          0.08332059817920179,
          0.46589551763379616,
          0.5324302862345953,
          -0.132917399773395,
          0.05005321387880236,
          -0.5570765496034888,
          -0.6236113182042878,
          -0.2992543212753926,
          -0.45727439670229025,
          -0.3242048595006922,
          -0.12460055369829512,
          0.12490482855470121,
          -1.222424235611479,
          -0.3158880134255923,
          -0.5071754731528895,
          -0.058065785097496096,
          -0.3907396281014912,
          0.42431128725829687,
          0.46589551763379616,
          -1.230741081686579,
          0.29124175005669883,
          1.1728274340172857,
          -0.4489575506271904,
          -0.3158880134255923,
          -0.3158880134255923,
          -0.058065785097496096,
          -0.02479840079709661,
          0.2413406736060995,
          0.058370059953902244,
          0.44926182548359656,
          3.958970869175745,
          -1.2141073895363792,
          -0.16618478407379456,
          -0.12460055369829512,
          0.1332216746298011,
          -0.19113532229909416,
          -0.9230177769078834,
          1.8714425043256755,
          -0.5321260113781892,
          -1.929356151994969,
          -0.14955109192359478,
          0.8651041292385905,
          -0.5653933956785887,
          -0.4156901663267909,
          -0.19113532229909416,
          0.3910439029578973
         ]
        }
       ],
       "layout": {
        "template": {
         "data": {
          "bar": [
           {
            "error_x": {
             "color": "#f2f5fa"
            },
            "error_y": {
             "color": "#f2f5fa"
            },
            "marker": {
             "line": {
              "color": "rgb(17,17,17)",
              "width": 0.5
             },
             "pattern": {
              "fillmode": "overlay",
              "size": 10,
              "solidity": 0.2
             }
            },
            "type": "bar"
           }
          ],
          "barpolar": [
           {
            "marker": {
             "line": {
              "color": "rgb(17,17,17)",
              "width": 0.5
             },
             "pattern": {
              "fillmode": "overlay",
              "size": 10,
              "solidity": 0.2
             }
            },
            "type": "barpolar"
           }
          ],
          "carpet": [
           {
            "aaxis": {
             "endlinecolor": "#A2B1C6",
             "gridcolor": "#506784",
             "linecolor": "#506784",
             "minorgridcolor": "#506784",
             "startlinecolor": "#A2B1C6"
            },
            "baxis": {
             "endlinecolor": "#A2B1C6",
             "gridcolor": "#506784",
             "linecolor": "#506784",
             "minorgridcolor": "#506784",
             "startlinecolor": "#A2B1C6"
            },
            "type": "carpet"
           }
          ],
          "choropleth": [
           {
            "colorbar": {
             "outlinewidth": 0,
             "ticks": ""
            },
            "type": "choropleth"
           }
          ],
          "contour": [
           {
            "colorbar": {
             "outlinewidth": 0,
             "ticks": ""
            },
            "colorscale": [
             [
              0,
              "#0d0887"
             ],
             [
              0.1111111111111111,
              "#46039f"
             ],
             [
              0.2222222222222222,
              "#7201a8"
             ],
             [
              0.3333333333333333,
              "#9c179e"
             ],
             [
              0.4444444444444444,
              "#bd3786"
             ],
             [
              0.5555555555555556,
              "#d8576b"
             ],
             [
              0.6666666666666666,
              "#ed7953"
             ],
             [
              0.7777777777777778,
              "#fb9f3a"
             ],
             [
              0.8888888888888888,
              "#fdca26"
             ],
             [
              1,
              "#f0f921"
             ]
            ],
            "type": "contour"
           }
          ],
          "contourcarpet": [
           {
            "colorbar": {
             "outlinewidth": 0,
             "ticks": ""
            },
            "type": "contourcarpet"
           }
          ],
          "heatmap": [
           {
            "colorbar": {
             "outlinewidth": 0,
             "ticks": ""
            },
            "colorscale": [
             [
              0,
              "#0d0887"
             ],
             [
              0.1111111111111111,
              "#46039f"
             ],
             [
              0.2222222222222222,
              "#7201a8"
             ],
             [
              0.3333333333333333,
              "#9c179e"
             ],
             [
              0.4444444444444444,
              "#bd3786"
             ],
             [
              0.5555555555555556,
              "#d8576b"
             ],
             [
              0.6666666666666666,
              "#ed7953"
             ],
             [
              0.7777777777777778,
              "#fb9f3a"
             ],
             [
              0.8888888888888888,
              "#fdca26"
             ],
             [
              1,
              "#f0f921"
             ]
            ],
            "type": "heatmap"
           }
          ],
          "heatmapgl": [
           {
            "colorbar": {
             "outlinewidth": 0,
             "ticks": ""
            },
            "colorscale": [
             [
              0,
              "#0d0887"
             ],
             [
              0.1111111111111111,
              "#46039f"
             ],
             [
              0.2222222222222222,
              "#7201a8"
             ],
             [
              0.3333333333333333,
              "#9c179e"
             ],
             [
              0.4444444444444444,
              "#bd3786"
             ],
             [
              0.5555555555555556,
              "#d8576b"
             ],
             [
              0.6666666666666666,
              "#ed7953"
             ],
             [
              0.7777777777777778,
              "#fb9f3a"
             ],
             [
              0.8888888888888888,
              "#fdca26"
             ],
             [
              1,
              "#f0f921"
             ]
            ],
            "type": "heatmapgl"
           }
          ],
          "histogram": [
           {
            "marker": {
             "pattern": {
              "fillmode": "overlay",
              "size": 10,
              "solidity": 0.2
             }
            },
            "type": "histogram"
           }
          ],
          "histogram2d": [
           {
            "colorbar": {
             "outlinewidth": 0,
             "ticks": ""
            },
            "colorscale": [
             [
              0,
              "#0d0887"
             ],
             [
              0.1111111111111111,
              "#46039f"
             ],
             [
              0.2222222222222222,
              "#7201a8"
             ],
             [
              0.3333333333333333,
              "#9c179e"
             ],
             [
              0.4444444444444444,
              "#bd3786"
             ],
             [
              0.5555555555555556,
              "#d8576b"
             ],
             [
              0.6666666666666666,
              "#ed7953"
             ],
             [
              0.7777777777777778,
              "#fb9f3a"
             ],
             [
              0.8888888888888888,
              "#fdca26"
             ],
             [
              1,
              "#f0f921"
             ]
            ],
            "type": "histogram2d"
           }
          ],
          "histogram2dcontour": [
           {
            "colorbar": {
             "outlinewidth": 0,
             "ticks": ""
            },
            "colorscale": [
             [
              0,
              "#0d0887"
             ],
             [
              0.1111111111111111,
              "#46039f"
             ],
             [
              0.2222222222222222,
              "#7201a8"
             ],
             [
              0.3333333333333333,
              "#9c179e"
             ],
             [
              0.4444444444444444,
              "#bd3786"
             ],
             [
              0.5555555555555556,
              "#d8576b"
             ],
             [
              0.6666666666666666,
              "#ed7953"
             ],
             [
              0.7777777777777778,
              "#fb9f3a"
             ],
             [
              0.8888888888888888,
              "#fdca26"
             ],
             [
              1,
              "#f0f921"
             ]
            ],
            "type": "histogram2dcontour"
           }
          ],
          "mesh3d": [
           {
            "colorbar": {
             "outlinewidth": 0,
             "ticks": ""
            },
            "type": "mesh3d"
           }
          ],
          "parcoords": [
           {
            "line": {
             "colorbar": {
              "outlinewidth": 0,
              "ticks": ""
             }
            },
            "type": "parcoords"
           }
          ],
          "pie": [
           {
            "automargin": true,
            "type": "pie"
           }
          ],
          "scatter": [
           {
            "marker": {
             "line": {
              "color": "#283442"
             }
            },
            "type": "scatter"
           }
          ],
          "scatter3d": [
           {
            "line": {
             "colorbar": {
              "outlinewidth": 0,
              "ticks": ""
             }
            },
            "marker": {
             "colorbar": {
              "outlinewidth": 0,
              "ticks": ""
             }
            },
            "type": "scatter3d"
           }
          ],
          "scattercarpet": [
           {
            "marker": {
             "colorbar": {
              "outlinewidth": 0,
              "ticks": ""
             }
            },
            "type": "scattercarpet"
           }
          ],
          "scattergeo": [
           {
            "marker": {
             "colorbar": {
              "outlinewidth": 0,
              "ticks": ""
             }
            },
            "type": "scattergeo"
           }
          ],
          "scattergl": [
           {
            "marker": {
             "line": {
              "color": "#283442"
             }
            },
            "type": "scattergl"
           }
          ],
          "scattermapbox": [
           {
            "marker": {
             "colorbar": {
              "outlinewidth": 0,
              "ticks": ""
             }
            },
            "type": "scattermapbox"
           }
          ],
          "scatterpolar": [
           {
            "marker": {
             "colorbar": {
              "outlinewidth": 0,
              "ticks": ""
             }
            },
            "type": "scatterpolar"
           }
          ],
          "scatterpolargl": [
           {
            "marker": {
             "colorbar": {
              "outlinewidth": 0,
              "ticks": ""
             }
            },
            "type": "scatterpolargl"
           }
          ],
          "scatterternary": [
           {
            "marker": {
             "colorbar": {
              "outlinewidth": 0,
              "ticks": ""
             }
            },
            "type": "scatterternary"
           }
          ],
          "surface": [
           {
            "colorbar": {
             "outlinewidth": 0,
             "ticks": ""
            },
            "colorscale": [
             [
              0,
              "#0d0887"
             ],
             [
              0.1111111111111111,
              "#46039f"
             ],
             [
              0.2222222222222222,
              "#7201a8"
             ],
             [
              0.3333333333333333,
              "#9c179e"
             ],
             [
              0.4444444444444444,
              "#bd3786"
             ],
             [
              0.5555555555555556,
              "#d8576b"
             ],
             [
              0.6666666666666666,
              "#ed7953"
             ],
             [
              0.7777777777777778,
              "#fb9f3a"
             ],
             [
              0.8888888888888888,
              "#fdca26"
             ],
             [
              1,
              "#f0f921"
             ]
            ],
            "type": "surface"
           }
          ],
          "table": [
           {
            "cells": {
             "fill": {
              "color": "#506784"
             },
             "line": {
              "color": "rgb(17,17,17)"
             }
            },
            "header": {
             "fill": {
              "color": "#2a3f5f"
             },
             "line": {
              "color": "rgb(17,17,17)"
             }
            },
            "type": "table"
           }
          ]
         },
         "layout": {
          "annotationdefaults": {
           "arrowcolor": "#f2f5fa",
           "arrowhead": 0,
           "arrowwidth": 1
          },
          "autotypenumbers": "strict",
          "coloraxis": {
           "colorbar": {
            "outlinewidth": 0,
            "ticks": ""
           }
          },
          "colorscale": {
           "diverging": [
            [
             0,
             "#8e0152"
            ],
            [
             0.1,
             "#c51b7d"
            ],
            [
             0.2,
             "#de77ae"
            ],
            [
             0.3,
             "#f1b6da"
            ],
            [
             0.4,
             "#fde0ef"
            ],
            [
             0.5,
             "#f7f7f7"
            ],
            [
             0.6,
             "#e6f5d0"
            ],
            [
             0.7,
             "#b8e186"
            ],
            [
             0.8,
             "#7fbc41"
            ],
            [
             0.9,
             "#4d9221"
            ],
            [
             1,
             "#276419"
            ]
           ],
           "sequential": [
            [
             0,
             "#0d0887"
            ],
            [
             0.1111111111111111,
             "#46039f"
            ],
            [
             0.2222222222222222,
             "#7201a8"
            ],
            [
             0.3333333333333333,
             "#9c179e"
            ],
            [
             0.4444444444444444,
             "#bd3786"
            ],
            [
             0.5555555555555556,
             "#d8576b"
            ],
            [
             0.6666666666666666,
             "#ed7953"
            ],
            [
             0.7777777777777778,
             "#fb9f3a"
            ],
            [
             0.8888888888888888,
             "#fdca26"
            ],
            [
             1,
             "#f0f921"
            ]
           ],
           "sequentialminus": [
            [
             0,
             "#0d0887"
            ],
            [
             0.1111111111111111,
             "#46039f"
            ],
            [
             0.2222222222222222,
             "#7201a8"
            ],
            [
             0.3333333333333333,
             "#9c179e"
            ],
            [
             0.4444444444444444,
             "#bd3786"
            ],
            [
             0.5555555555555556,
             "#d8576b"
            ],
            [
             0.6666666666666666,
             "#ed7953"
            ],
            [
             0.7777777777777778,
             "#fb9f3a"
            ],
            [
             0.8888888888888888,
             "#fdca26"
            ],
            [
             1,
             "#f0f921"
            ]
           ]
          },
          "colorway": [
           "#636efa",
           "#EF553B",
           "#00cc96",
           "#ab63fa",
           "#FFA15A",
           "#19d3f3",
           "#FF6692",
           "#B6E880",
           "#FF97FF",
           "#FECB52"
          ],
          "font": {
           "color": "#f2f5fa"
          },
          "geo": {
           "bgcolor": "rgb(17,17,17)",
           "lakecolor": "rgb(17,17,17)",
           "landcolor": "rgb(17,17,17)",
           "showlakes": true,
           "showland": true,
           "subunitcolor": "#506784"
          },
          "hoverlabel": {
           "align": "left"
          },
          "hovermode": "closest",
          "mapbox": {
           "style": "dark"
          },
          "paper_bgcolor": "rgb(17,17,17)",
          "plot_bgcolor": "rgb(17,17,17)",
          "polar": {
           "angularaxis": {
            "gridcolor": "#506784",
            "linecolor": "#506784",
            "ticks": ""
           },
           "bgcolor": "rgb(17,17,17)",
           "radialaxis": {
            "gridcolor": "#506784",
            "linecolor": "#506784",
            "ticks": ""
           }
          },
          "scene": {
           "xaxis": {
            "backgroundcolor": "rgb(17,17,17)",
            "gridcolor": "#506784",
            "gridwidth": 2,
            "linecolor": "#506784",
            "showbackground": true,
            "ticks": "",
            "zerolinecolor": "#C8D4E3"
           },
           "yaxis": {
            "backgroundcolor": "rgb(17,17,17)",
            "gridcolor": "#506784",
            "gridwidth": 2,
            "linecolor": "#506784",
            "showbackground": true,
            "ticks": "",
            "zerolinecolor": "#C8D4E3"
           },
           "zaxis": {
            "backgroundcolor": "rgb(17,17,17)",
            "gridcolor": "#506784",
            "gridwidth": 2,
            "linecolor": "#506784",
            "showbackground": true,
            "ticks": "",
            "zerolinecolor": "#C8D4E3"
           }
          },
          "shapedefaults": {
           "line": {
            "color": "#f2f5fa"
           }
          },
          "sliderdefaults": {
           "bgcolor": "#C8D4E3",
           "bordercolor": "rgb(17,17,17)",
           "borderwidth": 1,
           "tickwidth": 0
          },
          "ternary": {
           "aaxis": {
            "gridcolor": "#506784",
            "linecolor": "#506784",
            "ticks": ""
           },
           "baxis": {
            "gridcolor": "#506784",
            "linecolor": "#506784",
            "ticks": ""
           },
           "bgcolor": "rgb(17,17,17)",
           "caxis": {
            "gridcolor": "#506784",
            "linecolor": "#506784",
            "ticks": ""
           }
          },
          "title": {
           "x": 0.05
          },
          "updatemenudefaults": {
           "bgcolor": "#506784",
           "borderwidth": 0
          },
          "xaxis": {
           "automargin": true,
           "gridcolor": "#283442",
           "linecolor": "#506784",
           "ticks": "",
           "title": {
            "standoff": 15
           },
           "zerolinecolor": "#283442",
           "zerolinewidth": 2
          },
          "yaxis": {
           "automargin": true,
           "gridcolor": "#283442",
           "linecolor": "#506784",
           "ticks": "",
           "title": {
            "standoff": 15
           },
           "zerolinecolor": "#283442",
           "zerolinewidth": 2
          }
         }
        }
       }
      }
     },
     "metadata": {},
     "output_type": "display_data"
    }
   ],
   "source": [
    "fig = go.Figure()\n",
    "fig.add_trace(go.Histogram(x = ((df['Rev Growth']-df['Rev Growth'].mean())/df['Rev Growth'].std()), nbinsx=1000))"
   ]
  },
  {
   "cell_type": "code",
   "execution_count": 1109,
   "metadata": {},
   "outputs": [
    {
     "data": {
      "application/vnd.plotly.v1+json": {
       "config": {
        "plotlyServerURL": "https://plot.ly"
       },
       "data": [
        {
         "nbinsx": 1000,
         "type": "histogram",
         "x": [
          -0.07544233126382538,
          -0.2453080454001443,
          0.23488832901785617,
          -0.10858605951302476,
          -0.008311668996139181,
          -0.3790611244523026,
          -0.4461918098246818,
          -0.13188711925054294,
          -0.15589289522779365,
          -0.1756127506624265,
          -0.2834192479770096,
          -0.2850365764836579,
          0.05484500918847576,
          -0.3052185211563945,
          -0.045902981324542375,
          -0.045902981324542375,
          -0.15614704685026695,
          -0.19054993465597084,
          -0.30309289402573825,
          -0.29911888683797394,
          -0.3185499336107052,
          -0.3046409026773569,
          0.22695186698880365,
          -0.12455137923824544,
          -0.36293404877172414,
          -0.2956762991404548,
          0.5326500594382785,
          1.401744521655213,
          0.09051865510654611,
          -0.13703946577886528,
          -0.025882811090917956,
          -0.2975015698836721,
          -0.3125658239122799,
          0.24689118234944218,
          0.5913475318831346,
          -0.3149918108960791,
          -0.06739036887470518,
          -0.25163874282137116,
          -0.25445751536152955,
          -0.39794921094065916,
          -0.3516705109575666,
          0.0731901353924575,
          -0.33256292988616487,
          -0.2428820641925184,
          -0.23278532492478926,
          -0.3137441574766647,
          -0.27223657658818445,
          -0.049241632560816394,
          -0.15314343676649161,
          -0.10399975485733634,
          -0.3375766482567745,
          -0.2558091398992285,
          0.20101684915005097,
          -0.28465534904994794,
          1.9990584806763818,
          -0.28321130574044057,
          -0.30615426584189387,
          -0.2097268298062289,
          -0.278994699276679,
          -0.03592177707392031,
          -0.297154981005636,
          0.11088544194383827,
          -0.2304632917307549,
          -0.328877731360302,
          0.05068618756178745,
          1.99135329662378,
          -0.274685674041109,
          -0.283881341836052,
          0.01334898064647161,
          -0.22638531342470605,
          5.2199106709809575,
          -0.22169506075542608,
          -0.35199397665889626,
          -0.18135426686102785,
          -0.3176026411996684,
          -0.3630264675435326,
          -0.1842076964406144,
          -0.38918097996533035,
          -0.06709000786632766,
          -0.3320199696017901,
          -0.1796098625431429,
          -0.07643585616545942,
          -0.19291816568356293,
          -0.3393788143070397,
          -0.32910877828982327,
          0.14491865466230824,
          0.10177064057422766,
          0.086590857304686,
          -0.006856073340155694,
          -0.11316076561285117,
          -0.04636507518358475,
          -0.39414848895003574,
          -0.17550877954414193,
          -0.31851527195033846,
          -0.08045607273912796,
          -0.349013471268073,
          -0.1899607649856918,
          -0.2591939774167138,
          -0.3146567986244465,
          -0.3914798969140661,
          -0.2327737610259667,
          -0.18478531376441737,
          -0.33113043892313354,
          -0.19564451945191288,
          -0.25545101715847063,
          -0.23763729889238755,
          -0.3482048070147489,
          -0.34382646770032244,
          -0.27868278592182544,
          -0.12899903263152818,
          -0.26547845389968994,
          -0.27896004223725085,
          -0.32124163033962705,
          -0.32015570977087743,
          -0.29918820091683024,
          -0.31585823688178344,
          0.028771340087317486,
          -0.06682428079268536,
          -0.3524214134785104,
          -0.24907413345603252,
          -0.1958986710743862,
          -0.06542646997377516,
          -0.039006230478335145,
          -0.30903080011443257,
          -0.20921851500893582,
          -0.32080263539736353,
          -0.29408206377441215,
          -0.3244416303134953,
          3.1820997417736265,
          -0.31722141376595847,
          -0.21214127021972523,
          -0.21214127021972523,
          -0.2218567820537444,
          -0.16364451971322927,
          -0.1562163609291233,
          -0.09720697512941362,
          -0.27374992820037497,
          -0.2208979604009245,
          -0.13754776902381186,
          -0.25308278613087853,
          -0.13468278709774922,
          -0.4102640122841381,
          -0.34669144962638515,
          -0.11299903276218637,
          13.393520423728722,
          -0.369553543302506,
          -0.34357231607784916,
          0.0846962493779194,
          -0.08345968282290336,
          -0.3166322383195062,
          -0.2567910893496935,
          4.261181436932817,
          -0.048629358197585286,
          -0.3011636521642363,
          -0.29517954131057633,
          -0.12396220956796641,
          -0.3261975915987949,
          -0.21266112581114788,
          -0.2597253853546125,
          0.2697417583361264,
          0.8313244252303094,
          -0.4074798967834079,
          -0.3187925328867025,
          0.1468478965238101,
          -0.30806040301044363,
          -0.3613282726115519,
          -0.16498460345679863,
          -0.42765029373060703,
          -0.3662726769033052,
          -0.16258170383743184,
          -0.2527939774689771,
          -0.15938170386356348,
          -0.30900768964530717,
          -0.17542791311880954,
          -0.3237484895249318,
          -0.11596798580653357,
          -0.31217303835592064,
          -0.20844451934738634,
          2.2518240526194835,
          -0.37251094400037715,
          -0.3202827798059409,
          0.6296320774188732,
          -0.13618460369198337,
          -0.3444502944100296,
          -0.35399253259925445,
          0.15066017086090958,
          0.010865226154118864,
          0.1050284022804763,
          -0.233316709757995,
          1.4895540227432025,
          -0.22971238920981107,
          -0.0030669268007013206,
          -0.28072754547191464,
          0.519422622723191,
          0.08184284290302574,
          -0.23352466354691057,
          -0.16692538611243007,
          -0.04651527879246648,
          -0.1459925227454646,
          6.178189363516533,
          1.6346978193918733,
          -0.24268567430242538,
          -0.32492682886548985,
          -0.08944379829750192,
          0.0006876089087108495,
          -0.26356075283231767,
          -0.08161130738673386,
          -0.2803925285793436,
          -0.0054351347236004195,
          -0.33394921608423056,
          -0.26018747921365487,
          -0.1832257469901494,
          -0.14506834657972634,
          0.20726666859359896,
          1.691881818924901,
          -0.29096293022587616,
          0.9744116731593122,
          -0.015716723087293005,
          -0.35995354338090096,
          -0.35995354338090096,
          -0.30251528825428176,
          0.022013240503515913,
          -0.31559253291283407,
          -0.21566473589492324,
          -0.20530228110589827,
          -0.23786834582190874,
          0.38947027721400246,
          1.0130543876451945,
          -0.07531527855728173,
          -0.2652011975842645,
          -0.06739036887470518,
          -0.024843099908072624,
          -0.16455715508483795,
          -0.22179903187371058,
          1.3805460813951091,
          -0.19757376131341475,
          -0.27339181123579037,
          0.44411281828402954,
          -0.13208349758828944,
          0.1108738895973622,
          -0.040311691839515724,
          -0.1604214150464088,
          -0.18098456866910098,
          0.14722912395752005,
          -0.29343513237175284,
          -0.30609650410951356,
          -0.19552899598715232,
          -0.349001918921597,
          -0.08443007992689228,
          0.003887608882579203,
          -0.35133549290976085,
          -0.26656437446843945,
          -0.26916365242555274,
          -0.19535572234235787,
          -0.10823946601405002,
          -0.2700762877971614,
          0.07137641699571627,
          -0.26397664885780225,
          -0.08838098242170452,
          -0.38771383196287085,
          -0.3493946987017829,
          -0.2184372990491774,
          -0.2055217756889434,
          -0.1445138339488755,
          -0.37852971651440387,
          -0.12170950200513489,
          0.031393745842075826,
          -0.3215766483874327,
          0.08273237358168234,
          0.09459663341259499,
          -0.3020185304244033,
          -0.3042943380592484,
          -0.16579326771012273,
          -0.3042943380592484,
          -0.22935426646905324,
          0.3278270026271372,
          0.5216753302860224,
          -0.26914054773260065,
          -0.30017016191964174,
          -0.1787780704921737,
          -0.2698798979070684,
          -0.4219087775320056,
          -0.3096546210479665,
          -0.19877520534692492,
          -0.16468423089607462,
          -0.23090228089684514,
          -0.1799795376303768,
          -0.07105246270761591,
          -0.025293618315945992,
          -0.024334773558433092,
          -0.11105823855420843,
          -0.35422357952877565,
          -0.19487051223801694,
          -0.18120408635683907,
          -0.07834199333400915,
          -0.2712084293041617,
          -0.2672112943187523,
          0.3480089057114265,
          0.1675728061018601,
          -0.010726109409635502,
          -0.1965687071699976,
          -0.08273188499491163,
          -0.3274914555593482,
          -0.020199033520003917,
          0.21838002590356786,
          0.08458074901785177,
          -0.1020011989169781,
          -0.05374704768647944,
          -0.05398964696247667,
          -0.24054849020435448,
          2.651662316502364,
          0.16905150645079559,
          -0.06823369016745749,
          -0.28813260533924173,
          0.19103562179473596,
          -0.20265680531522723,
          -0.012123943333238636,
          0.15671360041436455,
          -0.2951910832599406,
          -0.3772705107485135,
          -0.21136726300582928,
          -0.3555289981462742,
          -0.17896291958813712,
          -0.17320987414775266,
          -0.29819469911988916,
          -0.323390366784174,
          -0.3160892838113047,
          0.12971576669981452
         ]
        }
       ],
       "layout": {
        "template": {
         "data": {
          "bar": [
           {
            "error_x": {
             "color": "#f2f5fa"
            },
            "error_y": {
             "color": "#f2f5fa"
            },
            "marker": {
             "line": {
              "color": "rgb(17,17,17)",
              "width": 0.5
             },
             "pattern": {
              "fillmode": "overlay",
              "size": 10,
              "solidity": 0.2
             }
            },
            "type": "bar"
           }
          ],
          "barpolar": [
           {
            "marker": {
             "line": {
              "color": "rgb(17,17,17)",
              "width": 0.5
             },
             "pattern": {
              "fillmode": "overlay",
              "size": 10,
              "solidity": 0.2
             }
            },
            "type": "barpolar"
           }
          ],
          "carpet": [
           {
            "aaxis": {
             "endlinecolor": "#A2B1C6",
             "gridcolor": "#506784",
             "linecolor": "#506784",
             "minorgridcolor": "#506784",
             "startlinecolor": "#A2B1C6"
            },
            "baxis": {
             "endlinecolor": "#A2B1C6",
             "gridcolor": "#506784",
             "linecolor": "#506784",
             "minorgridcolor": "#506784",
             "startlinecolor": "#A2B1C6"
            },
            "type": "carpet"
           }
          ],
          "choropleth": [
           {
            "colorbar": {
             "outlinewidth": 0,
             "ticks": ""
            },
            "type": "choropleth"
           }
          ],
          "contour": [
           {
            "colorbar": {
             "outlinewidth": 0,
             "ticks": ""
            },
            "colorscale": [
             [
              0,
              "#0d0887"
             ],
             [
              0.1111111111111111,
              "#46039f"
             ],
             [
              0.2222222222222222,
              "#7201a8"
             ],
             [
              0.3333333333333333,
              "#9c179e"
             ],
             [
              0.4444444444444444,
              "#bd3786"
             ],
             [
              0.5555555555555556,
              "#d8576b"
             ],
             [
              0.6666666666666666,
              "#ed7953"
             ],
             [
              0.7777777777777778,
              "#fb9f3a"
             ],
             [
              0.8888888888888888,
              "#fdca26"
             ],
             [
              1,
              "#f0f921"
             ]
            ],
            "type": "contour"
           }
          ],
          "contourcarpet": [
           {
            "colorbar": {
             "outlinewidth": 0,
             "ticks": ""
            },
            "type": "contourcarpet"
           }
          ],
          "heatmap": [
           {
            "colorbar": {
             "outlinewidth": 0,
             "ticks": ""
            },
            "colorscale": [
             [
              0,
              "#0d0887"
             ],
             [
              0.1111111111111111,
              "#46039f"
             ],
             [
              0.2222222222222222,
              "#7201a8"
             ],
             [
              0.3333333333333333,
              "#9c179e"
             ],
             [
              0.4444444444444444,
              "#bd3786"
             ],
             [
              0.5555555555555556,
              "#d8576b"
             ],
             [
              0.6666666666666666,
              "#ed7953"
             ],
             [
              0.7777777777777778,
              "#fb9f3a"
             ],
             [
              0.8888888888888888,
              "#fdca26"
             ],
             [
              1,
              "#f0f921"
             ]
            ],
            "type": "heatmap"
           }
          ],
          "heatmapgl": [
           {
            "colorbar": {
             "outlinewidth": 0,
             "ticks": ""
            },
            "colorscale": [
             [
              0,
              "#0d0887"
             ],
             [
              0.1111111111111111,
              "#46039f"
             ],
             [
              0.2222222222222222,
              "#7201a8"
             ],
             [
              0.3333333333333333,
              "#9c179e"
             ],
             [
              0.4444444444444444,
              "#bd3786"
             ],
             [
              0.5555555555555556,
              "#d8576b"
             ],
             [
              0.6666666666666666,
              "#ed7953"
             ],
             [
              0.7777777777777778,
              "#fb9f3a"
             ],
             [
              0.8888888888888888,
              "#fdca26"
             ],
             [
              1,
              "#f0f921"
             ]
            ],
            "type": "heatmapgl"
           }
          ],
          "histogram": [
           {
            "marker": {
             "pattern": {
              "fillmode": "overlay",
              "size": 10,
              "solidity": 0.2
             }
            },
            "type": "histogram"
           }
          ],
          "histogram2d": [
           {
            "colorbar": {
             "outlinewidth": 0,
             "ticks": ""
            },
            "colorscale": [
             [
              0,
              "#0d0887"
             ],
             [
              0.1111111111111111,
              "#46039f"
             ],
             [
              0.2222222222222222,
              "#7201a8"
             ],
             [
              0.3333333333333333,
              "#9c179e"
             ],
             [
              0.4444444444444444,
              "#bd3786"
             ],
             [
              0.5555555555555556,
              "#d8576b"
             ],
             [
              0.6666666666666666,
              "#ed7953"
             ],
             [
              0.7777777777777778,
              "#fb9f3a"
             ],
             [
              0.8888888888888888,
              "#fdca26"
             ],
             [
              1,
              "#f0f921"
             ]
            ],
            "type": "histogram2d"
           }
          ],
          "histogram2dcontour": [
           {
            "colorbar": {
             "outlinewidth": 0,
             "ticks": ""
            },
            "colorscale": [
             [
              0,
              "#0d0887"
             ],
             [
              0.1111111111111111,
              "#46039f"
             ],
             [
              0.2222222222222222,
              "#7201a8"
             ],
             [
              0.3333333333333333,
              "#9c179e"
             ],
             [
              0.4444444444444444,
              "#bd3786"
             ],
             [
              0.5555555555555556,
              "#d8576b"
             ],
             [
              0.6666666666666666,
              "#ed7953"
             ],
             [
              0.7777777777777778,
              "#fb9f3a"
             ],
             [
              0.8888888888888888,
              "#fdca26"
             ],
             [
              1,
              "#f0f921"
             ]
            ],
            "type": "histogram2dcontour"
           }
          ],
          "mesh3d": [
           {
            "colorbar": {
             "outlinewidth": 0,
             "ticks": ""
            },
            "type": "mesh3d"
           }
          ],
          "parcoords": [
           {
            "line": {
             "colorbar": {
              "outlinewidth": 0,
              "ticks": ""
             }
            },
            "type": "parcoords"
           }
          ],
          "pie": [
           {
            "automargin": true,
            "type": "pie"
           }
          ],
          "scatter": [
           {
            "marker": {
             "line": {
              "color": "#283442"
             }
            },
            "type": "scatter"
           }
          ],
          "scatter3d": [
           {
            "line": {
             "colorbar": {
              "outlinewidth": 0,
              "ticks": ""
             }
            },
            "marker": {
             "colorbar": {
              "outlinewidth": 0,
              "ticks": ""
             }
            },
            "type": "scatter3d"
           }
          ],
          "scattercarpet": [
           {
            "marker": {
             "colorbar": {
              "outlinewidth": 0,
              "ticks": ""
             }
            },
            "type": "scattercarpet"
           }
          ],
          "scattergeo": [
           {
            "marker": {
             "colorbar": {
              "outlinewidth": 0,
              "ticks": ""
             }
            },
            "type": "scattergeo"
           }
          ],
          "scattergl": [
           {
            "marker": {
             "line": {
              "color": "#283442"
             }
            },
            "type": "scattergl"
           }
          ],
          "scattermapbox": [
           {
            "marker": {
             "colorbar": {
              "outlinewidth": 0,
              "ticks": ""
             }
            },
            "type": "scattermapbox"
           }
          ],
          "scatterpolar": [
           {
            "marker": {
             "colorbar": {
              "outlinewidth": 0,
              "ticks": ""
             }
            },
            "type": "scatterpolar"
           }
          ],
          "scatterpolargl": [
           {
            "marker": {
             "colorbar": {
              "outlinewidth": 0,
              "ticks": ""
             }
            },
            "type": "scatterpolargl"
           }
          ],
          "scatterternary": [
           {
            "marker": {
             "colorbar": {
              "outlinewidth": 0,
              "ticks": ""
             }
            },
            "type": "scatterternary"
           }
          ],
          "surface": [
           {
            "colorbar": {
             "outlinewidth": 0,
             "ticks": ""
            },
            "colorscale": [
             [
              0,
              "#0d0887"
             ],
             [
              0.1111111111111111,
              "#46039f"
             ],
             [
              0.2222222222222222,
              "#7201a8"
             ],
             [
              0.3333333333333333,
              "#9c179e"
             ],
             [
              0.4444444444444444,
              "#bd3786"
             ],
             [
              0.5555555555555556,
              "#d8576b"
             ],
             [
              0.6666666666666666,
              "#ed7953"
             ],
             [
              0.7777777777777778,
              "#fb9f3a"
             ],
             [
              0.8888888888888888,
              "#fdca26"
             ],
             [
              1,
              "#f0f921"
             ]
            ],
            "type": "surface"
           }
          ],
          "table": [
           {
            "cells": {
             "fill": {
              "color": "#506784"
             },
             "line": {
              "color": "rgb(17,17,17)"
             }
            },
            "header": {
             "fill": {
              "color": "#2a3f5f"
             },
             "line": {
              "color": "rgb(17,17,17)"
             }
            },
            "type": "table"
           }
          ]
         },
         "layout": {
          "annotationdefaults": {
           "arrowcolor": "#f2f5fa",
           "arrowhead": 0,
           "arrowwidth": 1
          },
          "autotypenumbers": "strict",
          "coloraxis": {
           "colorbar": {
            "outlinewidth": 0,
            "ticks": ""
           }
          },
          "colorscale": {
           "diverging": [
            [
             0,
             "#8e0152"
            ],
            [
             0.1,
             "#c51b7d"
            ],
            [
             0.2,
             "#de77ae"
            ],
            [
             0.3,
             "#f1b6da"
            ],
            [
             0.4,
             "#fde0ef"
            ],
            [
             0.5,
             "#f7f7f7"
            ],
            [
             0.6,
             "#e6f5d0"
            ],
            [
             0.7,
             "#b8e186"
            ],
            [
             0.8,
             "#7fbc41"
            ],
            [
             0.9,
             "#4d9221"
            ],
            [
             1,
             "#276419"
            ]
           ],
           "sequential": [
            [
             0,
             "#0d0887"
            ],
            [
             0.1111111111111111,
             "#46039f"
            ],
            [
             0.2222222222222222,
             "#7201a8"
            ],
            [
             0.3333333333333333,
             "#9c179e"
            ],
            [
             0.4444444444444444,
             "#bd3786"
            ],
            [
             0.5555555555555556,
             "#d8576b"
            ],
            [
             0.6666666666666666,
             "#ed7953"
            ],
            [
             0.7777777777777778,
             "#fb9f3a"
            ],
            [
             0.8888888888888888,
             "#fdca26"
            ],
            [
             1,
             "#f0f921"
            ]
           ],
           "sequentialminus": [
            [
             0,
             "#0d0887"
            ],
            [
             0.1111111111111111,
             "#46039f"
            ],
            [
             0.2222222222222222,
             "#7201a8"
            ],
            [
             0.3333333333333333,
             "#9c179e"
            ],
            [
             0.4444444444444444,
             "#bd3786"
            ],
            [
             0.5555555555555556,
             "#d8576b"
            ],
            [
             0.6666666666666666,
             "#ed7953"
            ],
            [
             0.7777777777777778,
             "#fb9f3a"
            ],
            [
             0.8888888888888888,
             "#fdca26"
            ],
            [
             1,
             "#f0f921"
            ]
           ]
          },
          "colorway": [
           "#636efa",
           "#EF553B",
           "#00cc96",
           "#ab63fa",
           "#FFA15A",
           "#19d3f3",
           "#FF6692",
           "#B6E880",
           "#FF97FF",
           "#FECB52"
          ],
          "font": {
           "color": "#f2f5fa"
          },
          "geo": {
           "bgcolor": "rgb(17,17,17)",
           "lakecolor": "rgb(17,17,17)",
           "landcolor": "rgb(17,17,17)",
           "showlakes": true,
           "showland": true,
           "subunitcolor": "#506784"
          },
          "hoverlabel": {
           "align": "left"
          },
          "hovermode": "closest",
          "mapbox": {
           "style": "dark"
          },
          "paper_bgcolor": "rgb(17,17,17)",
          "plot_bgcolor": "rgb(17,17,17)",
          "polar": {
           "angularaxis": {
            "gridcolor": "#506784",
            "linecolor": "#506784",
            "ticks": ""
           },
           "bgcolor": "rgb(17,17,17)",
           "radialaxis": {
            "gridcolor": "#506784",
            "linecolor": "#506784",
            "ticks": ""
           }
          },
          "scene": {
           "xaxis": {
            "backgroundcolor": "rgb(17,17,17)",
            "gridcolor": "#506784",
            "gridwidth": 2,
            "linecolor": "#506784",
            "showbackground": true,
            "ticks": "",
            "zerolinecolor": "#C8D4E3"
           },
           "yaxis": {
            "backgroundcolor": "rgb(17,17,17)",
            "gridcolor": "#506784",
            "gridwidth": 2,
            "linecolor": "#506784",
            "showbackground": true,
            "ticks": "",
            "zerolinecolor": "#C8D4E3"
           },
           "zaxis": {
            "backgroundcolor": "rgb(17,17,17)",
            "gridcolor": "#506784",
            "gridwidth": 2,
            "linecolor": "#506784",
            "showbackground": true,
            "ticks": "",
            "zerolinecolor": "#C8D4E3"
           }
          },
          "shapedefaults": {
           "line": {
            "color": "#f2f5fa"
           }
          },
          "sliderdefaults": {
           "bgcolor": "#C8D4E3",
           "bordercolor": "rgb(17,17,17)",
           "borderwidth": 1,
           "tickwidth": 0
          },
          "ternary": {
           "aaxis": {
            "gridcolor": "#506784",
            "linecolor": "#506784",
            "ticks": ""
           },
           "baxis": {
            "gridcolor": "#506784",
            "linecolor": "#506784",
            "ticks": ""
           },
           "bgcolor": "rgb(17,17,17)",
           "caxis": {
            "gridcolor": "#506784",
            "linecolor": "#506784",
            "ticks": ""
           }
          },
          "title": {
           "x": 0.05
          },
          "updatemenudefaults": {
           "bgcolor": "#506784",
           "borderwidth": 0
          },
          "xaxis": {
           "automargin": true,
           "gridcolor": "#283442",
           "linecolor": "#506784",
           "ticks": "",
           "title": {
            "standoff": 15
           },
           "zerolinecolor": "#283442",
           "zerolinewidth": 2
          },
          "yaxis": {
           "automargin": true,
           "gridcolor": "#283442",
           "linecolor": "#506784",
           "ticks": "",
           "title": {
            "standoff": 15
           },
           "zerolinecolor": "#283442",
           "zerolinewidth": 2
          }
         }
        }
       }
      }
     },
     "metadata": {},
     "output_type": "display_data"
    }
   ],
   "source": [
    "fig = go.Figure()\n",
    "fig.add_trace(go.Histogram(x = ((df['ROE']-df['ROE'].mean())/df['ROE'].std()), nbinsx=1000))"
   ]
  },
  {
   "cell_type": "code",
   "execution_count": 1112,
   "metadata": {},
   "outputs": [
    {
     "name": "stderr",
     "output_type": "stream",
     "text": [
      " 12%|█▏        | 61/503 [00:43<05:24,  1.36it/s]"
     ]
    },
    {
     "name": "stdout",
     "output_type": "stream",
     "text": [
      "Error fetching data for BRK.B: '52WeekChange'\n"
     ]
    },
    {
     "name": "stderr",
     "output_type": "stream",
     "text": [
      " 15%|█▌        | 76/503 [00:53<04:34,  1.56it/s]"
     ]
    },
    {
     "name": "stdout",
     "output_type": "stream",
     "text": [
      "Error fetching data for BF.B: '52WeekChange'\n"
     ]
    },
    {
     "name": "stderr",
     "output_type": "stream",
     "text": [
      "100%|██████████| 503/503 [05:51<00:00,  1.43it/s]\n"
     ]
    },
    {
     "data": {
      "text/html": [
       "<div>\n",
       "<style scoped>\n",
       "    .dataframe tbody tr th:only-of-type {\n",
       "        vertical-align: middle;\n",
       "    }\n",
       "\n",
       "    .dataframe tbody tr th {\n",
       "        vertical-align: top;\n",
       "    }\n",
       "\n",
       "    .dataframe thead th {\n",
       "        text-align: right;\n",
       "    }\n",
       "</style>\n",
       "<table border=\"1\" class=\"dataframe\">\n",
       "  <thead>\n",
       "    <tr style=\"text-align: right;\">\n",
       "      <th></th>\n",
       "      <th>0</th>\n",
       "    </tr>\n",
       "  </thead>\n",
       "  <tbody>\n",
       "    <tr>\n",
       "      <th>0</th>\n",
       "      <td>0.932109</td>\n",
       "    </tr>\n",
       "    <tr>\n",
       "      <th>1</th>\n",
       "      <td>-0.170599</td>\n",
       "    </tr>\n",
       "    <tr>\n",
       "      <th>2</th>\n",
       "      <td>0.179361</td>\n",
       "    </tr>\n",
       "    <tr>\n",
       "      <th>3</th>\n",
       "      <td>0.098390</td>\n",
       "    </tr>\n",
       "    <tr>\n",
       "      <th>4</th>\n",
       "      <td>0.066371</td>\n",
       "    </tr>\n",
       "    <tr>\n",
       "      <th>...</th>\n",
       "      <td>...</td>\n",
       "    </tr>\n",
       "    <tr>\n",
       "      <th>496</th>\n",
       "      <td>0.078288</td>\n",
       "    </tr>\n",
       "    <tr>\n",
       "      <th>497</th>\n",
       "      <td>0.129106</td>\n",
       "    </tr>\n",
       "    <tr>\n",
       "      <th>498</th>\n",
       "      <td>0.458259</td>\n",
       "    </tr>\n",
       "    <tr>\n",
       "      <th>499</th>\n",
       "      <td>-0.184638</td>\n",
       "    </tr>\n",
       "    <tr>\n",
       "      <th>500</th>\n",
       "      <td>-0.063110</td>\n",
       "    </tr>\n",
       "  </tbody>\n",
       "</table>\n",
       "<p>501 rows × 1 columns</p>\n",
       "</div>"
      ],
      "text/plain": [
       "            0\n",
       "0    0.932109\n",
       "1   -0.170599\n",
       "2    0.179361\n",
       "3    0.098390\n",
       "4    0.066371\n",
       "..        ...\n",
       "496  0.078288\n",
       "497  0.129106\n",
       "498  0.458259\n",
       "499 -0.184638\n",
       "500 -0.063110\n",
       "\n",
       "[501 rows x 1 columns]"
      ]
     },
     "execution_count": 1112,
     "metadata": {},
     "output_type": "execute_result"
    }
   ],
   "source": [
    "url = \"https://en.wikipedia.org/wiki/List_of_S%26P_500_companies\"\n",
    "sp500_table = pd.read_html(url)[0]  # First table contains S&P 500 tickers\n",
    "\n",
    "# Keep only the columns of interest\n",
    "sp500_table = sp500_table[[\"Symbol\"]]\n",
    "sp500_list = sp500_table['Symbol'].to_list()\n",
    "\n",
    "data = []\n",
    "\n",
    "\n",
    "\n",
    "for ticker in tqdm(sp500_list):\n",
    "    stock = yf.Ticker(ticker)\n",
    "    \n",
    "    # Extract relevant financial metrics\n",
    "    try:\n",
    "        yearly_perf = stock.info[\"52WeekChange\"]\n",
    "        data.append(yearly_perf)\n",
    "        \n",
    "        \n",
    "    except Exception as e:\n",
    "        print(f\"Error fetching data for {ticker}: {e}\")\n",
    "df = pd.DataFrame(data)\n",
    "df"
   ]
  },
  {
   "cell_type": "code",
   "execution_count": 1121,
   "metadata": {},
   "outputs": [
    {
     "data": {
      "application/vnd.plotly.v1+json": {
       "config": {
        "plotlyServerURL": "https://plot.ly"
       },
       "data": [
        {
         "nbinsx": 600,
         "type": "histogram",
         "x": [
          1.9528987732708847,
          -0.8928369498139357,
          0.010296720181091661,
          -0.19866214158645817,
          -0.28129321741591756,
          -1.0991057903016368,
          -1.3711723701308487,
          -1.299359947906971,
          0.3590524551723346,
          -0.1755340025275283,
          0.6496179539449771,
          -0.7191640332118646,
          -0.9261979930996341,
          -1.3049806644927426,
          -0.8475604002748741,
          -1.1613962850753208,
          -0.43325822900648736,
          0.21470156278874802,
          0.003087776961535984,
          0.2822976217563512,
          0.284937810144891,
          0.4204806422141681,
          0.5344609293126349,
          -0.11545945849337823,
          0.6410095606840384,
          0.26973973314645444,
          0.7855151905178004,
          -0.26847751907832623,
          -0.43257834243143856,
          -0.3808297777469107,
          0.469384128164605,
          -0.17721464323887723,
          -0.41428417705762755,
          0.5618708002004368,
          -0.1707391183713923,
          -0.3384805634710746,
          0.15068952355813017,
          -1.0308976719434702,
          0.775871893783388,
          0.14168948661075587,
          -0.4046282556466596,
          -0.9456087429848696,
          -0.22539181028229727,
          -0.7663681427289999,
          1.6411460633291926,
          0.5080810328034132,
          0.17006135681980564,
          0.7629396004157942,
          0.2524638490994098,
          0.03218166924880764,
          0.14030170123372898,
          0.21139718531495574,
          0.25440875123334045,
          -0.7329871095118629,
          3.5816558833806096,
          1.1842561284310562,
          -0.861117656422806,
          0.6443117703883485,
          -1.0264208924747669,
          -0.5553400933772114,
          0.08444677211007641,
          -0.36084482185535416,
          -1.4102667507882705,
          0.23558822820317027,
          0.4491647228422017,
          1.0386537620800205,
          -0.7543650740726269,
          0.35026591771216914,
          -0.5946993444972124,
          1.184330193888362,
          -0.0912484411577929,
          1.8128505162076052,
          0.19779425116722227,
          0.4387871200025019,
          -0.8273951375759648,
          -1.0194914366777268,
          -0.09852597879738981,
          0.42692449184043463,
          -0.35349681880419875,
          -0.8708332637535149,
          0.3183426733422636,
          -0.7209705077802944,
          0.8086774719460739,
          0.11222642834203585,
          0.006710248800049265,
          1.4214886914182514,
          0.133660068448999,
          -0.03698060316962417,
          -0.11103927329222596,
          1.3272865911322385,
          -0.9513879131970722,
          -1.8458679506466116,
          -0.2830153941389506,
          -1.0511442776115179,
          0.012022264688855833,
          -0.11817931241038576,
          -1.1597304058418736,
          0.3071014982385157,
          -0.002135670059858413,
          -0.363982139141736,
          -0.16378089833786696,
          -0.24597021113432868,
          -0.27671552053578796,
          -0.7936877156951597,
          0.15951786800116494,
          0.44143773432997946,
          0.23210544846235567,
          0.9155365072618924,
          0.9414106166987333,
          -0.5523895087862902,
          -0.024846616720599173,
          0.14685569419511063,
          -0.22646670136068237,
          -0.060858738855807,
          -0.37559065568761824,
          -0.9076623253021258,
          -0.7135743621818903,
          -0.6944915648511636,
          -0.15392255370947255,
          -1.292260838341176,
          3.4599033684853713,
          -0.40463779125170296,
          0.04018094509205139,
          1.3435042165703173,
          0.5691332924875565,
          -0.03970505069339137,
          -0.6001958117621675,
          0.8036017429308178,
          0.017905591063318092,
          0.3996475000605307,
          -0.8341710688414677,
          -0.7014084011330042,
          0.7581634881111022,
          -1.20396699377867,
          -0.8589144800391489,
          0.07249738155516543,
          0.9086416583562278,
          -0.6161417537478663,
          -0.041631810661299104,
          0.1646456492907712,
          0.41799673968257717,
          1.2360566576468837,
          -0.9231329735061589,
          -1.086773865853471,
          -0.5139751728994758,
          -0.01293232338587476,
          1.6193004696002888,
          -1.581242136337644,
          -1.6699108243730993,
          0.18445000417768798,
          -0.12538301685369296,
          0.25318372921492904,
          -1.1615577839017381,
          -0.6729939239309191,
          0.025337582278515753,
          0.22322967115850975,
          -0.08887099159184146,
          0.07977615792018068,
          -0.0025337396344016876,
          1.2496812178758794,
          -0.16368092287389416,
          -1.0231208247331591,
          -0.9061233380037214,
          -0.5808662758121728,
          -1.0101191627421378,
          0.09151726195735174,
          -1.7163887311137258,
          1.2639368828987456,
          0.0013622066469922767,
          -0.5724898338858204,
          1.0156114047563114,
          -0.400948869536529,
          -0.1102326307838629,
          0.11479244804615177,
          -0.04672018499853409,
          0.2980968160708226,
          -1.7859373826355653,
          -0.695740277493201,
          0.4188430472111069,
          -0.16893727353921353,
          0.12183158265627503,
          0.8519268473380026,
          -0.7154637281262315,
          -0.11711486017432826,
          -0.2073419163996294,
          1.3151187978020045,
          -0.46744650344927297,
          0.7424836243452655,
          -0.2728410971085378,
          -0.229112102718691,
          -0.2141469319056841,
          0.45007229566538093,
          0.37383953339967385,
          -0.2738553809651521,
          -0.24933365000379681,
          1.1124036024717594,
          -1.2740415616609382,
          -1.1526958906452898,
          1.0404253974960593,
          -0.5157471825138179,
          1.5952786417655773,
          1.7159114004961846,
          -1.0450225482075821,
          -0.32586421476346544,
          1.5632600155384586,
          0.025287749387206654,
          1.6475487253352992,
          -0.2898521003702915,
          3.9626702734555566,
          0.3641565200315353,
          -0.008945898535382,
          -0.5576486285190552,
          -0.6514672245769022,
          0.10384381859537135,
          -0.8869465523818771,
          0.3178027439005395,
          -0.9542206717746065,
          -0.518804209747667,
          1.7972703698379455,
          1.399244408752095,
          -1.0647850961116294,
          0.1572582521906343,
          -0.0032514777872183907,
          -0.33631138751947337,
          -0.020411360360190263,
          -0.253519406419526,
          -0.9872802144548339,
          -0.40131865488068663,
          0.5979964463588807,
          0.5976961586720484,
          -0.7354034653786623,
          -0.045544092634147576,
          -0.25956608970853345,
          -0.43909663584239883,
          -0.8052811533397516,
          2.3046450752966043,
          -0.02337919162188409,
          -0.10728420622038995,
          -1.1441920922618634,
          0.4655106337814187,
          -1.4547910068966992,
          0.46857382109354595,
          -0.7727001457727012,
          -0.8740494852683678,
          -0.3921897233921769,
          -0.06290733262996552,
          -0.23820073434025696,
          0.8423819776607897,
          -1.8511398627999989,
          0.17545858669468306,
          -0.3307390896134916,
          1.0536281459133263,
          -0.8205455279548494,
          -0.6605930798972895,
          1.0241512294039885,
          0.1350204470261448,
          -0.49977278081163246,
          -0.552076180933752,
          1.0568635418653842,
          -1.037458581121771,
          0.06728441208626793,
          -0.4368763918870193,
          -0.1313912480411724,
          -0.48935467939278643,
          1.1871030291237834,
          0.9806741866028785,
          -0.5284773597646618,
          0.8837030704848176,
          -0.2742734766006254,
          -0.4542442528447833,
          0.3065600203900187,
          -0.04596863996450815,
          -0.17219425944304206,
          -0.10319104452968256,
          1.1827369865461248,
          0.9483875827769231,
          -0.008191256687810244,
          -0.9647106115256832,
          0.663623293206218,
          -0.4469913137113169,
          -0.20124416149389449,
          -0.6124308369144827,
          -1.576265918264329,
          -1.0366534870201807,
          0.00470379749689427,
          -0.8769242314762284,
          0.44549306328186816,
          -0.015231320341997208,
          -0.17600069232889237,
          1.2987569382730262,
          -1.0289210790842531,
          -0.321278213261677,
          0.0040445375065355435,
          -0.09757874095404384,
          -0.77228192110333,
          -0.967184965548841,
          0.8073355452163055,
          -0.6971529560897808,
          -0.7249373710918889,
          0.3109516116794306,
          -0.03776445829164542,
          -0.4343669664504543,
          -0.27060638484027194,
          0.13607256362157794,
          -0.5967510015361034,
          -0.00554709405521991,
          -0.2610307663852266,
          0.05167902668620953,
          -0.22874540386536746,
          -1.2556034176833455,
          0.9904328654486548,
          0.12716452784329585,
          -0.04474883091556566,
          -1.0912447871832165,
          -1.3681445639134828,
          0.003229894896512361,
          -0.4151021926137378,
          0.24850759237420983,
          -2.069844138728637,
          -0.40354935935608854,
          -1.1587879422527443,
          -0.7742649656574341,
          -0.9347939216860508,
          -0.47707273751525114,
          -0.8362762826899568,
          0.4909872930064254,
          1.1867409341999313,
          -0.6344729957218553,
          0.8614510973983556,
          -0.41729074945678035,
          0.7293476896802505,
          0.6058461977214175,
          1.7490898866233535,
          0.708891120053792,
          -0.10995391756473374,
          0.2301795917317322,
          0.22237164735206477,
          -1.2896977089963695,
          0.85715984286783,
          -0.8844225203080873,
          -0.41999029730929976,
          0.6643751995351574,
          -0.28946415737604325,
          1.1633190107626157,
          2.1947076782822834,
          -1.055758916896572,
          1.7457670056886245,
          -0.39323600765543193,
          -0.6974430604214029,
          0.2197730078785989,
          -0.8660389834760203,
          -0.5766354478559612,
          -0.5301710767712082,
          -1.4885896299364305,
          0.6323645476029196,
          1.028454509893784,
          -0.28156118211136455,
          -0.4300043123029506,
          0.2455529999904246,
          9.504692697941707,
          -0.28060441124365326,
          -0.9389335355799464,
          0.4000175950860429,
          0.09209071440571003,
          -0.2070262736789656,
          0.43245679439947143,
          0.40497309031538,
          -0.8274213056504275,
          -0.5578307521236884,
          -0.5539644758967419,
          1.2076930714140692,
          -0.8339165107679966,
          0.3411840732736245,
          0.471608362880374,
          -0.7379133553372592,
          -0.9105272133201987,
          0.35778774232697685,
          -0.28586967557062887,
          -0.2666249045687408,
          0.5056829894273818,
          -0.6775562373897595,
          -0.2846003562151216,
          0.6643231730675869,
          -0.58885848059782,
          -0.2008879143862883,
          -0.3369503582197507,
          0.8428794033365968,
          -0.08587239864892524,
          0.30087974175704785,
          0.9190771458024559,
          0.6144167840503169,
          0.6202622518791807,
          -0.3303533118080475,
          0.11080050054483549,
          -1.13890448958651,
          0.4403483527448777,
          0.23061923602812887,
          0.40284973430086796,
          -0.10907868063632953,
          -0.23045773272132458,
          -0.09239839125449621,
          -0.2641163926921718,
          -0.5026073845739045,
          2.748200905269569,
          0.11440697218002836,
          -0.029881777478404054,
          -0.48444888673052167,
          -0.7980755908083167,
          -0.1375403687609216,
          0.025976248458794333,
          0.3747319834500373,
          -0.01617577105315193,
          0.21345282433993115,
          -1.419642715093335,
          -0.9504302236080088,
          -0.044423665493248325,
          0.3205749081596927,
          -0.25799711493229305,
          0.2355039432611632,
          -0.6429723295324199,
          -0.49256937314629007,
          0.030735147641527273,
          0.5251138944074448,
          -0.1364491703785395,
          -0.45498874359561947,
          -0.05157505959440966,
          -1.6426363100440322,
          1.3415470046025417,
          -0.5334960583777925,
          -0.7440997049171858,
          1.0552710054994157,
          -0.3323372854062153,
          0.5397477319778221,
          1.7454445757849393,
          2.976948586242747,
          -0.7145108127913848,
          -0.28846340143326854,
          0.10668764828133219,
          -1.2486873556048914,
          -0.057293816135687986,
          1.8853491665064699,
          -0.06658394709197255,
          4.473184115578555,
          -0.8147701771460201,
          -0.3842488973239337,
          0.2589818416033206,
          -0.023088762124839613,
          0.4199139511420517,
          0.037318353877358344,
          -0.13624919364381435,
          0.3959681242731119,
          0.44925891758755554,
          0.6242317216755098,
          -0.1475540856862687,
          -0.0033960731730314567,
          -0.09197570201226318,
          0.15867741861159274,
          -1.2044344577834205,
          -0.4660242796991413,
          3.544313731441006,
          -1.000056221965479,
          -0.005146237348485378,
          -0.3700891199711597,
          -0.05486774659706626,
          -0.539344922378845,
          0.4347324104133225,
          0.0997322050572864,
          -0.08466492524060719,
          0.06444579536977589,
          -0.4641504398875802,
          -0.11804947850247476,
          -0.7436288602243143,
          -0.38900717972463544,
          0.25310896697457574,
          6.798429663315885,
          -0.11039998774923816,
          -0.12449025712197496,
          -0.16824538087611512,
          0.9090920382729167,
          -1.8393150673767504,
          1.67769723747562,
          -0.4801433004049736,
          -0.3335500053328157,
          -0.10846739544915242,
          0.34255000030837346,
          0.38312439977293034,
          1.1983313008377565,
          1.1986804665650548,
          -0.9346676491137175,
          0.18629893089847585,
          -0.6663218133395415,
          1.2251689063890594,
          0.06497062784546387,
          -0.6862492407581275,
          -1.0774358891279026,
          -0.0717612257847538,
          -0.2505389814494123,
          -0.11939388268307977,
          0.7300432598094346,
          -0.9290657972837962,
          -0.6154407951631125
         ]
        }
       ],
       "layout": {
        "template": {
         "data": {
          "bar": [
           {
            "error_x": {
             "color": "#f2f5fa"
            },
            "error_y": {
             "color": "#f2f5fa"
            },
            "marker": {
             "line": {
              "color": "rgb(17,17,17)",
              "width": 0.5
             },
             "pattern": {
              "fillmode": "overlay",
              "size": 10,
              "solidity": 0.2
             }
            },
            "type": "bar"
           }
          ],
          "barpolar": [
           {
            "marker": {
             "line": {
              "color": "rgb(17,17,17)",
              "width": 0.5
             },
             "pattern": {
              "fillmode": "overlay",
              "size": 10,
              "solidity": 0.2
             }
            },
            "type": "barpolar"
           }
          ],
          "carpet": [
           {
            "aaxis": {
             "endlinecolor": "#A2B1C6",
             "gridcolor": "#506784",
             "linecolor": "#506784",
             "minorgridcolor": "#506784",
             "startlinecolor": "#A2B1C6"
            },
            "baxis": {
             "endlinecolor": "#A2B1C6",
             "gridcolor": "#506784",
             "linecolor": "#506784",
             "minorgridcolor": "#506784",
             "startlinecolor": "#A2B1C6"
            },
            "type": "carpet"
           }
          ],
          "choropleth": [
           {
            "colorbar": {
             "outlinewidth": 0,
             "ticks": ""
            },
            "type": "choropleth"
           }
          ],
          "contour": [
           {
            "colorbar": {
             "outlinewidth": 0,
             "ticks": ""
            },
            "colorscale": [
             [
              0,
              "#0d0887"
             ],
             [
              0.1111111111111111,
              "#46039f"
             ],
             [
              0.2222222222222222,
              "#7201a8"
             ],
             [
              0.3333333333333333,
              "#9c179e"
             ],
             [
              0.4444444444444444,
              "#bd3786"
             ],
             [
              0.5555555555555556,
              "#d8576b"
             ],
             [
              0.6666666666666666,
              "#ed7953"
             ],
             [
              0.7777777777777778,
              "#fb9f3a"
             ],
             [
              0.8888888888888888,
              "#fdca26"
             ],
             [
              1,
              "#f0f921"
             ]
            ],
            "type": "contour"
           }
          ],
          "contourcarpet": [
           {
            "colorbar": {
             "outlinewidth": 0,
             "ticks": ""
            },
            "type": "contourcarpet"
           }
          ],
          "heatmap": [
           {
            "colorbar": {
             "outlinewidth": 0,
             "ticks": ""
            },
            "colorscale": [
             [
              0,
              "#0d0887"
             ],
             [
              0.1111111111111111,
              "#46039f"
             ],
             [
              0.2222222222222222,
              "#7201a8"
             ],
             [
              0.3333333333333333,
              "#9c179e"
             ],
             [
              0.4444444444444444,
              "#bd3786"
             ],
             [
              0.5555555555555556,
              "#d8576b"
             ],
             [
              0.6666666666666666,
              "#ed7953"
             ],
             [
              0.7777777777777778,
              "#fb9f3a"
             ],
             [
              0.8888888888888888,
              "#fdca26"
             ],
             [
              1,
              "#f0f921"
             ]
            ],
            "type": "heatmap"
           }
          ],
          "heatmapgl": [
           {
            "colorbar": {
             "outlinewidth": 0,
             "ticks": ""
            },
            "colorscale": [
             [
              0,
              "#0d0887"
             ],
             [
              0.1111111111111111,
              "#46039f"
             ],
             [
              0.2222222222222222,
              "#7201a8"
             ],
             [
              0.3333333333333333,
              "#9c179e"
             ],
             [
              0.4444444444444444,
              "#bd3786"
             ],
             [
              0.5555555555555556,
              "#d8576b"
             ],
             [
              0.6666666666666666,
              "#ed7953"
             ],
             [
              0.7777777777777778,
              "#fb9f3a"
             ],
             [
              0.8888888888888888,
              "#fdca26"
             ],
             [
              1,
              "#f0f921"
             ]
            ],
            "type": "heatmapgl"
           }
          ],
          "histogram": [
           {
            "marker": {
             "pattern": {
              "fillmode": "overlay",
              "size": 10,
              "solidity": 0.2
             }
            },
            "type": "histogram"
           }
          ],
          "histogram2d": [
           {
            "colorbar": {
             "outlinewidth": 0,
             "ticks": ""
            },
            "colorscale": [
             [
              0,
              "#0d0887"
             ],
             [
              0.1111111111111111,
              "#46039f"
             ],
             [
              0.2222222222222222,
              "#7201a8"
             ],
             [
              0.3333333333333333,
              "#9c179e"
             ],
             [
              0.4444444444444444,
              "#bd3786"
             ],
             [
              0.5555555555555556,
              "#d8576b"
             ],
             [
              0.6666666666666666,
              "#ed7953"
             ],
             [
              0.7777777777777778,
              "#fb9f3a"
             ],
             [
              0.8888888888888888,
              "#fdca26"
             ],
             [
              1,
              "#f0f921"
             ]
            ],
            "type": "histogram2d"
           }
          ],
          "histogram2dcontour": [
           {
            "colorbar": {
             "outlinewidth": 0,
             "ticks": ""
            },
            "colorscale": [
             [
              0,
              "#0d0887"
             ],
             [
              0.1111111111111111,
              "#46039f"
             ],
             [
              0.2222222222222222,
              "#7201a8"
             ],
             [
              0.3333333333333333,
              "#9c179e"
             ],
             [
              0.4444444444444444,
              "#bd3786"
             ],
             [
              0.5555555555555556,
              "#d8576b"
             ],
             [
              0.6666666666666666,
              "#ed7953"
             ],
             [
              0.7777777777777778,
              "#fb9f3a"
             ],
             [
              0.8888888888888888,
              "#fdca26"
             ],
             [
              1,
              "#f0f921"
             ]
            ],
            "type": "histogram2dcontour"
           }
          ],
          "mesh3d": [
           {
            "colorbar": {
             "outlinewidth": 0,
             "ticks": ""
            },
            "type": "mesh3d"
           }
          ],
          "parcoords": [
           {
            "line": {
             "colorbar": {
              "outlinewidth": 0,
              "ticks": ""
             }
            },
            "type": "parcoords"
           }
          ],
          "pie": [
           {
            "automargin": true,
            "type": "pie"
           }
          ],
          "scatter": [
           {
            "marker": {
             "line": {
              "color": "#283442"
             }
            },
            "type": "scatter"
           }
          ],
          "scatter3d": [
           {
            "line": {
             "colorbar": {
              "outlinewidth": 0,
              "ticks": ""
             }
            },
            "marker": {
             "colorbar": {
              "outlinewidth": 0,
              "ticks": ""
             }
            },
            "type": "scatter3d"
           }
          ],
          "scattercarpet": [
           {
            "marker": {
             "colorbar": {
              "outlinewidth": 0,
              "ticks": ""
             }
            },
            "type": "scattercarpet"
           }
          ],
          "scattergeo": [
           {
            "marker": {
             "colorbar": {
              "outlinewidth": 0,
              "ticks": ""
             }
            },
            "type": "scattergeo"
           }
          ],
          "scattergl": [
           {
            "marker": {
             "line": {
              "color": "#283442"
             }
            },
            "type": "scattergl"
           }
          ],
          "scattermapbox": [
           {
            "marker": {
             "colorbar": {
              "outlinewidth": 0,
              "ticks": ""
             }
            },
            "type": "scattermapbox"
           }
          ],
          "scatterpolar": [
           {
            "marker": {
             "colorbar": {
              "outlinewidth": 0,
              "ticks": ""
             }
            },
            "type": "scatterpolar"
           }
          ],
          "scatterpolargl": [
           {
            "marker": {
             "colorbar": {
              "outlinewidth": 0,
              "ticks": ""
             }
            },
            "type": "scatterpolargl"
           }
          ],
          "scatterternary": [
           {
            "marker": {
             "colorbar": {
              "outlinewidth": 0,
              "ticks": ""
             }
            },
            "type": "scatterternary"
           }
          ],
          "surface": [
           {
            "colorbar": {
             "outlinewidth": 0,
             "ticks": ""
            },
            "colorscale": [
             [
              0,
              "#0d0887"
             ],
             [
              0.1111111111111111,
              "#46039f"
             ],
             [
              0.2222222222222222,
              "#7201a8"
             ],
             [
              0.3333333333333333,
              "#9c179e"
             ],
             [
              0.4444444444444444,
              "#bd3786"
             ],
             [
              0.5555555555555556,
              "#d8576b"
             ],
             [
              0.6666666666666666,
              "#ed7953"
             ],
             [
              0.7777777777777778,
              "#fb9f3a"
             ],
             [
              0.8888888888888888,
              "#fdca26"
             ],
             [
              1,
              "#f0f921"
             ]
            ],
            "type": "surface"
           }
          ],
          "table": [
           {
            "cells": {
             "fill": {
              "color": "#506784"
             },
             "line": {
              "color": "rgb(17,17,17)"
             }
            },
            "header": {
             "fill": {
              "color": "#2a3f5f"
             },
             "line": {
              "color": "rgb(17,17,17)"
             }
            },
            "type": "table"
           }
          ]
         },
         "layout": {
          "annotationdefaults": {
           "arrowcolor": "#f2f5fa",
           "arrowhead": 0,
           "arrowwidth": 1
          },
          "autotypenumbers": "strict",
          "coloraxis": {
           "colorbar": {
            "outlinewidth": 0,
            "ticks": ""
           }
          },
          "colorscale": {
           "diverging": [
            [
             0,
             "#8e0152"
            ],
            [
             0.1,
             "#c51b7d"
            ],
            [
             0.2,
             "#de77ae"
            ],
            [
             0.3,
             "#f1b6da"
            ],
            [
             0.4,
             "#fde0ef"
            ],
            [
             0.5,
             "#f7f7f7"
            ],
            [
             0.6,
             "#e6f5d0"
            ],
            [
             0.7,
             "#b8e186"
            ],
            [
             0.8,
             "#7fbc41"
            ],
            [
             0.9,
             "#4d9221"
            ],
            [
             1,
             "#276419"
            ]
           ],
           "sequential": [
            [
             0,
             "#0d0887"
            ],
            [
             0.1111111111111111,
             "#46039f"
            ],
            [
             0.2222222222222222,
             "#7201a8"
            ],
            [
             0.3333333333333333,
             "#9c179e"
            ],
            [
             0.4444444444444444,
             "#bd3786"
            ],
            [
             0.5555555555555556,
             "#d8576b"
            ],
            [
             0.6666666666666666,
             "#ed7953"
            ],
            [
             0.7777777777777778,
             "#fb9f3a"
            ],
            [
             0.8888888888888888,
             "#fdca26"
            ],
            [
             1,
             "#f0f921"
            ]
           ],
           "sequentialminus": [
            [
             0,
             "#0d0887"
            ],
            [
             0.1111111111111111,
             "#46039f"
            ],
            [
             0.2222222222222222,
             "#7201a8"
            ],
            [
             0.3333333333333333,
             "#9c179e"
            ],
            [
             0.4444444444444444,
             "#bd3786"
            ],
            [
             0.5555555555555556,
             "#d8576b"
            ],
            [
             0.6666666666666666,
             "#ed7953"
            ],
            [
             0.7777777777777778,
             "#fb9f3a"
            ],
            [
             0.8888888888888888,
             "#fdca26"
            ],
            [
             1,
             "#f0f921"
            ]
           ]
          },
          "colorway": [
           "#636efa",
           "#EF553B",
           "#00cc96",
           "#ab63fa",
           "#FFA15A",
           "#19d3f3",
           "#FF6692",
           "#B6E880",
           "#FF97FF",
           "#FECB52"
          ],
          "font": {
           "color": "#f2f5fa"
          },
          "geo": {
           "bgcolor": "rgb(17,17,17)",
           "lakecolor": "rgb(17,17,17)",
           "landcolor": "rgb(17,17,17)",
           "showlakes": true,
           "showland": true,
           "subunitcolor": "#506784"
          },
          "hoverlabel": {
           "align": "left"
          },
          "hovermode": "closest",
          "mapbox": {
           "style": "dark"
          },
          "paper_bgcolor": "rgb(17,17,17)",
          "plot_bgcolor": "rgb(17,17,17)",
          "polar": {
           "angularaxis": {
            "gridcolor": "#506784",
            "linecolor": "#506784",
            "ticks": ""
           },
           "bgcolor": "rgb(17,17,17)",
           "radialaxis": {
            "gridcolor": "#506784",
            "linecolor": "#506784",
            "ticks": ""
           }
          },
          "scene": {
           "xaxis": {
            "backgroundcolor": "rgb(17,17,17)",
            "gridcolor": "#506784",
            "gridwidth": 2,
            "linecolor": "#506784",
            "showbackground": true,
            "ticks": "",
            "zerolinecolor": "#C8D4E3"
           },
           "yaxis": {
            "backgroundcolor": "rgb(17,17,17)",
            "gridcolor": "#506784",
            "gridwidth": 2,
            "linecolor": "#506784",
            "showbackground": true,
            "ticks": "",
            "zerolinecolor": "#C8D4E3"
           },
           "zaxis": {
            "backgroundcolor": "rgb(17,17,17)",
            "gridcolor": "#506784",
            "gridwidth": 2,
            "linecolor": "#506784",
            "showbackground": true,
            "ticks": "",
            "zerolinecolor": "#C8D4E3"
           }
          },
          "shapedefaults": {
           "line": {
            "color": "#f2f5fa"
           }
          },
          "sliderdefaults": {
           "bgcolor": "#C8D4E3",
           "bordercolor": "rgb(17,17,17)",
           "borderwidth": 1,
           "tickwidth": 0
          },
          "ternary": {
           "aaxis": {
            "gridcolor": "#506784",
            "linecolor": "#506784",
            "ticks": ""
           },
           "baxis": {
            "gridcolor": "#506784",
            "linecolor": "#506784",
            "ticks": ""
           },
           "bgcolor": "rgb(17,17,17)",
           "caxis": {
            "gridcolor": "#506784",
            "linecolor": "#506784",
            "ticks": ""
           }
          },
          "title": {
           "x": 0.05
          },
          "updatemenudefaults": {
           "bgcolor": "#506784",
           "borderwidth": 0
          },
          "xaxis": {
           "automargin": true,
           "gridcolor": "#283442",
           "linecolor": "#506784",
           "ticks": "",
           "title": {
            "standoff": 15
           },
           "zerolinecolor": "#283442",
           "zerolinewidth": 2
          },
          "yaxis": {
           "automargin": true,
           "gridcolor": "#283442",
           "linecolor": "#506784",
           "ticks": "",
           "title": {
            "standoff": 15
           },
           "zerolinecolor": "#283442",
           "zerolinewidth": 2
          }
         }
        },
        "xaxis": {
         "title": {
          "text": "Standardized 52 Week Change"
         }
        },
        "yaxis": {
         "title": {
          "text": "Quantity"
         }
        }
       }
      }
     },
     "metadata": {},
     "output_type": "display_data"
    }
   ],
   "source": [
    "fig = go.Figure()\n",
    "fig.add_trace(go.Histogram(x = ((df[0]-df[0].mean())/df[0].std()), nbinsx=600))\n",
    "fig.update_xaxes(title_text = 'Standardized 52 Week Change')\n",
    "fig.update_yaxes(title_text = 'Quantity')"
   ]
  }
 ],
 "metadata": {
  "kernelspec": {
   "display_name": "stonksApp-env",
   "language": "python",
   "name": "python3"
  },
  "language_info": {
   "codemirror_mode": {
    "name": "ipython",
    "version": 3
   },
   "file_extension": ".py",
   "mimetype": "text/x-python",
   "name": "python",
   "nbconvert_exporter": "python",
   "pygments_lexer": "ipython3",
   "version": "3.12.3"
  }
 },
 "nbformat": 4,
 "nbformat_minor": 2
}
