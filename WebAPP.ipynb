{
 "cells": [
  {
   "cell_type": "code",
   "execution_count": 535,
   "metadata": {},
   "outputs": [],
   "source": [
    "import requests\n",
    "import warnings\n",
    "from tqdm import tqdm, trange\n",
    "import streamlit as st\n",
    "import pandas as pd \n",
    "import yfinance as yf\n",
    "from datetime import datetime\n",
    "from dateutil.relativedelta import relativedelta\n",
    "import plotly_express  as px\n",
    "import plotly.graph_objects as go\n",
    "import random\n",
    "import unittest\n",
    "import tables\n",
    "import pickle\n",
    "import pyarrow.parquet as pq\n",
    "import pyarrow as pa\n",
    "import plotly.io as pio\n",
    "import math\n",
    "import investpy\n",
    "import sklearn.preprocessing\n",
    "from sklearn.preprocessing import StandardScaler\n",
    "from sklearn.cluster import KMeans\n",
    "import subprocess\n",
    "warnings.simplefilter(action='ignore', category=pd.errors.PerformanceWarning)"
   ]
  },
  {
   "cell_type": "code",
   "execution_count": 508,
   "metadata": {},
   "outputs": [],
   "source": [
    "pio.templates.default = \"plotly_dark\""
   ]
  },
  {
   "cell_type": "code",
   "execution_count": 509,
   "metadata": {},
   "outputs": [],
   "source": [
    "oi = yf.Ticker(\"TSLA\")"
   ]
  },
  {
   "cell_type": "code",
   "execution_count": 510,
   "metadata": {},
   "outputs": [
    {
     "data": {
      "text/plain": [
       "{'address1': '1 Tesla Road',\n",
       " 'city': 'Austin',\n",
       " 'state': 'TX',\n",
       " 'zip': '78725',\n",
       " 'country': 'United States',\n",
       " 'phone': '512 516 8177',\n",
       " 'website': 'https://www.tesla.com',\n",
       " 'industry': 'Auto Manufacturers',\n",
       " 'industryKey': 'auto-manufacturers',\n",
       " 'industryDisp': 'Auto Manufacturers',\n",
       " 'sector': 'Consumer Cyclical',\n",
       " 'sectorKey': 'consumer-cyclical',\n",
       " 'sectorDisp': 'Consumer Cyclical',\n",
       " 'longBusinessSummary': 'Tesla, Inc. designs, develops, manufactures, leases, and sells electric vehicles, and energy generation and storage systems in the United States, China, and internationally. The company operates in two segments, Automotive, and Energy Generation and Storage. The Automotive segment offers electric vehicles, as well as sells automotive regulatory credits; and non-warranty after-sales vehicle, used vehicles, body shop and parts, supercharging, retail merchandise, and vehicle insurance services. This segment also provides sedans and sport utility vehicles through direct and used vehicle sales, a network of Tesla Superchargers, and in-app upgrades; purchase financing and leasing services; services for electric vehicles through its company-owned service locations and Tesla mobile service technicians; and vehicle limited warranties and extended service plans. The Energy Generation and Storage segment engages in the design, manufacture, installation, sale, and leasing of solar energy generation and energy storage products, and related services to residential, commercial, and industrial customers and utilities through its website, stores, and galleries, as well as through a network of channel partners; and provision of service and repairs to its energy product customers, including under warranty, as well as various financing options to its solar customers. The company was formerly known as Tesla Motors, Inc. and changed its name to Tesla, Inc. in February 2017. Tesla, Inc. was incorporated in 2003 and is headquartered in Austin, Texas.',\n",
       " 'fullTimeEmployees': 140473,\n",
       " 'companyOfficers': [{'maxAge': 1,\n",
       "   'name': 'Mr. Elon R. Musk',\n",
       "   'age': 52,\n",
       "   'title': 'Co-Founder, Technoking of Tesla, CEO & Director',\n",
       "   'yearBorn': 1972,\n",
       "   'fiscalYear': 2023,\n",
       "   'exercisedValue': 0,\n",
       "   'unexercisedValue': 0},\n",
       "  {'maxAge': 1,\n",
       "   'name': 'Mr. Vaibhav  Taneja',\n",
       "   'age': 46,\n",
       "   'title': 'Chief Financial Officer',\n",
       "   'yearBorn': 1978,\n",
       "   'fiscalYear': 2023,\n",
       "   'totalPay': 278000,\n",
       "   'exercisedValue': 8517957,\n",
       "   'unexercisedValue': 202075632},\n",
       "  {'maxAge': 1,\n",
       "   'name': 'Mr. Xiaotong  Zhu',\n",
       "   'age': 44,\n",
       "   'title': 'Senior Vice President of Automotive',\n",
       "   'yearBorn': 1980,\n",
       "   'fiscalYear': 2023,\n",
       "   'totalPay': 926877,\n",
       "   'exercisedValue': 0,\n",
       "   'unexercisedValue': 344144320},\n",
       "  {'maxAge': 1,\n",
       "   'name': 'Travis  Axelrod',\n",
       "   'title': 'Head of Investor Relations',\n",
       "   'fiscalYear': 2023,\n",
       "   'exercisedValue': 0,\n",
       "   'unexercisedValue': 0},\n",
       "  {'maxAge': 1,\n",
       "   'name': 'Brian  Scelfo',\n",
       "   'title': 'Senior Director of Corporate Development',\n",
       "   'fiscalYear': 2023,\n",
       "   'exercisedValue': 0,\n",
       "   'unexercisedValue': 0},\n",
       "  {'maxAge': 1,\n",
       "   'name': 'Mr. Franz  von Holzhausen',\n",
       "   'title': 'Chief Designer',\n",
       "   'fiscalYear': 2023,\n",
       "   'exercisedValue': 0,\n",
       "   'unexercisedValue': 0},\n",
       "  {'maxAge': 1,\n",
       "   'name': 'Mr. John  Walker',\n",
       "   'age': 61,\n",
       "   'title': 'Vice President of Sales - North America',\n",
       "   'yearBorn': 1963,\n",
       "   'fiscalYear': 2023,\n",
       "   'totalPay': 121550,\n",
       "   'exercisedValue': 0,\n",
       "   'unexercisedValue': 0},\n",
       "  {'maxAge': 1,\n",
       "   'name': 'Mr. Peter  Bannon',\n",
       "   'title': 'Chip Architect',\n",
       "   'fiscalYear': 2023,\n",
       "   'exercisedValue': 0,\n",
       "   'unexercisedValue': 0},\n",
       "  {'maxAge': 1,\n",
       "   'name': 'Mr. Turner  Caldwell',\n",
       "   'title': 'Engineering Manager',\n",
       "   'fiscalYear': 2023,\n",
       "   'exercisedValue': 0,\n",
       "   'unexercisedValue': 0},\n",
       "  {'maxAge': 1,\n",
       "   'name': 'Mr. Rodney D. Westmoreland Jr.',\n",
       "   'title': 'Director of Construction Management',\n",
       "   'fiscalYear': 2023,\n",
       "   'exercisedValue': 0,\n",
       "   'unexercisedValue': 0}],\n",
       " 'auditRisk': 5,\n",
       " 'boardRisk': 9,\n",
       " 'compensationRisk': 10,\n",
       " 'shareHolderRightsRisk': 9,\n",
       " 'overallRisk': 10,\n",
       " 'governanceEpochDate': 1735689600,\n",
       " 'compensationAsOfEpochDate': 1703980800,\n",
       " 'maxAge': 86400,\n",
       " 'priceHint': 2,\n",
       " 'previousClose': 378.17,\n",
       " 'open': 373.105,\n",
       " 'dayLow': 363.18,\n",
       " 'dayHigh': 375.4,\n",
       " 'regularMarketPreviousClose': 378.17,\n",
       " 'regularMarketOpen': 373.105,\n",
       " 'regularMarketDayLow': 363.18,\n",
       " 'regularMarketDayHigh': 375.4,\n",
       " 'beta': 2.295,\n",
       " 'trailingPE': 185.30693,\n",
       " 'forwardPE': 96.90154,\n",
       " 'volume': 77152311,\n",
       " 'regularMarketVolume': 77152311,\n",
       " 'averageVolume': 88742310,\n",
       " 'averageVolume10days': 67187620,\n",
       " 'averageDailyVolume10Day': 67187620,\n",
       " 'bid': 374.08,\n",
       " 'ask': 374.08,\n",
       " 'bidSize': 200,\n",
       " 'askSize': 100,\n",
       " 'marketCap': 1204007731200,\n",
       " 'fiftyTwoWeekLow': 138.8,\n",
       " 'fiftyTwoWeekHigh': 488.54,\n",
       " 'priceToSalesTrailing12Months': 12.393286,\n",
       " 'fiftyDayAverage': 400.734,\n",
       " 'twoHundredDayAverage': 265.57034,\n",
       " 'currency': 'USD',\n",
       " 'enterpriseValue': 1228948242432,\n",
       " 'profitMargins': 0.13075,\n",
       " 'floatShares': 2793105010,\n",
       " 'sharesOutstanding': 3216519936,\n",
       " 'sharesShort': 63254084,\n",
       " 'sharesShortPriorMonth': 80765425,\n",
       " 'sharesShortPreviousMonthDate': 1734048000,\n",
       " 'dateShortInterest': 1736899200,\n",
       " 'sharesPercentSharesOut': 0.0197,\n",
       " 'heldPercentInsiders': 0.1291,\n",
       " 'heldPercentInstitutions': 0.47744998,\n",
       " 'shortRatio': 0.7,\n",
       " 'shortPercentOfFloat': 0.0226,\n",
       " 'impliedSharesOutstanding': 3216519936,\n",
       " 'bookValue': 21.806,\n",
       " 'priceToBook': 17.165918,\n",
       " 'lastFiscalYearEnd': 1703980800,\n",
       " 'nextFiscalYearEnd': 1735603200,\n",
       " 'mostRecentQuarter': 1727654400,\n",
       " 'earningsQuarterlyGrowth': 0.169,\n",
       " 'netIncomeToCommon': 12743000064,\n",
       " 'trailingEps': 2.02,\n",
       " 'forwardEps': 3.24,\n",
       " 'lastSplitFactor': '3:1',\n",
       " 'lastSplitDate': 1661385600,\n",
       " 'enterpriseToRevenue': 12.65,\n",
       " 'enterpriseToEbitda': 92.793,\n",
       " '52WeekChange': 0.95366013,\n",
       " 'SandP52WeekChange': 0.20587826,\n",
       " 'exchange': 'NMS',\n",
       " 'quoteType': 'EQUITY',\n",
       " 'symbol': 'TSLA',\n",
       " 'underlyingSymbol': 'TSLA',\n",
       " 'shortName': 'Tesla, Inc.',\n",
       " 'longName': 'Tesla, Inc.',\n",
       " 'firstTradeDateEpochUtc': 1277818200,\n",
       " 'timeZoneFullName': 'America/New_York',\n",
       " 'timeZoneShortName': 'EST',\n",
       " 'uuid': 'ec367bc4-f92c-397c-ac81-bf7b43cffaf7',\n",
       " 'messageBoardId': 'finmb_27444752',\n",
       " 'gmtOffSetMilliseconds': -18000000,\n",
       " 'currentPrice': 374.32,\n",
       " 'targetHighPrice': 550.0,\n",
       " 'targetLowPrice': 135.0,\n",
       " 'targetMeanPrice': 332.98416,\n",
       " 'targetMedianPrice': 308.0,\n",
       " 'recommendationMean': 2.78261,\n",
       " 'recommendationKey': 'hold',\n",
       " 'numberOfAnalystOpinions': 41,\n",
       " 'totalCash': 33648001024,\n",
       " 'totalCashPerShare': 10.482,\n",
       " 'ebitda': 13244000256,\n",
       " 'totalDebt': 12782999552,\n",
       " 'quickRatio': 1.214,\n",
       " 'currentRatio': 1.844,\n",
       " 'totalRevenue': 97150001152,\n",
       " 'debtToEquity': 18.078,\n",
       " 'revenuePerShare': 30.457,\n",
       " 'returnOnAssets': 0.04759,\n",
       " 'returnOnEquity': 0.20389,\n",
       " 'grossProfits': 17709000704,\n",
       " 'freeCashflow': 676625024,\n",
       " 'operatingCashflow': 14478999552,\n",
       " 'earningsGrowth': 0.17,\n",
       " 'revenueGrowth': 0.078,\n",
       " 'grossMargins': 0.18229,\n",
       " 'ebitdaMargins': 0.13633001,\n",
       " 'operatingMargins': 0.107889995,\n",
       " 'financialCurrency': 'USD',\n",
       " 'trailingPegRatio': 5.2691}"
      ]
     },
     "execution_count": 510,
     "metadata": {},
     "output_type": "execute_result"
    }
   ],
   "source": [
    "oi.info"
   ]
  },
  {
   "cell_type": "code",
   "execution_count": 374,
   "metadata": {},
   "outputs": [
    {
     "name": "stderr",
     "output_type": "stream",
     "text": [
      " 12%|█▏        | 61/503 [00:28<03:23,  2.17it/s]"
     ]
    },
    {
     "name": "stdout",
     "output_type": "stream",
     "text": [
      "Error fetching data for BRK.B: 'marketCap'\n"
     ]
    },
    {
     "name": "stderr",
     "output_type": "stream",
     "text": [
      " 15%|█▌        | 76/503 [00:35<03:24,  2.08it/s]"
     ]
    },
    {
     "name": "stdout",
     "output_type": "stream",
     "text": [
      "Error fetching data for BF.B: 'marketCap'\n"
     ]
    },
    {
     "name": "stderr",
     "output_type": "stream",
     "text": [
      "100%|██████████| 503/503 [03:53<00:00,  2.15it/s]\n"
     ]
    }
   ],
   "source": [
    "url = \"https://en.wikipedia.org/wiki/List_of_S%26P_500_companies\"\n",
    "sp500_table = pd.read_html(url)[0]  # First table contains S&P 500 tickers\n",
    "\n",
    "# Keep only the columns of interest\n",
    "sp500_table = sp500_table[[\"Symbol\"]]\n",
    "sp500_list = sp500_table['Symbol'].to_list()\n",
    "\n",
    "data = []\n",
    "progress = 0\n",
    "st.markdown(\"Loading Data...\")\n",
    "for ticker in tqdm(sp500_list):\n",
    "    stock = yf.Ticker(ticker)\n",
    "    \n",
    "    # Extract relevant financial metrics\n",
    "    try:\n",
    "        market_cap = stock.info[\"marketCap\"]\n",
    "        revenue_growth = stock.info.get(\"revenueGrowth\", None)\n",
    "        earningsGrowth = stock.info.get(\"earningsGrowth\", None)\n",
    "        enterpriseToEbitda = stock.info.get(\"earningsGrowth\", None)\n",
    "        enterpriseToRevenue  = stock.info.get(\"earningsGrowth\", None)\n",
    "        ebitda_margin = stock.info.get(\"ebitdaMargins\", None)\n",
    "        operatingMargins = stock.info.get(\"operatingMargins\", None)\n",
    "        de = stock.info.get(\"debtToEquity\", None)\n",
    "        pe = stock.info.get(\"trailingPE\", None)\n",
    "        roe = stock.info.get(\"returnOnEquity\", None)\n",
    "        roa = stock.info.get(\"returnOnAssets\", None)\n",
    "        industry = stock.info.get(\"industryKey\", None)\n",
    "        sector = stock.info.get(\"sectorKey\", None)\n",
    "        longname = stock.info.get(\"longName\", None)\n",
    "        \n",
    "        data.append([ticker,market_cap,revenue_growth,earningsGrowth,enterpriseToEbitda,enterpriseToRevenue,ebitda_margin,operatingMargins,de, pe, roe,roa,industry,sector, longname ])\n",
    "        progress = progress+(1/len(sp500_list))\n",
    "    \n",
    "    except Exception as e:\n",
    "        print(f\"Error fetching data for {ticker}: {e}\")\n",
    "    #time.sleep(0.5)\n",
    "\n"
   ]
  },
  {
   "cell_type": "code",
   "execution_count": 735,
   "metadata": {},
   "outputs": [],
   "source": [
    "df = pd.DataFrame(data, columns=['Company', 'Market Cap', 'Rev Growth', 'NI Growth', 'EV/EBITDA', 'EV/Rev', 'EBITDA Margin', 'Operating Margin', 'Debt/Equity', 'PE', 'ROE','ROA', 'Industry', 'Sector', 'Name'])"
   ]
  },
  {
   "cell_type": "code",
   "execution_count": 736,
   "metadata": {},
   "outputs": [
    {
     "data": {
      "text/html": [
       "<div>\n",
       "<style scoped>\n",
       "    .dataframe tbody tr th:only-of-type {\n",
       "        vertical-align: middle;\n",
       "    }\n",
       "\n",
       "    .dataframe tbody tr th {\n",
       "        vertical-align: top;\n",
       "    }\n",
       "\n",
       "    .dataframe thead th {\n",
       "        text-align: right;\n",
       "    }\n",
       "</style>\n",
       "<table border=\"1\" class=\"dataframe\">\n",
       "  <thead>\n",
       "    <tr style=\"text-align: right;\">\n",
       "      <th></th>\n",
       "      <th>Company</th>\n",
       "      <th>Market Cap</th>\n",
       "      <th>Rev Growth</th>\n",
       "      <th>NI Growth</th>\n",
       "      <th>EV/EBITDA</th>\n",
       "      <th>EV/Rev</th>\n",
       "      <th>EBITDA Margin</th>\n",
       "      <th>Operating Margin</th>\n",
       "      <th>Debt/Equity</th>\n",
       "      <th>PE</th>\n",
       "      <th>ROE</th>\n",
       "      <th>ROA</th>\n",
       "      <th>Industry</th>\n",
       "      <th>Sector</th>\n",
       "      <th>Name</th>\n",
       "    </tr>\n",
       "  </thead>\n",
       "  <tbody>\n",
       "    <tr>\n",
       "      <th>0</th>\n",
       "      <td>MMM</td>\n",
       "      <td>82694529024</td>\n",
       "      <td>0.004</td>\n",
       "      <td>NaN</td>\n",
       "      <td>NaN</td>\n",
       "      <td>NaN</td>\n",
       "      <td>0.24870</td>\n",
       "      <td>0.21433</td>\n",
       "      <td>295.441</td>\n",
       "      <td>20.951859</td>\n",
       "      <td>1.13294</td>\n",
       "      <td>0.09032</td>\n",
       "      <td>conglomerates</td>\n",
       "      <td>industrials</td>\n",
       "      <td>3M Company</td>\n",
       "    </tr>\n",
       "    <tr>\n",
       "      <th>1</th>\n",
       "      <td>AOS</td>\n",
       "      <td>9498622976</td>\n",
       "      <td>-0.037</td>\n",
       "      <td>-0.089</td>\n",
       "      <td>-0.089</td>\n",
       "      <td>-0.089</td>\n",
       "      <td>0.20779</td>\n",
       "      <td>0.17793</td>\n",
       "      <td>7.471</td>\n",
       "      <td>18.046831</td>\n",
       "      <td>0.29544</td>\n",
       "      <td>0.14337</td>\n",
       "      <td>specialty-industrial-machinery</td>\n",
       "      <td>industrials</td>\n",
       "      <td>A. O. Smith Corporation</td>\n",
       "    </tr>\n",
       "    <tr>\n",
       "      <th>2</th>\n",
       "      <td>ABT</td>\n",
       "      <td>222392467456</td>\n",
       "      <td>0.049</td>\n",
       "      <td>0.146</td>\n",
       "      <td>0.146</td>\n",
       "      <td>0.146</td>\n",
       "      <td>0.26263</td>\n",
       "      <td>0.18749</td>\n",
       "      <td>37.589</td>\n",
       "      <td>16.782722</td>\n",
       "      <td>0.14840</td>\n",
       "      <td>0.06488</td>\n",
       "      <td>medical-devices</td>\n",
       "      <td>healthcare</td>\n",
       "      <td>Abbott Laboratories</td>\n",
       "    </tr>\n",
       "    <tr>\n",
       "      <th>3</th>\n",
       "      <td>ABBV</td>\n",
       "      <td>341005008896</td>\n",
       "      <td>0.038</td>\n",
       "      <td>-0.123</td>\n",
       "      <td>-0.123</td>\n",
       "      <td>-0.123</td>\n",
       "      <td>0.46153</td>\n",
       "      <td>0.28928</td>\n",
       "      <td>1174.815</td>\n",
       "      <td>80.740585</td>\n",
       "      <td>0.56407</td>\n",
       "      <td>0.07720</td>\n",
       "      <td>drug-manufacturers-general</td>\n",
       "      <td>healthcare</td>\n",
       "      <td>AbbVie Inc.</td>\n",
       "    </tr>\n",
       "    <tr>\n",
       "      <th>4</th>\n",
       "      <td>ACN</td>\n",
       "      <td>242273419264</td>\n",
       "      <td>0.026</td>\n",
       "      <td>0.236</td>\n",
       "      <td>0.236</td>\n",
       "      <td>0.236</td>\n",
       "      <td>0.17052</td>\n",
       "      <td>0.14597</td>\n",
       "      <td>14.127</td>\n",
       "      <td>32.467728</td>\n",
       "      <td>0.26675</td>\n",
       "      <td>0.11627</td>\n",
       "      <td>information-technology-services</td>\n",
       "      <td>technology</td>\n",
       "      <td>Accenture plc</td>\n",
       "    </tr>\n",
       "    <tr>\n",
       "      <th>...</th>\n",
       "      <td>...</td>\n",
       "      <td>...</td>\n",
       "      <td>...</td>\n",
       "      <td>...</td>\n",
       "      <td>...</td>\n",
       "      <td>...</td>\n",
       "      <td>...</td>\n",
       "      <td>...</td>\n",
       "      <td>...</td>\n",
       "      <td>...</td>\n",
       "      <td>...</td>\n",
       "      <td>...</td>\n",
       "      <td>...</td>\n",
       "      <td>...</td>\n",
       "      <td>...</td>\n",
       "    </tr>\n",
       "    <tr>\n",
       "      <th>496</th>\n",
       "      <td>XYL</td>\n",
       "      <td>31927830528</td>\n",
       "      <td>0.013</td>\n",
       "      <td>0.413</td>\n",
       "      <td>0.413</td>\n",
       "      <td>0.413</td>\n",
       "      <td>0.20050</td>\n",
       "      <td>0.13498</td>\n",
       "      <td>19.840</td>\n",
       "      <td>36.005478</td>\n",
       "      <td>0.08081</td>\n",
       "      <td>0.04429</td>\n",
       "      <td>specialty-industrial-machinery</td>\n",
       "      <td>industrials</td>\n",
       "      <td>Xylem Inc.</td>\n",
       "    </tr>\n",
       "    <tr>\n",
       "      <th>497</th>\n",
       "      <td>YUM</td>\n",
       "      <td>40189157376</td>\n",
       "      <td>0.069</td>\n",
       "      <td>-0.075</td>\n",
       "      <td>-0.075</td>\n",
       "      <td>-0.075</td>\n",
       "      <td>0.36107</td>\n",
       "      <td>0.34447</td>\n",
       "      <td>NaN</td>\n",
       "      <td>27.641073</td>\n",
       "      <td>NaN</td>\n",
       "      <td>0.24328</td>\n",
       "      <td>restaurants</td>\n",
       "      <td>consumer-cyclical</td>\n",
       "      <td>Yum! Brands, Inc.</td>\n",
       "    </tr>\n",
       "    <tr>\n",
       "      <th>498</th>\n",
       "      <td>ZBRA</td>\n",
       "      <td>19435343872</td>\n",
       "      <td>0.313</td>\n",
       "      <td>NaN</td>\n",
       "      <td>NaN</td>\n",
       "      <td>NaN</td>\n",
       "      <td>0.17247</td>\n",
       "      <td>0.15618</td>\n",
       "      <td>69.307</td>\n",
       "      <td>51.265305</td>\n",
       "      <td>0.11874</td>\n",
       "      <td>0.05234</td>\n",
       "      <td>communication-equipment</td>\n",
       "      <td>technology</td>\n",
       "      <td>Zebra Technologies Corporation</td>\n",
       "    </tr>\n",
       "    <tr>\n",
       "      <th>499</th>\n",
       "      <td>ZBH</td>\n",
       "      <td>20442908672</td>\n",
       "      <td>0.040</td>\n",
       "      <td>0.597</td>\n",
       "      <td>0.597</td>\n",
       "      <td>0.597</td>\n",
       "      <td>0.33670</td>\n",
       "      <td>0.17997</td>\n",
       "      <td>53.611</td>\n",
       "      <td>23.180588</td>\n",
       "      <td>0.08713</td>\n",
       "      <td>0.04610</td>\n",
       "      <td>medical-devices</td>\n",
       "      <td>healthcare</td>\n",
       "      <td>Zimmer Biomet Holdings, Inc.</td>\n",
       "    </tr>\n",
       "    <tr>\n",
       "      <th>500</th>\n",
       "      <td>ZTS</td>\n",
       "      <td>78556848128</td>\n",
       "      <td>0.110</td>\n",
       "      <td>0.163</td>\n",
       "      <td>0.163</td>\n",
       "      <td>0.163</td>\n",
       "      <td>0.41128</td>\n",
       "      <td>0.38526</td>\n",
       "      <td>129.442</td>\n",
       "      <td>32.667915</td>\n",
       "      <td>0.47303</td>\n",
       "      <td>0.14664</td>\n",
       "      <td>drug-manufacturers-specialty-generic</td>\n",
       "      <td>healthcare</td>\n",
       "      <td>Zoetis Inc.</td>\n",
       "    </tr>\n",
       "  </tbody>\n",
       "</table>\n",
       "<p>501 rows × 15 columns</p>\n",
       "</div>"
      ],
      "text/plain": [
       "    Company    Market Cap  Rev Growth  NI Growth  EV/EBITDA  EV/Rev  \\\n",
       "0       MMM   82694529024       0.004        NaN        NaN     NaN   \n",
       "1       AOS    9498622976      -0.037     -0.089     -0.089  -0.089   \n",
       "2       ABT  222392467456       0.049      0.146      0.146   0.146   \n",
       "3      ABBV  341005008896       0.038     -0.123     -0.123  -0.123   \n",
       "4       ACN  242273419264       0.026      0.236      0.236   0.236   \n",
       "..      ...           ...         ...        ...        ...     ...   \n",
       "496     XYL   31927830528       0.013      0.413      0.413   0.413   \n",
       "497     YUM   40189157376       0.069     -0.075     -0.075  -0.075   \n",
       "498    ZBRA   19435343872       0.313        NaN        NaN     NaN   \n",
       "499     ZBH   20442908672       0.040      0.597      0.597   0.597   \n",
       "500     ZTS   78556848128       0.110      0.163      0.163   0.163   \n",
       "\n",
       "     EBITDA Margin  Operating Margin  Debt/Equity         PE      ROE  \\\n",
       "0          0.24870           0.21433      295.441  20.951859  1.13294   \n",
       "1          0.20779           0.17793        7.471  18.046831  0.29544   \n",
       "2          0.26263           0.18749       37.589  16.782722  0.14840   \n",
       "3          0.46153           0.28928     1174.815  80.740585  0.56407   \n",
       "4          0.17052           0.14597       14.127  32.467728  0.26675   \n",
       "..             ...               ...          ...        ...      ...   \n",
       "496        0.20050           0.13498       19.840  36.005478  0.08081   \n",
       "497        0.36107           0.34447          NaN  27.641073      NaN   \n",
       "498        0.17247           0.15618       69.307  51.265305  0.11874   \n",
       "499        0.33670           0.17997       53.611  23.180588  0.08713   \n",
       "500        0.41128           0.38526      129.442  32.667915  0.47303   \n",
       "\n",
       "         ROA                              Industry             Sector  \\\n",
       "0    0.09032                         conglomerates        industrials   \n",
       "1    0.14337        specialty-industrial-machinery        industrials   \n",
       "2    0.06488                       medical-devices         healthcare   \n",
       "3    0.07720            drug-manufacturers-general         healthcare   \n",
       "4    0.11627       information-technology-services         technology   \n",
       "..       ...                                   ...                ...   \n",
       "496  0.04429        specialty-industrial-machinery        industrials   \n",
       "497  0.24328                           restaurants  consumer-cyclical   \n",
       "498  0.05234               communication-equipment         technology   \n",
       "499  0.04610                       medical-devices         healthcare   \n",
       "500  0.14664  drug-manufacturers-specialty-generic         healthcare   \n",
       "\n",
       "                               Name  \n",
       "0                        3M Company  \n",
       "1           A. O. Smith Corporation  \n",
       "2               Abbott Laboratories  \n",
       "3                       AbbVie Inc.  \n",
       "4                     Accenture plc  \n",
       "..                              ...  \n",
       "496                      Xylem Inc.  \n",
       "497               Yum! Brands, Inc.  \n",
       "498  Zebra Technologies Corporation  \n",
       "499    Zimmer Biomet Holdings, Inc.  \n",
       "500                     Zoetis Inc.  \n",
       "\n",
       "[501 rows x 15 columns]"
      ]
     },
     "execution_count": 736,
     "metadata": {},
     "output_type": "execute_result"
    }
   ],
   "source": [
    "df"
   ]
  },
  {
   "cell_type": "code",
   "execution_count": 737,
   "metadata": {},
   "outputs": [
    {
     "data": {
      "text/html": [
       "<div>\n",
       "<style scoped>\n",
       "    .dataframe tbody tr th:only-of-type {\n",
       "        vertical-align: middle;\n",
       "    }\n",
       "\n",
       "    .dataframe tbody tr th {\n",
       "        vertical-align: top;\n",
       "    }\n",
       "\n",
       "    .dataframe thead th {\n",
       "        text-align: right;\n",
       "    }\n",
       "</style>\n",
       "<table border=\"1\" class=\"dataframe\">\n",
       "  <thead>\n",
       "    <tr style=\"text-align: right;\">\n",
       "      <th></th>\n",
       "      <th>Company</th>\n",
       "      <th>Market Cap</th>\n",
       "      <th>Rev Growth</th>\n",
       "      <th>NI Growth</th>\n",
       "      <th>EV/EBITDA</th>\n",
       "      <th>EV/Rev</th>\n",
       "      <th>EBITDA Margin</th>\n",
       "      <th>Operating Margin</th>\n",
       "      <th>Debt/Equity</th>\n",
       "      <th>PE</th>\n",
       "      <th>ROE</th>\n",
       "      <th>ROA</th>\n",
       "      <th>Industry</th>\n",
       "      <th>Sector</th>\n",
       "      <th>Name</th>\n",
       "    </tr>\n",
       "  </thead>\n",
       "  <tbody>\n",
       "    <tr>\n",
       "      <th>0</th>\n",
       "      <td>AOS</td>\n",
       "      <td>9498622976</td>\n",
       "      <td>-0.037</td>\n",
       "      <td>-0.089</td>\n",
       "      <td>-0.089</td>\n",
       "      <td>-0.089</td>\n",
       "      <td>0.20779</td>\n",
       "      <td>0.17793</td>\n",
       "      <td>7.471</td>\n",
       "      <td>18.046831</td>\n",
       "      <td>0.29544</td>\n",
       "      <td>0.14337</td>\n",
       "      <td>specialty-industrial-machinery</td>\n",
       "      <td>industrials</td>\n",
       "      <td>A. O. Smith Corporation</td>\n",
       "    </tr>\n",
       "    <tr>\n",
       "      <th>1</th>\n",
       "      <td>ABT</td>\n",
       "      <td>222392467456</td>\n",
       "      <td>0.049</td>\n",
       "      <td>0.146</td>\n",
       "      <td>0.146</td>\n",
       "      <td>0.146</td>\n",
       "      <td>0.26263</td>\n",
       "      <td>0.18749</td>\n",
       "      <td>37.589</td>\n",
       "      <td>16.782722</td>\n",
       "      <td>0.14840</td>\n",
       "      <td>0.06488</td>\n",
       "      <td>medical-devices</td>\n",
       "      <td>healthcare</td>\n",
       "      <td>Abbott Laboratories</td>\n",
       "    </tr>\n",
       "    <tr>\n",
       "      <th>2</th>\n",
       "      <td>ABBV</td>\n",
       "      <td>341005008896</td>\n",
       "      <td>0.038</td>\n",
       "      <td>-0.123</td>\n",
       "      <td>-0.123</td>\n",
       "      <td>-0.123</td>\n",
       "      <td>0.46153</td>\n",
       "      <td>0.28928</td>\n",
       "      <td>1174.815</td>\n",
       "      <td>80.740585</td>\n",
       "      <td>0.56407</td>\n",
       "      <td>0.07720</td>\n",
       "      <td>drug-manufacturers-general</td>\n",
       "      <td>healthcare</td>\n",
       "      <td>AbbVie Inc.</td>\n",
       "    </tr>\n",
       "    <tr>\n",
       "      <th>3</th>\n",
       "      <td>ACN</td>\n",
       "      <td>242273419264</td>\n",
       "      <td>0.026</td>\n",
       "      <td>0.236</td>\n",
       "      <td>0.236</td>\n",
       "      <td>0.236</td>\n",
       "      <td>0.17052</td>\n",
       "      <td>0.14597</td>\n",
       "      <td>14.127</td>\n",
       "      <td>32.467728</td>\n",
       "      <td>0.26675</td>\n",
       "      <td>0.11627</td>\n",
       "      <td>information-technology-services</td>\n",
       "      <td>technology</td>\n",
       "      <td>Accenture plc</td>\n",
       "    </tr>\n",
       "    <tr>\n",
       "      <th>4</th>\n",
       "      <td>ADBE</td>\n",
       "      <td>189529620480</td>\n",
       "      <td>0.106</td>\n",
       "      <td>0.233</td>\n",
       "      <td>0.233</td>\n",
       "      <td>0.233</td>\n",
       "      <td>0.38831</td>\n",
       "      <td>0.36834</td>\n",
       "      <td>41.788</td>\n",
       "      <td>35.198060</td>\n",
       "      <td>0.35355</td>\n",
       "      <td>0.15969</td>\n",
       "      <td>software-infrastructure</td>\n",
       "      <td>technology</td>\n",
       "      <td>Adobe Inc.</td>\n",
       "    </tr>\n",
       "    <tr>\n",
       "      <th>...</th>\n",
       "      <td>...</td>\n",
       "      <td>...</td>\n",
       "      <td>...</td>\n",
       "      <td>...</td>\n",
       "      <td>...</td>\n",
       "      <td>...</td>\n",
       "      <td>...</td>\n",
       "      <td>...</td>\n",
       "      <td>...</td>\n",
       "      <td>...</td>\n",
       "      <td>...</td>\n",
       "      <td>...</td>\n",
       "      <td>...</td>\n",
       "      <td>...</td>\n",
       "      <td>...</td>\n",
       "    </tr>\n",
       "    <tr>\n",
       "      <th>371</th>\n",
       "      <td>WDAY</td>\n",
       "      <td>73900122112</td>\n",
       "      <td>0.167</td>\n",
       "      <td>0.661</td>\n",
       "      <td>0.661</td>\n",
       "      <td>0.661</td>\n",
       "      <td>0.08089</td>\n",
       "      <td>0.05324</td>\n",
       "      <td>40.312</td>\n",
       "      <td>45.694080</td>\n",
       "      <td>0.21081</td>\n",
       "      <td>0.01426</td>\n",
       "      <td>software-application</td>\n",
       "      <td>technology</td>\n",
       "      <td>Workday, Inc.</td>\n",
       "    </tr>\n",
       "    <tr>\n",
       "      <th>372</th>\n",
       "      <td>XEL</td>\n",
       "      <td>38543122432</td>\n",
       "      <td>-0.005</td>\n",
       "      <td>0.018</td>\n",
       "      <td>0.018</td>\n",
       "      <td>0.018</td>\n",
       "      <td>0.40035</td>\n",
       "      <td>0.25165</td>\n",
       "      <td>154.330</td>\n",
       "      <td>19.511630</td>\n",
       "      <td>0.10262</td>\n",
       "      <td>0.02564</td>\n",
       "      <td>utilities-regulated-electric</td>\n",
       "      <td>utilities</td>\n",
       "      <td>Xcel Energy Inc.</td>\n",
       "    </tr>\n",
       "    <tr>\n",
       "      <th>373</th>\n",
       "      <td>XYL</td>\n",
       "      <td>31927830528</td>\n",
       "      <td>0.013</td>\n",
       "      <td>0.413</td>\n",
       "      <td>0.413</td>\n",
       "      <td>0.413</td>\n",
       "      <td>0.20050</td>\n",
       "      <td>0.13498</td>\n",
       "      <td>19.840</td>\n",
       "      <td>36.005478</td>\n",
       "      <td>0.08081</td>\n",
       "      <td>0.04429</td>\n",
       "      <td>specialty-industrial-machinery</td>\n",
       "      <td>industrials</td>\n",
       "      <td>Xylem Inc.</td>\n",
       "    </tr>\n",
       "    <tr>\n",
       "      <th>374</th>\n",
       "      <td>ZBH</td>\n",
       "      <td>20442908672</td>\n",
       "      <td>0.040</td>\n",
       "      <td>0.597</td>\n",
       "      <td>0.597</td>\n",
       "      <td>0.597</td>\n",
       "      <td>0.33670</td>\n",
       "      <td>0.17997</td>\n",
       "      <td>53.611</td>\n",
       "      <td>23.180588</td>\n",
       "      <td>0.08713</td>\n",
       "      <td>0.04610</td>\n",
       "      <td>medical-devices</td>\n",
       "      <td>healthcare</td>\n",
       "      <td>Zimmer Biomet Holdings, Inc.</td>\n",
       "    </tr>\n",
       "    <tr>\n",
       "      <th>375</th>\n",
       "      <td>ZTS</td>\n",
       "      <td>78556848128</td>\n",
       "      <td>0.110</td>\n",
       "      <td>0.163</td>\n",
       "      <td>0.163</td>\n",
       "      <td>0.163</td>\n",
       "      <td>0.41128</td>\n",
       "      <td>0.38526</td>\n",
       "      <td>129.442</td>\n",
       "      <td>32.667915</td>\n",
       "      <td>0.47303</td>\n",
       "      <td>0.14664</td>\n",
       "      <td>drug-manufacturers-specialty-generic</td>\n",
       "      <td>healthcare</td>\n",
       "      <td>Zoetis Inc.</td>\n",
       "    </tr>\n",
       "  </tbody>\n",
       "</table>\n",
       "<p>376 rows × 15 columns</p>\n",
       "</div>"
      ],
      "text/plain": [
       "    Company    Market Cap  Rev Growth  NI Growth  EV/EBITDA  EV/Rev  \\\n",
       "0       AOS    9498622976      -0.037     -0.089     -0.089  -0.089   \n",
       "1       ABT  222392467456       0.049      0.146      0.146   0.146   \n",
       "2      ABBV  341005008896       0.038     -0.123     -0.123  -0.123   \n",
       "3       ACN  242273419264       0.026      0.236      0.236   0.236   \n",
       "4      ADBE  189529620480       0.106      0.233      0.233   0.233   \n",
       "..      ...           ...         ...        ...        ...     ...   \n",
       "371    WDAY   73900122112       0.167      0.661      0.661   0.661   \n",
       "372     XEL   38543122432      -0.005      0.018      0.018   0.018   \n",
       "373     XYL   31927830528       0.013      0.413      0.413   0.413   \n",
       "374     ZBH   20442908672       0.040      0.597      0.597   0.597   \n",
       "375     ZTS   78556848128       0.110      0.163      0.163   0.163   \n",
       "\n",
       "     EBITDA Margin  Operating Margin  Debt/Equity         PE      ROE  \\\n",
       "0          0.20779           0.17793        7.471  18.046831  0.29544   \n",
       "1          0.26263           0.18749       37.589  16.782722  0.14840   \n",
       "2          0.46153           0.28928     1174.815  80.740585  0.56407   \n",
       "3          0.17052           0.14597       14.127  32.467728  0.26675   \n",
       "4          0.38831           0.36834       41.788  35.198060  0.35355   \n",
       "..             ...               ...          ...        ...      ...   \n",
       "371        0.08089           0.05324       40.312  45.694080  0.21081   \n",
       "372        0.40035           0.25165      154.330  19.511630  0.10262   \n",
       "373        0.20050           0.13498       19.840  36.005478  0.08081   \n",
       "374        0.33670           0.17997       53.611  23.180588  0.08713   \n",
       "375        0.41128           0.38526      129.442  32.667915  0.47303   \n",
       "\n",
       "         ROA                              Industry       Sector  \\\n",
       "0    0.14337        specialty-industrial-machinery  industrials   \n",
       "1    0.06488                       medical-devices   healthcare   \n",
       "2    0.07720            drug-manufacturers-general   healthcare   \n",
       "3    0.11627       information-technology-services   technology   \n",
       "4    0.15969               software-infrastructure   technology   \n",
       "..       ...                                   ...          ...   \n",
       "371  0.01426                  software-application   technology   \n",
       "372  0.02564          utilities-regulated-electric    utilities   \n",
       "373  0.04429        specialty-industrial-machinery  industrials   \n",
       "374  0.04610                       medical-devices   healthcare   \n",
       "375  0.14664  drug-manufacturers-specialty-generic   healthcare   \n",
       "\n",
       "                             Name  \n",
       "0         A. O. Smith Corporation  \n",
       "1             Abbott Laboratories  \n",
       "2                     AbbVie Inc.  \n",
       "3                   Accenture plc  \n",
       "4                      Adobe Inc.  \n",
       "..                            ...  \n",
       "371                 Workday, Inc.  \n",
       "372              Xcel Energy Inc.  \n",
       "373                    Xylem Inc.  \n",
       "374  Zimmer Biomet Holdings, Inc.  \n",
       "375                   Zoetis Inc.  \n",
       "\n",
       "[376 rows x 15 columns]"
      ]
     },
     "execution_count": 737,
     "metadata": {},
     "output_type": "execute_result"
    }
   ],
   "source": [
    "df_no_nan = df.dropna()\n",
    "df_no_nan = df_no_nan.reset_index(drop=True)\n",
    "df_no_nan"
   ]
  },
  {
   "cell_type": "code",
   "execution_count": 738,
   "metadata": {},
   "outputs": [
    {
     "data": {
      "text/html": [
       "<div>\n",
       "<style scoped>\n",
       "    .dataframe tbody tr th:only-of-type {\n",
       "        vertical-align: middle;\n",
       "    }\n",
       "\n",
       "    .dataframe tbody tr th {\n",
       "        vertical-align: top;\n",
       "    }\n",
       "\n",
       "    .dataframe thead th {\n",
       "        text-align: right;\n",
       "    }\n",
       "</style>\n",
       "<table border=\"1\" class=\"dataframe\">\n",
       "  <thead>\n",
       "    <tr style=\"text-align: right;\">\n",
       "      <th></th>\n",
       "      <th>Market Cap</th>\n",
       "      <th>Rev Growth</th>\n",
       "      <th>NI Growth</th>\n",
       "      <th>EV/EBITDA</th>\n",
       "      <th>EV/Rev</th>\n",
       "      <th>EBITDA Margin</th>\n",
       "      <th>Operating Margin</th>\n",
       "      <th>Debt/Equity</th>\n",
       "      <th>PE</th>\n",
       "      <th>ROE</th>\n",
       "      <th>ROA</th>\n",
       "    </tr>\n",
       "  </thead>\n",
       "  <tbody>\n",
       "    <tr>\n",
       "      <th>0</th>\n",
       "      <td>9498622976</td>\n",
       "      <td>-0.037</td>\n",
       "      <td>-0.089</td>\n",
       "      <td>-0.089</td>\n",
       "      <td>-0.089</td>\n",
       "      <td>0.20779</td>\n",
       "      <td>0.17793</td>\n",
       "      <td>7.471</td>\n",
       "      <td>18.046831</td>\n",
       "      <td>0.29544</td>\n",
       "      <td>0.14337</td>\n",
       "    </tr>\n",
       "    <tr>\n",
       "      <th>1</th>\n",
       "      <td>222392467456</td>\n",
       "      <td>0.049</td>\n",
       "      <td>0.146</td>\n",
       "      <td>0.146</td>\n",
       "      <td>0.146</td>\n",
       "      <td>0.26263</td>\n",
       "      <td>0.18749</td>\n",
       "      <td>37.589</td>\n",
       "      <td>16.782722</td>\n",
       "      <td>0.14840</td>\n",
       "      <td>0.06488</td>\n",
       "    </tr>\n",
       "    <tr>\n",
       "      <th>2</th>\n",
       "      <td>341005008896</td>\n",
       "      <td>0.038</td>\n",
       "      <td>-0.123</td>\n",
       "      <td>-0.123</td>\n",
       "      <td>-0.123</td>\n",
       "      <td>0.46153</td>\n",
       "      <td>0.28928</td>\n",
       "      <td>1174.815</td>\n",
       "      <td>80.740585</td>\n",
       "      <td>0.56407</td>\n",
       "      <td>0.07720</td>\n",
       "    </tr>\n",
       "    <tr>\n",
       "      <th>3</th>\n",
       "      <td>242273419264</td>\n",
       "      <td>0.026</td>\n",
       "      <td>0.236</td>\n",
       "      <td>0.236</td>\n",
       "      <td>0.236</td>\n",
       "      <td>0.17052</td>\n",
       "      <td>0.14597</td>\n",
       "      <td>14.127</td>\n",
       "      <td>32.467728</td>\n",
       "      <td>0.26675</td>\n",
       "      <td>0.11627</td>\n",
       "    </tr>\n",
       "    <tr>\n",
       "      <th>4</th>\n",
       "      <td>189529620480</td>\n",
       "      <td>0.106</td>\n",
       "      <td>0.233</td>\n",
       "      <td>0.233</td>\n",
       "      <td>0.233</td>\n",
       "      <td>0.38831</td>\n",
       "      <td>0.36834</td>\n",
       "      <td>41.788</td>\n",
       "      <td>35.198060</td>\n",
       "      <td>0.35355</td>\n",
       "      <td>0.15969</td>\n",
       "    </tr>\n",
       "    <tr>\n",
       "      <th>...</th>\n",
       "      <td>...</td>\n",
       "      <td>...</td>\n",
       "      <td>...</td>\n",
       "      <td>...</td>\n",
       "      <td>...</td>\n",
       "      <td>...</td>\n",
       "      <td>...</td>\n",
       "      <td>...</td>\n",
       "      <td>...</td>\n",
       "      <td>...</td>\n",
       "      <td>...</td>\n",
       "    </tr>\n",
       "    <tr>\n",
       "      <th>371</th>\n",
       "      <td>73900122112</td>\n",
       "      <td>0.167</td>\n",
       "      <td>0.661</td>\n",
       "      <td>0.661</td>\n",
       "      <td>0.661</td>\n",
       "      <td>0.08089</td>\n",
       "      <td>0.05324</td>\n",
       "      <td>40.312</td>\n",
       "      <td>45.694080</td>\n",
       "      <td>0.21081</td>\n",
       "      <td>0.01426</td>\n",
       "    </tr>\n",
       "    <tr>\n",
       "      <th>372</th>\n",
       "      <td>38543122432</td>\n",
       "      <td>-0.005</td>\n",
       "      <td>0.018</td>\n",
       "      <td>0.018</td>\n",
       "      <td>0.018</td>\n",
       "      <td>0.40035</td>\n",
       "      <td>0.25165</td>\n",
       "      <td>154.330</td>\n",
       "      <td>19.511630</td>\n",
       "      <td>0.10262</td>\n",
       "      <td>0.02564</td>\n",
       "    </tr>\n",
       "    <tr>\n",
       "      <th>373</th>\n",
       "      <td>31927830528</td>\n",
       "      <td>0.013</td>\n",
       "      <td>0.413</td>\n",
       "      <td>0.413</td>\n",
       "      <td>0.413</td>\n",
       "      <td>0.20050</td>\n",
       "      <td>0.13498</td>\n",
       "      <td>19.840</td>\n",
       "      <td>36.005478</td>\n",
       "      <td>0.08081</td>\n",
       "      <td>0.04429</td>\n",
       "    </tr>\n",
       "    <tr>\n",
       "      <th>374</th>\n",
       "      <td>20442908672</td>\n",
       "      <td>0.040</td>\n",
       "      <td>0.597</td>\n",
       "      <td>0.597</td>\n",
       "      <td>0.597</td>\n",
       "      <td>0.33670</td>\n",
       "      <td>0.17997</td>\n",
       "      <td>53.611</td>\n",
       "      <td>23.180588</td>\n",
       "      <td>0.08713</td>\n",
       "      <td>0.04610</td>\n",
       "    </tr>\n",
       "    <tr>\n",
       "      <th>375</th>\n",
       "      <td>78556848128</td>\n",
       "      <td>0.110</td>\n",
       "      <td>0.163</td>\n",
       "      <td>0.163</td>\n",
       "      <td>0.163</td>\n",
       "      <td>0.41128</td>\n",
       "      <td>0.38526</td>\n",
       "      <td>129.442</td>\n",
       "      <td>32.667915</td>\n",
       "      <td>0.47303</td>\n",
       "      <td>0.14664</td>\n",
       "    </tr>\n",
       "  </tbody>\n",
       "</table>\n",
       "<p>376 rows × 11 columns</p>\n",
       "</div>"
      ],
      "text/plain": [
       "       Market Cap  Rev Growth  NI Growth  EV/EBITDA  EV/Rev  EBITDA Margin  \\\n",
       "0      9498622976      -0.037     -0.089     -0.089  -0.089        0.20779   \n",
       "1    222392467456       0.049      0.146      0.146   0.146        0.26263   \n",
       "2    341005008896       0.038     -0.123     -0.123  -0.123        0.46153   \n",
       "3    242273419264       0.026      0.236      0.236   0.236        0.17052   \n",
       "4    189529620480       0.106      0.233      0.233   0.233        0.38831   \n",
       "..            ...         ...        ...        ...     ...            ...   \n",
       "371   73900122112       0.167      0.661      0.661   0.661        0.08089   \n",
       "372   38543122432      -0.005      0.018      0.018   0.018        0.40035   \n",
       "373   31927830528       0.013      0.413      0.413   0.413        0.20050   \n",
       "374   20442908672       0.040      0.597      0.597   0.597        0.33670   \n",
       "375   78556848128       0.110      0.163      0.163   0.163        0.41128   \n",
       "\n",
       "     Operating Margin  Debt/Equity         PE      ROE      ROA  \n",
       "0             0.17793        7.471  18.046831  0.29544  0.14337  \n",
       "1             0.18749       37.589  16.782722  0.14840  0.06488  \n",
       "2             0.28928     1174.815  80.740585  0.56407  0.07720  \n",
       "3             0.14597       14.127  32.467728  0.26675  0.11627  \n",
       "4             0.36834       41.788  35.198060  0.35355  0.15969  \n",
       "..                ...          ...        ...      ...      ...  \n",
       "371           0.05324       40.312  45.694080  0.21081  0.01426  \n",
       "372           0.25165      154.330  19.511630  0.10262  0.02564  \n",
       "373           0.13498       19.840  36.005478  0.08081  0.04429  \n",
       "374           0.17997       53.611  23.180588  0.08713  0.04610  \n",
       "375           0.38526      129.442  32.667915  0.47303  0.14664  \n",
       "\n",
       "[376 rows x 11 columns]"
      ]
     },
     "execution_count": 738,
     "metadata": {},
     "output_type": "execute_result"
    }
   ],
   "source": [
    "df_numeric = df_no_nan.drop(columns=[\"Company\", \"Industry\", \"Sector\", \"Name\"])\n",
    "df_numeric"
   ]
  },
  {
   "cell_type": "code",
   "execution_count": 739,
   "metadata": {},
   "outputs": [
    {
     "data": {
      "text/plain": [
       "array([[-0.29822088, -0.71864796, -0.28556118, ..., -0.25863331,\n",
       "        -0.06072772,  1.38152902],\n",
       "       [ 0.26125562, -0.09930945, -0.13249691, ..., -0.2728396 ,\n",
       "        -0.24187626, -0.12428141],\n",
       "       [ 0.57296463, -0.17852716, -0.30770665, ...,  0.44593095,\n",
       "         0.27021571,  0.11207454],\n",
       "       ...,\n",
       "       [-0.23927782, -0.35856743,  0.04141016, ..., -0.05681064,\n",
       "        -0.32514496, -0.51929526],\n",
       "       [-0.26945973, -0.16412394,  0.16125622, ..., -0.20093918,\n",
       "        -0.31735892, -0.48457087],\n",
       "       [-0.11673862,  0.33998881, -0.12142417, ..., -0.0943188 ,\n",
       "         0.15805738,  1.44426312]])"
      ]
     },
     "execution_count": 739,
     "metadata": {},
     "output_type": "execute_result"
    }
   ],
   "source": [
    "scaler = StandardScaler()\n",
    "np_scaled = scaler.fit_transform(df_numeric)\n",
    "np_scaled"
   ]
  },
  {
   "cell_type": "code",
   "execution_count": 740,
   "metadata": {},
   "outputs": [
    {
     "data": {
      "text/html": [
       "<div>\n",
       "<style scoped>\n",
       "    .dataframe tbody tr th:only-of-type {\n",
       "        vertical-align: middle;\n",
       "    }\n",
       "\n",
       "    .dataframe tbody tr th {\n",
       "        vertical-align: top;\n",
       "    }\n",
       "\n",
       "    .dataframe thead th {\n",
       "        text-align: right;\n",
       "    }\n",
       "</style>\n",
       "<table border=\"1\" class=\"dataframe\">\n",
       "  <thead>\n",
       "    <tr style=\"text-align: right;\">\n",
       "      <th></th>\n",
       "      <th>Company</th>\n",
       "      <th>Name</th>\n",
       "      <th>Sector</th>\n",
       "      <th>Industry</th>\n",
       "      <th>Market Cap</th>\n",
       "      <th>Rev Growth</th>\n",
       "      <th>NI Growth</th>\n",
       "      <th>EV/EBITDA</th>\n",
       "      <th>EV/Rev</th>\n",
       "      <th>EBITDA Margin</th>\n",
       "      <th>Operating Margin</th>\n",
       "      <th>Debt/Equity</th>\n",
       "      <th>PE</th>\n",
       "      <th>ROE</th>\n",
       "      <th>ROA</th>\n",
       "    </tr>\n",
       "  </thead>\n",
       "  <tbody>\n",
       "    <tr>\n",
       "      <th>0</th>\n",
       "      <td>AOS</td>\n",
       "      <td>A. O. Smith Corporation</td>\n",
       "      <td>industrials</td>\n",
       "      <td>specialty-industrial-machinery</td>\n",
       "      <td>-0.298221</td>\n",
       "      <td>-0.718648</td>\n",
       "      <td>-0.285561</td>\n",
       "      <td>-0.285561</td>\n",
       "      <td>-0.285561</td>\n",
       "      <td>-0.426155</td>\n",
       "      <td>-0.257631</td>\n",
       "      <td>-0.395268</td>\n",
       "      <td>-0.258633</td>\n",
       "      <td>-0.060728</td>\n",
       "      <td>1.381529</td>\n",
       "    </tr>\n",
       "    <tr>\n",
       "      <th>1</th>\n",
       "      <td>ABT</td>\n",
       "      <td>Abbott Laboratories</td>\n",
       "      <td>healthcare</td>\n",
       "      <td>medical-devices</td>\n",
       "      <td>0.261256</td>\n",
       "      <td>-0.099309</td>\n",
       "      <td>-0.132497</td>\n",
       "      <td>-0.132497</td>\n",
       "      <td>-0.132497</td>\n",
       "      <td>-0.089361</td>\n",
       "      <td>-0.181061</td>\n",
       "      <td>-0.310251</td>\n",
       "      <td>-0.272840</td>\n",
       "      <td>-0.241876</td>\n",
       "      <td>-0.124281</td>\n",
       "    </tr>\n",
       "    <tr>\n",
       "      <th>2</th>\n",
       "      <td>ABBV</td>\n",
       "      <td>AbbVie Inc.</td>\n",
       "      <td>healthcare</td>\n",
       "      <td>drug-manufacturers-general</td>\n",
       "      <td>0.572965</td>\n",
       "      <td>-0.178527</td>\n",
       "      <td>-0.307707</td>\n",
       "      <td>-0.307707</td>\n",
       "      <td>-0.307707</td>\n",
       "      <td>1.132160</td>\n",
       "      <td>0.634215</td>\n",
       "      <td>2.899931</td>\n",
       "      <td>0.445931</td>\n",
       "      <td>0.270216</td>\n",
       "      <td>0.112075</td>\n",
       "    </tr>\n",
       "    <tr>\n",
       "      <th>3</th>\n",
       "      <td>ACN</td>\n",
       "      <td>Accenture plc</td>\n",
       "      <td>technology</td>\n",
       "      <td>information-technology-services</td>\n",
       "      <td>0.313502</td>\n",
       "      <td>-0.264946</td>\n",
       "      <td>-0.073877</td>\n",
       "      <td>-0.073877</td>\n",
       "      <td>-0.073877</td>\n",
       "      <td>-0.655044</td>\n",
       "      <td>-0.513611</td>\n",
       "      <td>-0.376480</td>\n",
       "      <td>-0.096569</td>\n",
       "      <td>-0.096073</td>\n",
       "      <td>0.861622</td>\n",
       "    </tr>\n",
       "    <tr>\n",
       "      <th>4</th>\n",
       "      <td>ADBE</td>\n",
       "      <td>Adobe Inc.</td>\n",
       "      <td>technology</td>\n",
       "      <td>software-infrastructure</td>\n",
       "      <td>0.174893</td>\n",
       "      <td>0.311182</td>\n",
       "      <td>-0.075831</td>\n",
       "      <td>-0.075831</td>\n",
       "      <td>-0.075831</td>\n",
       "      <td>0.682488</td>\n",
       "      <td>1.267438</td>\n",
       "      <td>-0.298398</td>\n",
       "      <td>-0.065885</td>\n",
       "      <td>0.010862</td>\n",
       "      <td>1.694624</td>\n",
       "    </tr>\n",
       "    <tr>\n",
       "      <th>...</th>\n",
       "      <td>...</td>\n",
       "      <td>...</td>\n",
       "      <td>...</td>\n",
       "      <td>...</td>\n",
       "      <td>...</td>\n",
       "      <td>...</td>\n",
       "      <td>...</td>\n",
       "      <td>...</td>\n",
       "      <td>...</td>\n",
       "      <td>...</td>\n",
       "      <td>...</td>\n",
       "      <td>...</td>\n",
       "      <td>...</td>\n",
       "      <td>...</td>\n",
       "      <td>...</td>\n",
       "    </tr>\n",
       "    <tr>\n",
       "      <th>371</th>\n",
       "      <td>WDAY</td>\n",
       "      <td>Workday, Inc.</td>\n",
       "      <td>technology</td>\n",
       "      <td>software-application</td>\n",
       "      <td>-0.128976</td>\n",
       "      <td>0.750481</td>\n",
       "      <td>0.202942</td>\n",
       "      <td>0.202942</td>\n",
       "      <td>0.202942</td>\n",
       "      <td>-1.205497</td>\n",
       "      <td>-1.256322</td>\n",
       "      <td>-0.302564</td>\n",
       "      <td>0.052072</td>\n",
       "      <td>-0.164989</td>\n",
       "      <td>-1.095413</td>\n",
       "    </tr>\n",
       "    <tr>\n",
       "      <th>372</th>\n",
       "      <td>XEL</td>\n",
       "      <td>Xcel Energy Inc.</td>\n",
       "      <td>utilities</td>\n",
       "      <td>utilities-regulated-electric</td>\n",
       "      <td>-0.221893</td>\n",
       "      <td>-0.488196</td>\n",
       "      <td>-0.215868</td>\n",
       "      <td>-0.215868</td>\n",
       "      <td>-0.215868</td>\n",
       "      <td>0.756430</td>\n",
       "      <td>0.332822</td>\n",
       "      <td>0.019288</td>\n",
       "      <td>-0.242172</td>\n",
       "      <td>-0.298276</td>\n",
       "      <td>-0.877091</td>\n",
       "    </tr>\n",
       "    <tr>\n",
       "      <th>373</th>\n",
       "      <td>XYL</td>\n",
       "      <td>Xylem Inc.</td>\n",
       "      <td>industrials</td>\n",
       "      <td>specialty-industrial-machinery</td>\n",
       "      <td>-0.239278</td>\n",
       "      <td>-0.358567</td>\n",
       "      <td>0.041410</td>\n",
       "      <td>0.041410</td>\n",
       "      <td>0.041410</td>\n",
       "      <td>-0.470926</td>\n",
       "      <td>-0.601634</td>\n",
       "      <td>-0.360353</td>\n",
       "      <td>-0.056811</td>\n",
       "      <td>-0.325145</td>\n",
       "      <td>-0.519295</td>\n",
       "    </tr>\n",
       "    <tr>\n",
       "      <th>374</th>\n",
       "      <td>ZBH</td>\n",
       "      <td>Zimmer Biomet Holdings, Inc.</td>\n",
       "      <td>healthcare</td>\n",
       "      <td>medical-devices</td>\n",
       "      <td>-0.269460</td>\n",
       "      <td>-0.164124</td>\n",
       "      <td>0.161256</td>\n",
       "      <td>0.161256</td>\n",
       "      <td>0.161256</td>\n",
       "      <td>0.365531</td>\n",
       "      <td>-0.241292</td>\n",
       "      <td>-0.265023</td>\n",
       "      <td>-0.200939</td>\n",
       "      <td>-0.317359</td>\n",
       "      <td>-0.484571</td>\n",
       "    </tr>\n",
       "    <tr>\n",
       "      <th>375</th>\n",
       "      <td>ZTS</td>\n",
       "      <td>Zoetis Inc.</td>\n",
       "      <td>healthcare</td>\n",
       "      <td>drug-manufacturers-specialty-generic</td>\n",
       "      <td>-0.116739</td>\n",
       "      <td>0.339989</td>\n",
       "      <td>-0.121424</td>\n",
       "      <td>-0.121424</td>\n",
       "      <td>-0.121424</td>\n",
       "      <td>0.823556</td>\n",
       "      <td>1.402957</td>\n",
       "      <td>-0.050966</td>\n",
       "      <td>-0.094319</td>\n",
       "      <td>0.158057</td>\n",
       "      <td>1.444263</td>\n",
       "    </tr>\n",
       "  </tbody>\n",
       "</table>\n",
       "<p>376 rows × 15 columns</p>\n",
       "</div>"
      ],
      "text/plain": [
       "    Company                          Name       Sector  \\\n",
       "0       AOS       A. O. Smith Corporation  industrials   \n",
       "1       ABT           Abbott Laboratories   healthcare   \n",
       "2      ABBV                   AbbVie Inc.   healthcare   \n",
       "3       ACN                 Accenture plc   technology   \n",
       "4      ADBE                    Adobe Inc.   technology   \n",
       "..      ...                           ...          ...   \n",
       "371    WDAY                 Workday, Inc.   technology   \n",
       "372     XEL              Xcel Energy Inc.    utilities   \n",
       "373     XYL                    Xylem Inc.  industrials   \n",
       "374     ZBH  Zimmer Biomet Holdings, Inc.   healthcare   \n",
       "375     ZTS                   Zoetis Inc.   healthcare   \n",
       "\n",
       "                                 Industry  Market Cap  Rev Growth  NI Growth  \\\n",
       "0          specialty-industrial-machinery   -0.298221   -0.718648  -0.285561   \n",
       "1                         medical-devices    0.261256   -0.099309  -0.132497   \n",
       "2              drug-manufacturers-general    0.572965   -0.178527  -0.307707   \n",
       "3         information-technology-services    0.313502   -0.264946  -0.073877   \n",
       "4                 software-infrastructure    0.174893    0.311182  -0.075831   \n",
       "..                                    ...         ...         ...        ...   \n",
       "371                  software-application   -0.128976    0.750481   0.202942   \n",
       "372          utilities-regulated-electric   -0.221893   -0.488196  -0.215868   \n",
       "373        specialty-industrial-machinery   -0.239278   -0.358567   0.041410   \n",
       "374                       medical-devices   -0.269460   -0.164124   0.161256   \n",
       "375  drug-manufacturers-specialty-generic   -0.116739    0.339989  -0.121424   \n",
       "\n",
       "     EV/EBITDA    EV/Rev  EBITDA Margin  Operating Margin  Debt/Equity  \\\n",
       "0    -0.285561 -0.285561      -0.426155         -0.257631    -0.395268   \n",
       "1    -0.132497 -0.132497      -0.089361         -0.181061    -0.310251   \n",
       "2    -0.307707 -0.307707       1.132160          0.634215     2.899931   \n",
       "3    -0.073877 -0.073877      -0.655044         -0.513611    -0.376480   \n",
       "4    -0.075831 -0.075831       0.682488          1.267438    -0.298398   \n",
       "..         ...       ...            ...               ...          ...   \n",
       "371   0.202942  0.202942      -1.205497         -1.256322    -0.302564   \n",
       "372  -0.215868 -0.215868       0.756430          0.332822     0.019288   \n",
       "373   0.041410  0.041410      -0.470926         -0.601634    -0.360353   \n",
       "374   0.161256  0.161256       0.365531         -0.241292    -0.265023   \n",
       "375  -0.121424 -0.121424       0.823556          1.402957    -0.050966   \n",
       "\n",
       "           PE       ROE       ROA  \n",
       "0   -0.258633 -0.060728  1.381529  \n",
       "1   -0.272840 -0.241876 -0.124281  \n",
       "2    0.445931  0.270216  0.112075  \n",
       "3   -0.096569 -0.096073  0.861622  \n",
       "4   -0.065885  0.010862  1.694624  \n",
       "..        ...       ...       ...  \n",
       "371  0.052072 -0.164989 -1.095413  \n",
       "372 -0.242172 -0.298276 -0.877091  \n",
       "373 -0.056811 -0.325145 -0.519295  \n",
       "374 -0.200939 -0.317359 -0.484571  \n",
       "375 -0.094319  0.158057  1.444263  \n",
       "\n",
       "[376 rows x 15 columns]"
      ]
     },
     "execution_count": 740,
     "metadata": {},
     "output_type": "execute_result"
    }
   ],
   "source": [
    "df_scaled = pd.DataFrame(np_scaled,columns=df_numeric.columns)\n",
    "df_scaled.insert(0, \"Industry\", df_no_nan[\"Industry\"])\n",
    "df_scaled.insert(0, \"Sector\", df_no_nan[\"Sector\"])\n",
    "df_scaled.insert(0, \"Name\", df_no_nan[\"Name\"])\n",
    "df_scaled.insert(0, \"Company\", df_no_nan[\"Company\"])\n",
    "df_scaled"
   ]
  },
  {
   "cell_type": "code",
   "execution_count": 741,
   "metadata": {},
   "outputs": [],
   "source": [
    "for feature in df_scaled.columns.to_list()[4:]: \n",
    "    df_scaled_no_outliers = df_scaled.drop(df_scaled[df_scaled[feature] > 2].index)"
   ]
  },
  {
   "cell_type": "code",
   "execution_count": 742,
   "metadata": {},
   "outputs": [
    {
     "data": {
      "text/html": [
       "<div>\n",
       "<style scoped>\n",
       "    .dataframe tbody tr th:only-of-type {\n",
       "        vertical-align: middle;\n",
       "    }\n",
       "\n",
       "    .dataframe tbody tr th {\n",
       "        vertical-align: top;\n",
       "    }\n",
       "\n",
       "    .dataframe thead th {\n",
       "        text-align: right;\n",
       "    }\n",
       "</style>\n",
       "<table border=\"1\" class=\"dataframe\">\n",
       "  <thead>\n",
       "    <tr style=\"text-align: right;\">\n",
       "      <th></th>\n",
       "      <th>Company</th>\n",
       "      <th>Name</th>\n",
       "      <th>Sector</th>\n",
       "      <th>Industry</th>\n",
       "      <th>Market Cap</th>\n",
       "      <th>Rev Growth</th>\n",
       "      <th>NI Growth</th>\n",
       "      <th>EV/EBITDA</th>\n",
       "      <th>EV/Rev</th>\n",
       "      <th>EBITDA Margin</th>\n",
       "      <th>Operating Margin</th>\n",
       "      <th>Debt/Equity</th>\n",
       "      <th>PE</th>\n",
       "      <th>ROE</th>\n",
       "      <th>ROA</th>\n",
       "    </tr>\n",
       "  </thead>\n",
       "  <tbody>\n",
       "    <tr>\n",
       "      <th>0</th>\n",
       "      <td>AOS</td>\n",
       "      <td>A. O. Smith Corporation</td>\n",
       "      <td>industrials</td>\n",
       "      <td>specialty-industrial-machinery</td>\n",
       "      <td>-0.298221</td>\n",
       "      <td>-0.718648</td>\n",
       "      <td>-0.285561</td>\n",
       "      <td>-0.285561</td>\n",
       "      <td>-0.285561</td>\n",
       "      <td>-0.426155</td>\n",
       "      <td>-0.257631</td>\n",
       "      <td>-0.395268</td>\n",
       "      <td>-0.258633</td>\n",
       "      <td>-0.060728</td>\n",
       "      <td>1.381529</td>\n",
       "    </tr>\n",
       "    <tr>\n",
       "      <th>1</th>\n",
       "      <td>ABT</td>\n",
       "      <td>Abbott Laboratories</td>\n",
       "      <td>healthcare</td>\n",
       "      <td>medical-devices</td>\n",
       "      <td>0.261256</td>\n",
       "      <td>-0.099309</td>\n",
       "      <td>-0.132497</td>\n",
       "      <td>-0.132497</td>\n",
       "      <td>-0.132497</td>\n",
       "      <td>-0.089361</td>\n",
       "      <td>-0.181061</td>\n",
       "      <td>-0.310251</td>\n",
       "      <td>-0.272840</td>\n",
       "      <td>-0.241876</td>\n",
       "      <td>-0.124281</td>\n",
       "    </tr>\n",
       "    <tr>\n",
       "      <th>2</th>\n",
       "      <td>ABBV</td>\n",
       "      <td>AbbVie Inc.</td>\n",
       "      <td>healthcare</td>\n",
       "      <td>drug-manufacturers-general</td>\n",
       "      <td>0.572965</td>\n",
       "      <td>-0.178527</td>\n",
       "      <td>-0.307707</td>\n",
       "      <td>-0.307707</td>\n",
       "      <td>-0.307707</td>\n",
       "      <td>1.132160</td>\n",
       "      <td>0.634215</td>\n",
       "      <td>2.899931</td>\n",
       "      <td>0.445931</td>\n",
       "      <td>0.270216</td>\n",
       "      <td>0.112075</td>\n",
       "    </tr>\n",
       "    <tr>\n",
       "      <th>3</th>\n",
       "      <td>ACN</td>\n",
       "      <td>Accenture plc</td>\n",
       "      <td>technology</td>\n",
       "      <td>information-technology-services</td>\n",
       "      <td>0.313502</td>\n",
       "      <td>-0.264946</td>\n",
       "      <td>-0.073877</td>\n",
       "      <td>-0.073877</td>\n",
       "      <td>-0.073877</td>\n",
       "      <td>-0.655044</td>\n",
       "      <td>-0.513611</td>\n",
       "      <td>-0.376480</td>\n",
       "      <td>-0.096569</td>\n",
       "      <td>-0.096073</td>\n",
       "      <td>0.861622</td>\n",
       "    </tr>\n",
       "    <tr>\n",
       "      <th>4</th>\n",
       "      <td>ADBE</td>\n",
       "      <td>Adobe Inc.</td>\n",
       "      <td>technology</td>\n",
       "      <td>software-infrastructure</td>\n",
       "      <td>0.174893</td>\n",
       "      <td>0.311182</td>\n",
       "      <td>-0.075831</td>\n",
       "      <td>-0.075831</td>\n",
       "      <td>-0.075831</td>\n",
       "      <td>0.682488</td>\n",
       "      <td>1.267438</td>\n",
       "      <td>-0.298398</td>\n",
       "      <td>-0.065885</td>\n",
       "      <td>0.010862</td>\n",
       "      <td>1.694624</td>\n",
       "    </tr>\n",
       "    <tr>\n",
       "      <th>...</th>\n",
       "      <td>...</td>\n",
       "      <td>...</td>\n",
       "      <td>...</td>\n",
       "      <td>...</td>\n",
       "      <td>...</td>\n",
       "      <td>...</td>\n",
       "      <td>...</td>\n",
       "      <td>...</td>\n",
       "      <td>...</td>\n",
       "      <td>...</td>\n",
       "      <td>...</td>\n",
       "      <td>...</td>\n",
       "      <td>...</td>\n",
       "      <td>...</td>\n",
       "      <td>...</td>\n",
       "    </tr>\n",
       "    <tr>\n",
       "      <th>358</th>\n",
       "      <td>WDAY</td>\n",
       "      <td>Workday, Inc.</td>\n",
       "      <td>technology</td>\n",
       "      <td>software-application</td>\n",
       "      <td>-0.128976</td>\n",
       "      <td>0.750481</td>\n",
       "      <td>0.202942</td>\n",
       "      <td>0.202942</td>\n",
       "      <td>0.202942</td>\n",
       "      <td>-1.205497</td>\n",
       "      <td>-1.256322</td>\n",
       "      <td>-0.302564</td>\n",
       "      <td>0.052072</td>\n",
       "      <td>-0.164989</td>\n",
       "      <td>-1.095413</td>\n",
       "    </tr>\n",
       "    <tr>\n",
       "      <th>359</th>\n",
       "      <td>XEL</td>\n",
       "      <td>Xcel Energy Inc.</td>\n",
       "      <td>utilities</td>\n",
       "      <td>utilities-regulated-electric</td>\n",
       "      <td>-0.221893</td>\n",
       "      <td>-0.488196</td>\n",
       "      <td>-0.215868</td>\n",
       "      <td>-0.215868</td>\n",
       "      <td>-0.215868</td>\n",
       "      <td>0.756430</td>\n",
       "      <td>0.332822</td>\n",
       "      <td>0.019288</td>\n",
       "      <td>-0.242172</td>\n",
       "      <td>-0.298276</td>\n",
       "      <td>-0.877091</td>\n",
       "    </tr>\n",
       "    <tr>\n",
       "      <th>360</th>\n",
       "      <td>XYL</td>\n",
       "      <td>Xylem Inc.</td>\n",
       "      <td>industrials</td>\n",
       "      <td>specialty-industrial-machinery</td>\n",
       "      <td>-0.239278</td>\n",
       "      <td>-0.358567</td>\n",
       "      <td>0.041410</td>\n",
       "      <td>0.041410</td>\n",
       "      <td>0.041410</td>\n",
       "      <td>-0.470926</td>\n",
       "      <td>-0.601634</td>\n",
       "      <td>-0.360353</td>\n",
       "      <td>-0.056811</td>\n",
       "      <td>-0.325145</td>\n",
       "      <td>-0.519295</td>\n",
       "    </tr>\n",
       "    <tr>\n",
       "      <th>361</th>\n",
       "      <td>ZBH</td>\n",
       "      <td>Zimmer Biomet Holdings, Inc.</td>\n",
       "      <td>healthcare</td>\n",
       "      <td>medical-devices</td>\n",
       "      <td>-0.269460</td>\n",
       "      <td>-0.164124</td>\n",
       "      <td>0.161256</td>\n",
       "      <td>0.161256</td>\n",
       "      <td>0.161256</td>\n",
       "      <td>0.365531</td>\n",
       "      <td>-0.241292</td>\n",
       "      <td>-0.265023</td>\n",
       "      <td>-0.200939</td>\n",
       "      <td>-0.317359</td>\n",
       "      <td>-0.484571</td>\n",
       "    </tr>\n",
       "    <tr>\n",
       "      <th>362</th>\n",
       "      <td>ZTS</td>\n",
       "      <td>Zoetis Inc.</td>\n",
       "      <td>healthcare</td>\n",
       "      <td>drug-manufacturers-specialty-generic</td>\n",
       "      <td>-0.116739</td>\n",
       "      <td>0.339989</td>\n",
       "      <td>-0.121424</td>\n",
       "      <td>-0.121424</td>\n",
       "      <td>-0.121424</td>\n",
       "      <td>0.823556</td>\n",
       "      <td>1.402957</td>\n",
       "      <td>-0.050966</td>\n",
       "      <td>-0.094319</td>\n",
       "      <td>0.158057</td>\n",
       "      <td>1.444263</td>\n",
       "    </tr>\n",
       "  </tbody>\n",
       "</table>\n",
       "<p>363 rows × 15 columns</p>\n",
       "</div>"
      ],
      "text/plain": [
       "    Company                          Name       Sector  \\\n",
       "0       AOS       A. O. Smith Corporation  industrials   \n",
       "1       ABT           Abbott Laboratories   healthcare   \n",
       "2      ABBV                   AbbVie Inc.   healthcare   \n",
       "3       ACN                 Accenture plc   technology   \n",
       "4      ADBE                    Adobe Inc.   technology   \n",
       "..      ...                           ...          ...   \n",
       "358    WDAY                 Workday, Inc.   technology   \n",
       "359     XEL              Xcel Energy Inc.    utilities   \n",
       "360     XYL                    Xylem Inc.  industrials   \n",
       "361     ZBH  Zimmer Biomet Holdings, Inc.   healthcare   \n",
       "362     ZTS                   Zoetis Inc.   healthcare   \n",
       "\n",
       "                                 Industry  Market Cap  Rev Growth  NI Growth  \\\n",
       "0          specialty-industrial-machinery   -0.298221   -0.718648  -0.285561   \n",
       "1                         medical-devices    0.261256   -0.099309  -0.132497   \n",
       "2              drug-manufacturers-general    0.572965   -0.178527  -0.307707   \n",
       "3         information-technology-services    0.313502   -0.264946  -0.073877   \n",
       "4                 software-infrastructure    0.174893    0.311182  -0.075831   \n",
       "..                                    ...         ...         ...        ...   \n",
       "358                  software-application   -0.128976    0.750481   0.202942   \n",
       "359          utilities-regulated-electric   -0.221893   -0.488196  -0.215868   \n",
       "360        specialty-industrial-machinery   -0.239278   -0.358567   0.041410   \n",
       "361                       medical-devices   -0.269460   -0.164124   0.161256   \n",
       "362  drug-manufacturers-specialty-generic   -0.116739    0.339989  -0.121424   \n",
       "\n",
       "     EV/EBITDA    EV/Rev  EBITDA Margin  Operating Margin  Debt/Equity  \\\n",
       "0    -0.285561 -0.285561      -0.426155         -0.257631    -0.395268   \n",
       "1    -0.132497 -0.132497      -0.089361         -0.181061    -0.310251   \n",
       "2    -0.307707 -0.307707       1.132160          0.634215     2.899931   \n",
       "3    -0.073877 -0.073877      -0.655044         -0.513611    -0.376480   \n",
       "4    -0.075831 -0.075831       0.682488          1.267438    -0.298398   \n",
       "..         ...       ...            ...               ...          ...   \n",
       "358   0.202942  0.202942      -1.205497         -1.256322    -0.302564   \n",
       "359  -0.215868 -0.215868       0.756430          0.332822     0.019288   \n",
       "360   0.041410  0.041410      -0.470926         -0.601634    -0.360353   \n",
       "361   0.161256  0.161256       0.365531         -0.241292    -0.265023   \n",
       "362  -0.121424 -0.121424       0.823556          1.402957    -0.050966   \n",
       "\n",
       "           PE       ROE       ROA  \n",
       "0   -0.258633 -0.060728  1.381529  \n",
       "1   -0.272840 -0.241876 -0.124281  \n",
       "2    0.445931  0.270216  0.112075  \n",
       "3   -0.096569 -0.096073  0.861622  \n",
       "4   -0.065885  0.010862  1.694624  \n",
       "..        ...       ...       ...  \n",
       "358  0.052072 -0.164989 -1.095413  \n",
       "359 -0.242172 -0.298276 -0.877091  \n",
       "360 -0.056811 -0.325145 -0.519295  \n",
       "361 -0.200939 -0.317359 -0.484571  \n",
       "362 -0.094319  0.158057  1.444263  \n",
       "\n",
       "[363 rows x 15 columns]"
      ]
     },
     "execution_count": 742,
     "metadata": {},
     "output_type": "execute_result"
    }
   ],
   "source": [
    "df_scaled_no_outliers = df_scaled_no_outliers.reset_index(drop=True)\n",
    "df_scaled_no_outliers"
   ]
  },
  {
   "cell_type": "code",
   "execution_count": 743,
   "metadata": {},
   "outputs": [
    {
     "data": {
      "text/html": [
       "<div>\n",
       "<style scoped>\n",
       "    .dataframe tbody tr th:only-of-type {\n",
       "        vertical-align: middle;\n",
       "    }\n",
       "\n",
       "    .dataframe tbody tr th {\n",
       "        vertical-align: top;\n",
       "    }\n",
       "\n",
       "    .dataframe thead th {\n",
       "        text-align: right;\n",
       "    }\n",
       "</style>\n",
       "<table border=\"1\" class=\"dataframe\">\n",
       "  <thead>\n",
       "    <tr style=\"text-align: right;\">\n",
       "      <th></th>\n",
       "      <th>Market Cap</th>\n",
       "      <th>Rev Growth</th>\n",
       "      <th>NI Growth</th>\n",
       "      <th>EV/EBITDA</th>\n",
       "      <th>EV/Rev</th>\n",
       "      <th>EBITDA Margin</th>\n",
       "      <th>Operating Margin</th>\n",
       "      <th>Debt/Equity</th>\n",
       "      <th>PE</th>\n",
       "      <th>ROE</th>\n",
       "      <th>ROA</th>\n",
       "    </tr>\n",
       "  </thead>\n",
       "  <tbody>\n",
       "    <tr>\n",
       "      <th>0</th>\n",
       "      <td>-0.298221</td>\n",
       "      <td>-0.718648</td>\n",
       "      <td>-0.285561</td>\n",
       "      <td>-0.285561</td>\n",
       "      <td>-0.285561</td>\n",
       "      <td>-0.426155</td>\n",
       "      <td>-0.257631</td>\n",
       "      <td>-0.395268</td>\n",
       "      <td>-0.258633</td>\n",
       "      <td>-0.060728</td>\n",
       "      <td>1.381529</td>\n",
       "    </tr>\n",
       "    <tr>\n",
       "      <th>1</th>\n",
       "      <td>0.261256</td>\n",
       "      <td>-0.099309</td>\n",
       "      <td>-0.132497</td>\n",
       "      <td>-0.132497</td>\n",
       "      <td>-0.132497</td>\n",
       "      <td>-0.089361</td>\n",
       "      <td>-0.181061</td>\n",
       "      <td>-0.310251</td>\n",
       "      <td>-0.272840</td>\n",
       "      <td>-0.241876</td>\n",
       "      <td>-0.124281</td>\n",
       "    </tr>\n",
       "    <tr>\n",
       "      <th>2</th>\n",
       "      <td>0.572965</td>\n",
       "      <td>-0.178527</td>\n",
       "      <td>-0.307707</td>\n",
       "      <td>-0.307707</td>\n",
       "      <td>-0.307707</td>\n",
       "      <td>1.132160</td>\n",
       "      <td>0.634215</td>\n",
       "      <td>2.899931</td>\n",
       "      <td>0.445931</td>\n",
       "      <td>0.270216</td>\n",
       "      <td>0.112075</td>\n",
       "    </tr>\n",
       "    <tr>\n",
       "      <th>3</th>\n",
       "      <td>0.313502</td>\n",
       "      <td>-0.264946</td>\n",
       "      <td>-0.073877</td>\n",
       "      <td>-0.073877</td>\n",
       "      <td>-0.073877</td>\n",
       "      <td>-0.655044</td>\n",
       "      <td>-0.513611</td>\n",
       "      <td>-0.376480</td>\n",
       "      <td>-0.096569</td>\n",
       "      <td>-0.096073</td>\n",
       "      <td>0.861622</td>\n",
       "    </tr>\n",
       "    <tr>\n",
       "      <th>4</th>\n",
       "      <td>0.174893</td>\n",
       "      <td>0.311182</td>\n",
       "      <td>-0.075831</td>\n",
       "      <td>-0.075831</td>\n",
       "      <td>-0.075831</td>\n",
       "      <td>0.682488</td>\n",
       "      <td>1.267438</td>\n",
       "      <td>-0.298398</td>\n",
       "      <td>-0.065885</td>\n",
       "      <td>0.010862</td>\n",
       "      <td>1.694624</td>\n",
       "    </tr>\n",
       "    <tr>\n",
       "      <th>...</th>\n",
       "      <td>...</td>\n",
       "      <td>...</td>\n",
       "      <td>...</td>\n",
       "      <td>...</td>\n",
       "      <td>...</td>\n",
       "      <td>...</td>\n",
       "      <td>...</td>\n",
       "      <td>...</td>\n",
       "      <td>...</td>\n",
       "      <td>...</td>\n",
       "      <td>...</td>\n",
       "    </tr>\n",
       "    <tr>\n",
       "      <th>358</th>\n",
       "      <td>-0.128976</td>\n",
       "      <td>0.750481</td>\n",
       "      <td>0.202942</td>\n",
       "      <td>0.202942</td>\n",
       "      <td>0.202942</td>\n",
       "      <td>-1.205497</td>\n",
       "      <td>-1.256322</td>\n",
       "      <td>-0.302564</td>\n",
       "      <td>0.052072</td>\n",
       "      <td>-0.164989</td>\n",
       "      <td>-1.095413</td>\n",
       "    </tr>\n",
       "    <tr>\n",
       "      <th>359</th>\n",
       "      <td>-0.221893</td>\n",
       "      <td>-0.488196</td>\n",
       "      <td>-0.215868</td>\n",
       "      <td>-0.215868</td>\n",
       "      <td>-0.215868</td>\n",
       "      <td>0.756430</td>\n",
       "      <td>0.332822</td>\n",
       "      <td>0.019288</td>\n",
       "      <td>-0.242172</td>\n",
       "      <td>-0.298276</td>\n",
       "      <td>-0.877091</td>\n",
       "    </tr>\n",
       "    <tr>\n",
       "      <th>360</th>\n",
       "      <td>-0.239278</td>\n",
       "      <td>-0.358567</td>\n",
       "      <td>0.041410</td>\n",
       "      <td>0.041410</td>\n",
       "      <td>0.041410</td>\n",
       "      <td>-0.470926</td>\n",
       "      <td>-0.601634</td>\n",
       "      <td>-0.360353</td>\n",
       "      <td>-0.056811</td>\n",
       "      <td>-0.325145</td>\n",
       "      <td>-0.519295</td>\n",
       "    </tr>\n",
       "    <tr>\n",
       "      <th>361</th>\n",
       "      <td>-0.269460</td>\n",
       "      <td>-0.164124</td>\n",
       "      <td>0.161256</td>\n",
       "      <td>0.161256</td>\n",
       "      <td>0.161256</td>\n",
       "      <td>0.365531</td>\n",
       "      <td>-0.241292</td>\n",
       "      <td>-0.265023</td>\n",
       "      <td>-0.200939</td>\n",
       "      <td>-0.317359</td>\n",
       "      <td>-0.484571</td>\n",
       "    </tr>\n",
       "    <tr>\n",
       "      <th>362</th>\n",
       "      <td>-0.116739</td>\n",
       "      <td>0.339989</td>\n",
       "      <td>-0.121424</td>\n",
       "      <td>-0.121424</td>\n",
       "      <td>-0.121424</td>\n",
       "      <td>0.823556</td>\n",
       "      <td>1.402957</td>\n",
       "      <td>-0.050966</td>\n",
       "      <td>-0.094319</td>\n",
       "      <td>0.158057</td>\n",
       "      <td>1.444263</td>\n",
       "    </tr>\n",
       "  </tbody>\n",
       "</table>\n",
       "<p>363 rows × 11 columns</p>\n",
       "</div>"
      ],
      "text/plain": [
       "     Market Cap  Rev Growth  NI Growth  EV/EBITDA    EV/Rev  EBITDA Margin  \\\n",
       "0     -0.298221   -0.718648  -0.285561  -0.285561 -0.285561      -0.426155   \n",
       "1      0.261256   -0.099309  -0.132497  -0.132497 -0.132497      -0.089361   \n",
       "2      0.572965   -0.178527  -0.307707  -0.307707 -0.307707       1.132160   \n",
       "3      0.313502   -0.264946  -0.073877  -0.073877 -0.073877      -0.655044   \n",
       "4      0.174893    0.311182  -0.075831  -0.075831 -0.075831       0.682488   \n",
       "..          ...         ...        ...        ...       ...            ...   \n",
       "358   -0.128976    0.750481   0.202942   0.202942  0.202942      -1.205497   \n",
       "359   -0.221893   -0.488196  -0.215868  -0.215868 -0.215868       0.756430   \n",
       "360   -0.239278   -0.358567   0.041410   0.041410  0.041410      -0.470926   \n",
       "361   -0.269460   -0.164124   0.161256   0.161256  0.161256       0.365531   \n",
       "362   -0.116739    0.339989  -0.121424  -0.121424 -0.121424       0.823556   \n",
       "\n",
       "     Operating Margin  Debt/Equity        PE       ROE       ROA  \n",
       "0           -0.257631    -0.395268 -0.258633 -0.060728  1.381529  \n",
       "1           -0.181061    -0.310251 -0.272840 -0.241876 -0.124281  \n",
       "2            0.634215     2.899931  0.445931  0.270216  0.112075  \n",
       "3           -0.513611    -0.376480 -0.096569 -0.096073  0.861622  \n",
       "4            1.267438    -0.298398 -0.065885  0.010862  1.694624  \n",
       "..                ...          ...       ...       ...       ...  \n",
       "358         -1.256322    -0.302564  0.052072 -0.164989 -1.095413  \n",
       "359          0.332822     0.019288 -0.242172 -0.298276 -0.877091  \n",
       "360         -0.601634    -0.360353 -0.056811 -0.325145 -0.519295  \n",
       "361         -0.241292    -0.265023 -0.200939 -0.317359 -0.484571  \n",
       "362          1.402957    -0.050966 -0.094319  0.158057  1.444263  \n",
       "\n",
       "[363 rows x 11 columns]"
      ]
     },
     "execution_count": 743,
     "metadata": {},
     "output_type": "execute_result"
    }
   ],
   "source": [
    "df_scaled_no_outliers_numeric = df_scaled_no_outliers.drop(columns=[\"Company\", \"Industry\", \"Sector\", \"Name\"])\n",
    "df_scaled_no_outliers_numeric"
   ]
  },
  {
   "cell_type": "code",
   "execution_count": 744,
   "metadata": {},
   "outputs": [],
   "source": [
    "inertia_list = []\n",
    "for k in range(3,100):\n",
    "    kmeans = KMeans(n_clusters=k)\n",
    "    kmeans.fit(df_scaled_no_outliers_numeric)\n",
    "    inertia_list.append(kmeans.inertia_)\n",
    "inertia_df = pd.DataFrame(inertia_list)"
   ]
  },
  {
   "cell_type": "code",
   "execution_count": 745,
   "metadata": {},
   "outputs": [
    {
     "data": {
      "application/vnd.plotly.v1+json": {
       "config": {
        "plotlyServerURL": "https://plot.ly"
       },
       "data": [
        {
         "type": "scatter",
         "x": [
          0,
          1,
          2,
          3,
          4,
          5,
          6,
          7,
          8,
          9,
          10,
          11,
          12,
          13,
          14,
          15,
          16,
          17,
          18,
          19,
          20,
          21,
          22,
          23,
          24,
          25,
          26,
          27,
          28,
          29,
          30,
          31,
          32,
          33,
          34,
          35,
          36,
          37,
          38,
          39,
          40,
          41,
          42,
          43,
          44,
          45,
          46,
          47,
          48,
          49,
          50,
          51,
          52,
          53,
          54,
          55,
          56,
          57,
          58,
          59,
          60,
          61,
          62,
          63,
          64,
          65,
          66,
          67,
          68,
          69,
          70,
          71,
          72,
          73,
          74,
          75,
          76,
          77,
          78,
          79,
          80,
          81,
          82,
          83,
          84,
          85,
          86,
          87,
          88,
          89,
          90,
          91,
          92,
          93,
          94,
          95,
          96
         ],
         "y": [
          2489.6465619654323,
          2339.852092098645,
          1960.957109075197,
          1590.9467525939187,
          1542.7366658972517,
          1320.9287093540083,
          1204.744467285156,
          1054.2550785476292,
          967.7484478093606,
          888.6189458504944,
          807.6332367024273,
          810.5738470807661,
          734.619316069689,
          725.7883378433737,
          670.2287374349451,
          651.7976636197948,
          642.2060974895049,
          599.7922693594827,
          570.215744998977,
          545.0308783785609,
          547.070090401525,
          506.76491067460597,
          512.2546670212441,
          480.16009966704996,
          457.0764578074243,
          459.04344637570733,
          438.98984290938415,
          437.22936203089927,
          412.1909539843208,
          412.78400112339085,
          396.15530183824967,
          391.53840318472555,
          378.6623787125322,
          386.7278946625346,
          372.89553979160394,
          357.2335572489172,
          352.71211348721306,
          339.8719739681885,
          327.2307218464605,
          320.0684523085887,
          321.2800935190116,
          314.82275927278613,
          300.8937846158579,
          291.6842029855874,
          294.3309429536647,
          285.65459548271787,
          272.5933601097064,
          277.1134129135146,
          264.63567784464317,
          265.01835478554705,
          254.3729789074178,
          254.72831132433993,
          238.09097806318925,
          236.21248528070674,
          237.47164766683576,
          233.33628210068116,
          221.8242212385247,
          219.22432288805373,
          218.95453284014351,
          209.86358322334348,
          207.26881313290997,
          208.50875596467534,
          198.51164413798676,
          203.49481894687122,
          193.95937447725873,
          191.04157178295742,
          188.04391665433138,
          186.66102862011826,
          181.1872146849807,
          183.93495560197505,
          175.17459223770874,
          174.12517682990938,
          169.11920607074273,
          170.42226257909863,
          166.04965510446564,
          165.06015446353766,
          160.58778946531157,
          160.54389211453156,
          156.47712370345613,
          156.2560585287975,
          152.22388100834945,
          151.1976675144535,
          148.35267253313472,
          152.50725686605642,
          147.72185049120992,
          145.00437890839368,
          142.94758180943407,
          135.71065966939688,
          133.2913256904917,
          130.39205137854827,
          130.96360251088663,
          128.4535953960726,
          126.53683674780397,
          125.16890938069977,
          129.10594180128842,
          117.69918343944431,
          119.40500722151411
         ]
        }
       ],
       "layout": {
        "template": {
         "data": {
          "bar": [
           {
            "error_x": {
             "color": "#f2f5fa"
            },
            "error_y": {
             "color": "#f2f5fa"
            },
            "marker": {
             "line": {
              "color": "rgb(17,17,17)",
              "width": 0.5
             },
             "pattern": {
              "fillmode": "overlay",
              "size": 10,
              "solidity": 0.2
             }
            },
            "type": "bar"
           }
          ],
          "barpolar": [
           {
            "marker": {
             "line": {
              "color": "rgb(17,17,17)",
              "width": 0.5
             },
             "pattern": {
              "fillmode": "overlay",
              "size": 10,
              "solidity": 0.2
             }
            },
            "type": "barpolar"
           }
          ],
          "carpet": [
           {
            "aaxis": {
             "endlinecolor": "#A2B1C6",
             "gridcolor": "#506784",
             "linecolor": "#506784",
             "minorgridcolor": "#506784",
             "startlinecolor": "#A2B1C6"
            },
            "baxis": {
             "endlinecolor": "#A2B1C6",
             "gridcolor": "#506784",
             "linecolor": "#506784",
             "minorgridcolor": "#506784",
             "startlinecolor": "#A2B1C6"
            },
            "type": "carpet"
           }
          ],
          "choropleth": [
           {
            "colorbar": {
             "outlinewidth": 0,
             "ticks": ""
            },
            "type": "choropleth"
           }
          ],
          "contour": [
           {
            "colorbar": {
             "outlinewidth": 0,
             "ticks": ""
            },
            "colorscale": [
             [
              0,
              "#0d0887"
             ],
             [
              0.1111111111111111,
              "#46039f"
             ],
             [
              0.2222222222222222,
              "#7201a8"
             ],
             [
              0.3333333333333333,
              "#9c179e"
             ],
             [
              0.4444444444444444,
              "#bd3786"
             ],
             [
              0.5555555555555556,
              "#d8576b"
             ],
             [
              0.6666666666666666,
              "#ed7953"
             ],
             [
              0.7777777777777778,
              "#fb9f3a"
             ],
             [
              0.8888888888888888,
              "#fdca26"
             ],
             [
              1,
              "#f0f921"
             ]
            ],
            "type": "contour"
           }
          ],
          "contourcarpet": [
           {
            "colorbar": {
             "outlinewidth": 0,
             "ticks": ""
            },
            "type": "contourcarpet"
           }
          ],
          "heatmap": [
           {
            "colorbar": {
             "outlinewidth": 0,
             "ticks": ""
            },
            "colorscale": [
             [
              0,
              "#0d0887"
             ],
             [
              0.1111111111111111,
              "#46039f"
             ],
             [
              0.2222222222222222,
              "#7201a8"
             ],
             [
              0.3333333333333333,
              "#9c179e"
             ],
             [
              0.4444444444444444,
              "#bd3786"
             ],
             [
              0.5555555555555556,
              "#d8576b"
             ],
             [
              0.6666666666666666,
              "#ed7953"
             ],
             [
              0.7777777777777778,
              "#fb9f3a"
             ],
             [
              0.8888888888888888,
              "#fdca26"
             ],
             [
              1,
              "#f0f921"
             ]
            ],
            "type": "heatmap"
           }
          ],
          "heatmapgl": [
           {
            "colorbar": {
             "outlinewidth": 0,
             "ticks": ""
            },
            "colorscale": [
             [
              0,
              "#0d0887"
             ],
             [
              0.1111111111111111,
              "#46039f"
             ],
             [
              0.2222222222222222,
              "#7201a8"
             ],
             [
              0.3333333333333333,
              "#9c179e"
             ],
             [
              0.4444444444444444,
              "#bd3786"
             ],
             [
              0.5555555555555556,
              "#d8576b"
             ],
             [
              0.6666666666666666,
              "#ed7953"
             ],
             [
              0.7777777777777778,
              "#fb9f3a"
             ],
             [
              0.8888888888888888,
              "#fdca26"
             ],
             [
              1,
              "#f0f921"
             ]
            ],
            "type": "heatmapgl"
           }
          ],
          "histogram": [
           {
            "marker": {
             "pattern": {
              "fillmode": "overlay",
              "size": 10,
              "solidity": 0.2
             }
            },
            "type": "histogram"
           }
          ],
          "histogram2d": [
           {
            "colorbar": {
             "outlinewidth": 0,
             "ticks": ""
            },
            "colorscale": [
             [
              0,
              "#0d0887"
             ],
             [
              0.1111111111111111,
              "#46039f"
             ],
             [
              0.2222222222222222,
              "#7201a8"
             ],
             [
              0.3333333333333333,
              "#9c179e"
             ],
             [
              0.4444444444444444,
              "#bd3786"
             ],
             [
              0.5555555555555556,
              "#d8576b"
             ],
             [
              0.6666666666666666,
              "#ed7953"
             ],
             [
              0.7777777777777778,
              "#fb9f3a"
             ],
             [
              0.8888888888888888,
              "#fdca26"
             ],
             [
              1,
              "#f0f921"
             ]
            ],
            "type": "histogram2d"
           }
          ],
          "histogram2dcontour": [
           {
            "colorbar": {
             "outlinewidth": 0,
             "ticks": ""
            },
            "colorscale": [
             [
              0,
              "#0d0887"
             ],
             [
              0.1111111111111111,
              "#46039f"
             ],
             [
              0.2222222222222222,
              "#7201a8"
             ],
             [
              0.3333333333333333,
              "#9c179e"
             ],
             [
              0.4444444444444444,
              "#bd3786"
             ],
             [
              0.5555555555555556,
              "#d8576b"
             ],
             [
              0.6666666666666666,
              "#ed7953"
             ],
             [
              0.7777777777777778,
              "#fb9f3a"
             ],
             [
              0.8888888888888888,
              "#fdca26"
             ],
             [
              1,
              "#f0f921"
             ]
            ],
            "type": "histogram2dcontour"
           }
          ],
          "mesh3d": [
           {
            "colorbar": {
             "outlinewidth": 0,
             "ticks": ""
            },
            "type": "mesh3d"
           }
          ],
          "parcoords": [
           {
            "line": {
             "colorbar": {
              "outlinewidth": 0,
              "ticks": ""
             }
            },
            "type": "parcoords"
           }
          ],
          "pie": [
           {
            "automargin": true,
            "type": "pie"
           }
          ],
          "scatter": [
           {
            "marker": {
             "line": {
              "color": "#283442"
             }
            },
            "type": "scatter"
           }
          ],
          "scatter3d": [
           {
            "line": {
             "colorbar": {
              "outlinewidth": 0,
              "ticks": ""
             }
            },
            "marker": {
             "colorbar": {
              "outlinewidth": 0,
              "ticks": ""
             }
            },
            "type": "scatter3d"
           }
          ],
          "scattercarpet": [
           {
            "marker": {
             "colorbar": {
              "outlinewidth": 0,
              "ticks": ""
             }
            },
            "type": "scattercarpet"
           }
          ],
          "scattergeo": [
           {
            "marker": {
             "colorbar": {
              "outlinewidth": 0,
              "ticks": ""
             }
            },
            "type": "scattergeo"
           }
          ],
          "scattergl": [
           {
            "marker": {
             "line": {
              "color": "#283442"
             }
            },
            "type": "scattergl"
           }
          ],
          "scattermapbox": [
           {
            "marker": {
             "colorbar": {
              "outlinewidth": 0,
              "ticks": ""
             }
            },
            "type": "scattermapbox"
           }
          ],
          "scatterpolar": [
           {
            "marker": {
             "colorbar": {
              "outlinewidth": 0,
              "ticks": ""
             }
            },
            "type": "scatterpolar"
           }
          ],
          "scatterpolargl": [
           {
            "marker": {
             "colorbar": {
              "outlinewidth": 0,
              "ticks": ""
             }
            },
            "type": "scatterpolargl"
           }
          ],
          "scatterternary": [
           {
            "marker": {
             "colorbar": {
              "outlinewidth": 0,
              "ticks": ""
             }
            },
            "type": "scatterternary"
           }
          ],
          "surface": [
           {
            "colorbar": {
             "outlinewidth": 0,
             "ticks": ""
            },
            "colorscale": [
             [
              0,
              "#0d0887"
             ],
             [
              0.1111111111111111,
              "#46039f"
             ],
             [
              0.2222222222222222,
              "#7201a8"
             ],
             [
              0.3333333333333333,
              "#9c179e"
             ],
             [
              0.4444444444444444,
              "#bd3786"
             ],
             [
              0.5555555555555556,
              "#d8576b"
             ],
             [
              0.6666666666666666,
              "#ed7953"
             ],
             [
              0.7777777777777778,
              "#fb9f3a"
             ],
             [
              0.8888888888888888,
              "#fdca26"
             ],
             [
              1,
              "#f0f921"
             ]
            ],
            "type": "surface"
           }
          ],
          "table": [
           {
            "cells": {
             "fill": {
              "color": "#506784"
             },
             "line": {
              "color": "rgb(17,17,17)"
             }
            },
            "header": {
             "fill": {
              "color": "#2a3f5f"
             },
             "line": {
              "color": "rgb(17,17,17)"
             }
            },
            "type": "table"
           }
          ]
         },
         "layout": {
          "annotationdefaults": {
           "arrowcolor": "#f2f5fa",
           "arrowhead": 0,
           "arrowwidth": 1
          },
          "autotypenumbers": "strict",
          "coloraxis": {
           "colorbar": {
            "outlinewidth": 0,
            "ticks": ""
           }
          },
          "colorscale": {
           "diverging": [
            [
             0,
             "#8e0152"
            ],
            [
             0.1,
             "#c51b7d"
            ],
            [
             0.2,
             "#de77ae"
            ],
            [
             0.3,
             "#f1b6da"
            ],
            [
             0.4,
             "#fde0ef"
            ],
            [
             0.5,
             "#f7f7f7"
            ],
            [
             0.6,
             "#e6f5d0"
            ],
            [
             0.7,
             "#b8e186"
            ],
            [
             0.8,
             "#7fbc41"
            ],
            [
             0.9,
             "#4d9221"
            ],
            [
             1,
             "#276419"
            ]
           ],
           "sequential": [
            [
             0,
             "#0d0887"
            ],
            [
             0.1111111111111111,
             "#46039f"
            ],
            [
             0.2222222222222222,
             "#7201a8"
            ],
            [
             0.3333333333333333,
             "#9c179e"
            ],
            [
             0.4444444444444444,
             "#bd3786"
            ],
            [
             0.5555555555555556,
             "#d8576b"
            ],
            [
             0.6666666666666666,
             "#ed7953"
            ],
            [
             0.7777777777777778,
             "#fb9f3a"
            ],
            [
             0.8888888888888888,
             "#fdca26"
            ],
            [
             1,
             "#f0f921"
            ]
           ],
           "sequentialminus": [
            [
             0,
             "#0d0887"
            ],
            [
             0.1111111111111111,
             "#46039f"
            ],
            [
             0.2222222222222222,
             "#7201a8"
            ],
            [
             0.3333333333333333,
             "#9c179e"
            ],
            [
             0.4444444444444444,
             "#bd3786"
            ],
            [
             0.5555555555555556,
             "#d8576b"
            ],
            [
             0.6666666666666666,
             "#ed7953"
            ],
            [
             0.7777777777777778,
             "#fb9f3a"
            ],
            [
             0.8888888888888888,
             "#fdca26"
            ],
            [
             1,
             "#f0f921"
            ]
           ]
          },
          "colorway": [
           "#636efa",
           "#EF553B",
           "#00cc96",
           "#ab63fa",
           "#FFA15A",
           "#19d3f3",
           "#FF6692",
           "#B6E880",
           "#FF97FF",
           "#FECB52"
          ],
          "font": {
           "color": "#f2f5fa"
          },
          "geo": {
           "bgcolor": "rgb(17,17,17)",
           "lakecolor": "rgb(17,17,17)",
           "landcolor": "rgb(17,17,17)",
           "showlakes": true,
           "showland": true,
           "subunitcolor": "#506784"
          },
          "hoverlabel": {
           "align": "left"
          },
          "hovermode": "closest",
          "mapbox": {
           "style": "dark"
          },
          "paper_bgcolor": "rgb(17,17,17)",
          "plot_bgcolor": "rgb(17,17,17)",
          "polar": {
           "angularaxis": {
            "gridcolor": "#506784",
            "linecolor": "#506784",
            "ticks": ""
           },
           "bgcolor": "rgb(17,17,17)",
           "radialaxis": {
            "gridcolor": "#506784",
            "linecolor": "#506784",
            "ticks": ""
           }
          },
          "scene": {
           "xaxis": {
            "backgroundcolor": "rgb(17,17,17)",
            "gridcolor": "#506784",
            "gridwidth": 2,
            "linecolor": "#506784",
            "showbackground": true,
            "ticks": "",
            "zerolinecolor": "#C8D4E3"
           },
           "yaxis": {
            "backgroundcolor": "rgb(17,17,17)",
            "gridcolor": "#506784",
            "gridwidth": 2,
            "linecolor": "#506784",
            "showbackground": true,
            "ticks": "",
            "zerolinecolor": "#C8D4E3"
           },
           "zaxis": {
            "backgroundcolor": "rgb(17,17,17)",
            "gridcolor": "#506784",
            "gridwidth": 2,
            "linecolor": "#506784",
            "showbackground": true,
            "ticks": "",
            "zerolinecolor": "#C8D4E3"
           }
          },
          "shapedefaults": {
           "line": {
            "color": "#f2f5fa"
           }
          },
          "sliderdefaults": {
           "bgcolor": "#C8D4E3",
           "bordercolor": "rgb(17,17,17)",
           "borderwidth": 1,
           "tickwidth": 0
          },
          "ternary": {
           "aaxis": {
            "gridcolor": "#506784",
            "linecolor": "#506784",
            "ticks": ""
           },
           "baxis": {
            "gridcolor": "#506784",
            "linecolor": "#506784",
            "ticks": ""
           },
           "bgcolor": "rgb(17,17,17)",
           "caxis": {
            "gridcolor": "#506784",
            "linecolor": "#506784",
            "ticks": ""
           }
          },
          "title": {
           "x": 0.05
          },
          "updatemenudefaults": {
           "bgcolor": "#506784",
           "borderwidth": 0
          },
          "xaxis": {
           "automargin": true,
           "gridcolor": "#283442",
           "linecolor": "#506784",
           "ticks": "",
           "title": {
            "standoff": 15
           },
           "zerolinecolor": "#283442",
           "zerolinewidth": 2
          },
          "yaxis": {
           "automargin": true,
           "gridcolor": "#283442",
           "linecolor": "#506784",
           "ticks": "",
           "title": {
            "standoff": 15
           },
           "zerolinecolor": "#283442",
           "zerolinewidth": 2
          }
         }
        }
       }
      }
     },
     "metadata": {},
     "output_type": "display_data"
    }
   ],
   "source": [
    "inertia_fig = go.Figure()\n",
    "inertia_fig.add_trace(go.Scatter(x = inertia_df.index, y =inertia_df[0] ))\n",
    "\n",
    "inertia_fig"
   ]
  },
  {
   "cell_type": "code",
   "execution_count": 746,
   "metadata": {},
   "outputs": [
    {
     "data": {
      "text/plain": [
       "array([ 7, 11, 11,  1,  7,  9, 11,  9, 11, 11,  5,  1,  7,  0,  2,  2,  2,\n",
       "        1,  0, 11, 10,  0, 11,  7, 10,  7,  7,  7, 10,  7, 10,  7, 11,  1,\n",
       "        0,  7, 11,  0,  1,  1,  1,  1,  1,  9,  1, 11,  0,  9, 11,  9,  1,\n",
       "       11, 10, 10,  1,  7,  1, 11,  1, 11,  7,  1,  1, 10,  1,  1, 11, 11,\n",
       "        1, 11, 10,  7, 11,  1,  7, 10,  9,  0, 11, 11,  1,  8, 11,  1, 11,\n",
       "       11, 11, 11,  7,  0,  1,  1,  0,  6,  0,  0,  1,  1, 11,  1,  1, 10,\n",
       "        1,  0,  1,  0, 11,  1,  5,  1,  1, 10, 11, 11, 11,  1, 11, 11,  9,\n",
       "        5, 11,  1, 11, 10, 11,  0,  1, 11, 11,  0,  7,  0,  0,  1,  7,  0,\n",
       "        1, 11,  7,  0,  0, 11, 11,  1,  7, 11,  7,  7,  7,  7,  7,  5,  1,\n",
       "        0,  1,  1,  1,  1,  1,  6, 11, 11,  1,  1,  4, 11,  1,  7,  0,  1,\n",
       "       11,  8, 11,  1,  1,  7,  7,  1,  1, 11,  7,  6, 11,  7,  0,  1, 10,\n",
       "        1,  0,  1,  1, 10,  7,  1, 11, 10,  1,  1, 11, 11, 10,  7,  0, 11,\n",
       "        7,  1,  1,  1,  7,  1, 11,  1, 11,  1,  1,  1,  1,  1, 10,  0, 11,\n",
       "       11,  8,  1, 11, 11,  2,  9,  1, 10,  2,  0,  1, 10,  1,  7,  7,  0,\n",
       "        7,  7,  7,  7,  9,  9,  0, 10, 11, 11,  0,  1, 11, 10, 11, 11,  1,\n",
       "       10, 11, 11, 10,  1,  6,  1, 11,  0,  7,  1, 11,  1, 11, 10, 11,  1,\n",
       "        1, 11, 11,  7,  0,  9,  9,  0,  7,  1,  7,  1,  1,  0,  0, 11, 11,\n",
       "        7,  5, 10,  7, 11,  1,  7,  0, 11, 11, 10,  1,  1,  0, 10, 11,  7,\n",
       "        1,  0,  1,  3, 10, 11, 11,  7,  7, 11,  7, 11, 11,  1, 11, 11, 11,\n",
       "       11,  1,  0,  1, 11,  1,  1,  7,  9, 10,  1,  5, 11,  0,  1,  1, 11,\n",
       "        1,  1, 10,  7,  8,  0,  0,  9, 10,  1,  1, 11,  7, 11,  9, 11, 10,\n",
       "        0,  1, 11,  1, 11,  7], dtype=int32)"
      ]
     },
     "execution_count": 746,
     "metadata": {},
     "output_type": "execute_result"
    }
   ],
   "source": [
    "labels = KMeans(n_clusters=12).fit_predict(df_scaled_no_outliers_numeric)\n",
    "labels"
   ]
  },
  {
   "cell_type": "code",
   "execution_count": 747,
   "metadata": {},
   "outputs": [],
   "source": [
    "df_scaled_no_outliers_numeric[\"Cluster\"] = labels\n",
    "df_scaled_no_outliers_numeric.insert(0,\"Sector\", df_scaled_no_outliers[\"Sector\"])\n",
    "df_scaled_no_outliers_numeric.insert(0,\"Industry\", df_scaled_no_outliers[\"Industry\"])\n",
    "df_scaled_no_outliers_numeric.insert(0,\"Name\", df_scaled_no_outliers[\"Name\"])\n",
    "df_scaled_no_outliers_numeric.insert(0,\"Company\", df_scaled_no_outliers[\"Company\"])"
   ]
  },
  {
   "cell_type": "code",
   "execution_count": 748,
   "metadata": {},
   "outputs": [
    {
     "data": {
      "text/html": [
       "<div>\n",
       "<style scoped>\n",
       "    .dataframe tbody tr th:only-of-type {\n",
       "        vertical-align: middle;\n",
       "    }\n",
       "\n",
       "    .dataframe tbody tr th {\n",
       "        vertical-align: top;\n",
       "    }\n",
       "\n",
       "    .dataframe thead th {\n",
       "        text-align: right;\n",
       "    }\n",
       "</style>\n",
       "<table border=\"1\" class=\"dataframe\">\n",
       "  <thead>\n",
       "    <tr style=\"text-align: right;\">\n",
       "      <th></th>\n",
       "      <th>Company</th>\n",
       "      <th>Name</th>\n",
       "      <th>Industry</th>\n",
       "      <th>Sector</th>\n",
       "      <th>Market Cap</th>\n",
       "      <th>Rev Growth</th>\n",
       "      <th>NI Growth</th>\n",
       "      <th>EV/EBITDA</th>\n",
       "      <th>EV/Rev</th>\n",
       "      <th>EBITDA Margin</th>\n",
       "      <th>Operating Margin</th>\n",
       "      <th>Debt/Equity</th>\n",
       "      <th>PE</th>\n",
       "      <th>ROE</th>\n",
       "      <th>ROA</th>\n",
       "      <th>Cluster</th>\n",
       "    </tr>\n",
       "  </thead>\n",
       "  <tbody>\n",
       "    <tr>\n",
       "      <th>0</th>\n",
       "      <td>AOS</td>\n",
       "      <td>A. O. Smith Corporation</td>\n",
       "      <td>specialty-industrial-machinery</td>\n",
       "      <td>industrials</td>\n",
       "      <td>-0.298221</td>\n",
       "      <td>-0.718648</td>\n",
       "      <td>-0.285561</td>\n",
       "      <td>-0.285561</td>\n",
       "      <td>-0.285561</td>\n",
       "      <td>-0.426155</td>\n",
       "      <td>-0.257631</td>\n",
       "      <td>-0.395268</td>\n",
       "      <td>-0.258633</td>\n",
       "      <td>-0.060728</td>\n",
       "      <td>1.381529</td>\n",
       "      <td>7</td>\n",
       "    </tr>\n",
       "    <tr>\n",
       "      <th>1</th>\n",
       "      <td>ABT</td>\n",
       "      <td>Abbott Laboratories</td>\n",
       "      <td>medical-devices</td>\n",
       "      <td>healthcare</td>\n",
       "      <td>0.261256</td>\n",
       "      <td>-0.099309</td>\n",
       "      <td>-0.132497</td>\n",
       "      <td>-0.132497</td>\n",
       "      <td>-0.132497</td>\n",
       "      <td>-0.089361</td>\n",
       "      <td>-0.181061</td>\n",
       "      <td>-0.310251</td>\n",
       "      <td>-0.272840</td>\n",
       "      <td>-0.241876</td>\n",
       "      <td>-0.124281</td>\n",
       "      <td>11</td>\n",
       "    </tr>\n",
       "    <tr>\n",
       "      <th>2</th>\n",
       "      <td>ABBV</td>\n",
       "      <td>AbbVie Inc.</td>\n",
       "      <td>drug-manufacturers-general</td>\n",
       "      <td>healthcare</td>\n",
       "      <td>0.572965</td>\n",
       "      <td>-0.178527</td>\n",
       "      <td>-0.307707</td>\n",
       "      <td>-0.307707</td>\n",
       "      <td>-0.307707</td>\n",
       "      <td>1.132160</td>\n",
       "      <td>0.634215</td>\n",
       "      <td>2.899931</td>\n",
       "      <td>0.445931</td>\n",
       "      <td>0.270216</td>\n",
       "      <td>0.112075</td>\n",
       "      <td>11</td>\n",
       "    </tr>\n",
       "    <tr>\n",
       "      <th>3</th>\n",
       "      <td>ACN</td>\n",
       "      <td>Accenture plc</td>\n",
       "      <td>information-technology-services</td>\n",
       "      <td>technology</td>\n",
       "      <td>0.313502</td>\n",
       "      <td>-0.264946</td>\n",
       "      <td>-0.073877</td>\n",
       "      <td>-0.073877</td>\n",
       "      <td>-0.073877</td>\n",
       "      <td>-0.655044</td>\n",
       "      <td>-0.513611</td>\n",
       "      <td>-0.376480</td>\n",
       "      <td>-0.096569</td>\n",
       "      <td>-0.096073</td>\n",
       "      <td>0.861622</td>\n",
       "      <td>1</td>\n",
       "    </tr>\n",
       "    <tr>\n",
       "      <th>4</th>\n",
       "      <td>ADBE</td>\n",
       "      <td>Adobe Inc.</td>\n",
       "      <td>software-infrastructure</td>\n",
       "      <td>technology</td>\n",
       "      <td>0.174893</td>\n",
       "      <td>0.311182</td>\n",
       "      <td>-0.075831</td>\n",
       "      <td>-0.075831</td>\n",
       "      <td>-0.075831</td>\n",
       "      <td>0.682488</td>\n",
       "      <td>1.267438</td>\n",
       "      <td>-0.298398</td>\n",
       "      <td>-0.065885</td>\n",
       "      <td>0.010862</td>\n",
       "      <td>1.694624</td>\n",
       "      <td>7</td>\n",
       "    </tr>\n",
       "    <tr>\n",
       "      <th>...</th>\n",
       "      <td>...</td>\n",
       "      <td>...</td>\n",
       "      <td>...</td>\n",
       "      <td>...</td>\n",
       "      <td>...</td>\n",
       "      <td>...</td>\n",
       "      <td>...</td>\n",
       "      <td>...</td>\n",
       "      <td>...</td>\n",
       "      <td>...</td>\n",
       "      <td>...</td>\n",
       "      <td>...</td>\n",
       "      <td>...</td>\n",
       "      <td>...</td>\n",
       "      <td>...</td>\n",
       "      <td>...</td>\n",
       "    </tr>\n",
       "    <tr>\n",
       "      <th>358</th>\n",
       "      <td>WDAY</td>\n",
       "      <td>Workday, Inc.</td>\n",
       "      <td>software-application</td>\n",
       "      <td>technology</td>\n",
       "      <td>-0.128976</td>\n",
       "      <td>0.750481</td>\n",
       "      <td>0.202942</td>\n",
       "      <td>0.202942</td>\n",
       "      <td>0.202942</td>\n",
       "      <td>-1.205497</td>\n",
       "      <td>-1.256322</td>\n",
       "      <td>-0.302564</td>\n",
       "      <td>0.052072</td>\n",
       "      <td>-0.164989</td>\n",
       "      <td>-1.095413</td>\n",
       "      <td>1</td>\n",
       "    </tr>\n",
       "    <tr>\n",
       "      <th>359</th>\n",
       "      <td>XEL</td>\n",
       "      <td>Xcel Energy Inc.</td>\n",
       "      <td>utilities-regulated-electric</td>\n",
       "      <td>utilities</td>\n",
       "      <td>-0.221893</td>\n",
       "      <td>-0.488196</td>\n",
       "      <td>-0.215868</td>\n",
       "      <td>-0.215868</td>\n",
       "      <td>-0.215868</td>\n",
       "      <td>0.756430</td>\n",
       "      <td>0.332822</td>\n",
       "      <td>0.019288</td>\n",
       "      <td>-0.242172</td>\n",
       "      <td>-0.298276</td>\n",
       "      <td>-0.877091</td>\n",
       "      <td>11</td>\n",
       "    </tr>\n",
       "    <tr>\n",
       "      <th>360</th>\n",
       "      <td>XYL</td>\n",
       "      <td>Xylem Inc.</td>\n",
       "      <td>specialty-industrial-machinery</td>\n",
       "      <td>industrials</td>\n",
       "      <td>-0.239278</td>\n",
       "      <td>-0.358567</td>\n",
       "      <td>0.041410</td>\n",
       "      <td>0.041410</td>\n",
       "      <td>0.041410</td>\n",
       "      <td>-0.470926</td>\n",
       "      <td>-0.601634</td>\n",
       "      <td>-0.360353</td>\n",
       "      <td>-0.056811</td>\n",
       "      <td>-0.325145</td>\n",
       "      <td>-0.519295</td>\n",
       "      <td>1</td>\n",
       "    </tr>\n",
       "    <tr>\n",
       "      <th>361</th>\n",
       "      <td>ZBH</td>\n",
       "      <td>Zimmer Biomet Holdings, Inc.</td>\n",
       "      <td>medical-devices</td>\n",
       "      <td>healthcare</td>\n",
       "      <td>-0.269460</td>\n",
       "      <td>-0.164124</td>\n",
       "      <td>0.161256</td>\n",
       "      <td>0.161256</td>\n",
       "      <td>0.161256</td>\n",
       "      <td>0.365531</td>\n",
       "      <td>-0.241292</td>\n",
       "      <td>-0.265023</td>\n",
       "      <td>-0.200939</td>\n",
       "      <td>-0.317359</td>\n",
       "      <td>-0.484571</td>\n",
       "      <td>11</td>\n",
       "    </tr>\n",
       "    <tr>\n",
       "      <th>362</th>\n",
       "      <td>ZTS</td>\n",
       "      <td>Zoetis Inc.</td>\n",
       "      <td>drug-manufacturers-specialty-generic</td>\n",
       "      <td>healthcare</td>\n",
       "      <td>-0.116739</td>\n",
       "      <td>0.339989</td>\n",
       "      <td>-0.121424</td>\n",
       "      <td>-0.121424</td>\n",
       "      <td>-0.121424</td>\n",
       "      <td>0.823556</td>\n",
       "      <td>1.402957</td>\n",
       "      <td>-0.050966</td>\n",
       "      <td>-0.094319</td>\n",
       "      <td>0.158057</td>\n",
       "      <td>1.444263</td>\n",
       "      <td>7</td>\n",
       "    </tr>\n",
       "  </tbody>\n",
       "</table>\n",
       "<p>363 rows × 16 columns</p>\n",
       "</div>"
      ],
      "text/plain": [
       "    Company                          Name  \\\n",
       "0       AOS       A. O. Smith Corporation   \n",
       "1       ABT           Abbott Laboratories   \n",
       "2      ABBV                   AbbVie Inc.   \n",
       "3       ACN                 Accenture plc   \n",
       "4      ADBE                    Adobe Inc.   \n",
       "..      ...                           ...   \n",
       "358    WDAY                 Workday, Inc.   \n",
       "359     XEL              Xcel Energy Inc.   \n",
       "360     XYL                    Xylem Inc.   \n",
       "361     ZBH  Zimmer Biomet Holdings, Inc.   \n",
       "362     ZTS                   Zoetis Inc.   \n",
       "\n",
       "                                 Industry       Sector  Market Cap  \\\n",
       "0          specialty-industrial-machinery  industrials   -0.298221   \n",
       "1                         medical-devices   healthcare    0.261256   \n",
       "2              drug-manufacturers-general   healthcare    0.572965   \n",
       "3         information-technology-services   technology    0.313502   \n",
       "4                 software-infrastructure   technology    0.174893   \n",
       "..                                    ...          ...         ...   \n",
       "358                  software-application   technology   -0.128976   \n",
       "359          utilities-regulated-electric    utilities   -0.221893   \n",
       "360        specialty-industrial-machinery  industrials   -0.239278   \n",
       "361                       medical-devices   healthcare   -0.269460   \n",
       "362  drug-manufacturers-specialty-generic   healthcare   -0.116739   \n",
       "\n",
       "     Rev Growth  NI Growth  EV/EBITDA    EV/Rev  EBITDA Margin  \\\n",
       "0     -0.718648  -0.285561  -0.285561 -0.285561      -0.426155   \n",
       "1     -0.099309  -0.132497  -0.132497 -0.132497      -0.089361   \n",
       "2     -0.178527  -0.307707  -0.307707 -0.307707       1.132160   \n",
       "3     -0.264946  -0.073877  -0.073877 -0.073877      -0.655044   \n",
       "4      0.311182  -0.075831  -0.075831 -0.075831       0.682488   \n",
       "..          ...        ...        ...       ...            ...   \n",
       "358    0.750481   0.202942   0.202942  0.202942      -1.205497   \n",
       "359   -0.488196  -0.215868  -0.215868 -0.215868       0.756430   \n",
       "360   -0.358567   0.041410   0.041410  0.041410      -0.470926   \n",
       "361   -0.164124   0.161256   0.161256  0.161256       0.365531   \n",
       "362    0.339989  -0.121424  -0.121424 -0.121424       0.823556   \n",
       "\n",
       "     Operating Margin  Debt/Equity        PE       ROE       ROA  Cluster  \n",
       "0           -0.257631    -0.395268 -0.258633 -0.060728  1.381529        7  \n",
       "1           -0.181061    -0.310251 -0.272840 -0.241876 -0.124281       11  \n",
       "2            0.634215     2.899931  0.445931  0.270216  0.112075       11  \n",
       "3           -0.513611    -0.376480 -0.096569 -0.096073  0.861622        1  \n",
       "4            1.267438    -0.298398 -0.065885  0.010862  1.694624        7  \n",
       "..                ...          ...       ...       ...       ...      ...  \n",
       "358         -1.256322    -0.302564  0.052072 -0.164989 -1.095413        1  \n",
       "359          0.332822     0.019288 -0.242172 -0.298276 -0.877091       11  \n",
       "360         -0.601634    -0.360353 -0.056811 -0.325145 -0.519295        1  \n",
       "361         -0.241292    -0.265023 -0.200939 -0.317359 -0.484571       11  \n",
       "362          1.402957    -0.050966 -0.094319  0.158057  1.444263        7  \n",
       "\n",
       "[363 rows x 16 columns]"
      ]
     },
     "execution_count": 748,
     "metadata": {},
     "output_type": "execute_result"
    }
   ],
   "source": [
    "df_scaled_no_outliers_numeric"
   ]
  },
  {
   "cell_type": "code",
   "execution_count": 749,
   "metadata": {},
   "outputs": [
    {
     "data": {
      "text/html": [
       "<div>\n",
       "<style scoped>\n",
       "    .dataframe tbody tr th:only-of-type {\n",
       "        vertical-align: middle;\n",
       "    }\n",
       "\n",
       "    .dataframe tbody tr th {\n",
       "        vertical-align: top;\n",
       "    }\n",
       "\n",
       "    .dataframe thead th {\n",
       "        text-align: right;\n",
       "    }\n",
       "</style>\n",
       "<table border=\"1\" class=\"dataframe\">\n",
       "  <thead>\n",
       "    <tr style=\"text-align: right;\">\n",
       "      <th></th>\n",
       "      <th>Company</th>\n",
       "      <th>Name</th>\n",
       "      <th>Industry</th>\n",
       "      <th>Sector</th>\n",
       "      <th>Market Cap</th>\n",
       "      <th>Rev Growth</th>\n",
       "      <th>NI Growth</th>\n",
       "      <th>EV/EBITDA</th>\n",
       "      <th>EV/Rev</th>\n",
       "      <th>EBITDA Margin</th>\n",
       "      <th>Operating Margin</th>\n",
       "      <th>Debt/Equity</th>\n",
       "      <th>PE</th>\n",
       "      <th>ROE</th>\n",
       "      <th>ROA</th>\n",
       "      <th>Cluster</th>\n",
       "    </tr>\n",
       "  </thead>\n",
       "  <tbody>\n",
       "    <tr>\n",
       "      <th>0</th>\n",
       "      <td>AOS</td>\n",
       "      <td>A. O. Smith Corporation</td>\n",
       "      <td>specialty-industrial-machinery</td>\n",
       "      <td>industrials</td>\n",
       "      <td>-0.298221</td>\n",
       "      <td>-0.718648</td>\n",
       "      <td>-0.285561</td>\n",
       "      <td>-0.285561</td>\n",
       "      <td>-0.285561</td>\n",
       "      <td>-0.426155</td>\n",
       "      <td>-0.257631</td>\n",
       "      <td>-0.395268</td>\n",
       "      <td>-0.258633</td>\n",
       "      <td>-0.060728</td>\n",
       "      <td>1.381529</td>\n",
       "      <td>7</td>\n",
       "    </tr>\n",
       "    <tr>\n",
       "      <th>1</th>\n",
       "      <td>ABT</td>\n",
       "      <td>Abbott Laboratories</td>\n",
       "      <td>medical-devices</td>\n",
       "      <td>healthcare</td>\n",
       "      <td>0.261256</td>\n",
       "      <td>-0.099309</td>\n",
       "      <td>-0.132497</td>\n",
       "      <td>-0.132497</td>\n",
       "      <td>-0.132497</td>\n",
       "      <td>-0.089361</td>\n",
       "      <td>-0.181061</td>\n",
       "      <td>-0.310251</td>\n",
       "      <td>-0.272840</td>\n",
       "      <td>-0.241876</td>\n",
       "      <td>-0.124281</td>\n",
       "      <td>11</td>\n",
       "    </tr>\n",
       "    <tr>\n",
       "      <th>2</th>\n",
       "      <td>ABBV</td>\n",
       "      <td>AbbVie Inc.</td>\n",
       "      <td>drug-manufacturers-general</td>\n",
       "      <td>healthcare</td>\n",
       "      <td>0.572965</td>\n",
       "      <td>-0.178527</td>\n",
       "      <td>-0.307707</td>\n",
       "      <td>-0.307707</td>\n",
       "      <td>-0.307707</td>\n",
       "      <td>1.132160</td>\n",
       "      <td>0.634215</td>\n",
       "      <td>2.899931</td>\n",
       "      <td>0.445931</td>\n",
       "      <td>0.270216</td>\n",
       "      <td>0.112075</td>\n",
       "      <td>11</td>\n",
       "    </tr>\n",
       "    <tr>\n",
       "      <th>3</th>\n",
       "      <td>ACN</td>\n",
       "      <td>Accenture plc</td>\n",
       "      <td>information-technology-services</td>\n",
       "      <td>technology</td>\n",
       "      <td>0.313502</td>\n",
       "      <td>-0.264946</td>\n",
       "      <td>-0.073877</td>\n",
       "      <td>-0.073877</td>\n",
       "      <td>-0.073877</td>\n",
       "      <td>-0.655044</td>\n",
       "      <td>-0.513611</td>\n",
       "      <td>-0.376480</td>\n",
       "      <td>-0.096569</td>\n",
       "      <td>-0.096073</td>\n",
       "      <td>0.861622</td>\n",
       "      <td>1</td>\n",
       "    </tr>\n",
       "    <tr>\n",
       "      <th>4</th>\n",
       "      <td>ADBE</td>\n",
       "      <td>Adobe Inc.</td>\n",
       "      <td>software-infrastructure</td>\n",
       "      <td>technology</td>\n",
       "      <td>0.174893</td>\n",
       "      <td>0.311182</td>\n",
       "      <td>-0.075831</td>\n",
       "      <td>-0.075831</td>\n",
       "      <td>-0.075831</td>\n",
       "      <td>0.682488</td>\n",
       "      <td>1.267438</td>\n",
       "      <td>-0.298398</td>\n",
       "      <td>-0.065885</td>\n",
       "      <td>0.010862</td>\n",
       "      <td>1.694624</td>\n",
       "      <td>7</td>\n",
       "    </tr>\n",
       "    <tr>\n",
       "      <th>...</th>\n",
       "      <td>...</td>\n",
       "      <td>...</td>\n",
       "      <td>...</td>\n",
       "      <td>...</td>\n",
       "      <td>...</td>\n",
       "      <td>...</td>\n",
       "      <td>...</td>\n",
       "      <td>...</td>\n",
       "      <td>...</td>\n",
       "      <td>...</td>\n",
       "      <td>...</td>\n",
       "      <td>...</td>\n",
       "      <td>...</td>\n",
       "      <td>...</td>\n",
       "      <td>...</td>\n",
       "      <td>...</td>\n",
       "    </tr>\n",
       "    <tr>\n",
       "      <th>358</th>\n",
       "      <td>WDAY</td>\n",
       "      <td>Workday, Inc.</td>\n",
       "      <td>software-application</td>\n",
       "      <td>technology</td>\n",
       "      <td>-0.128976</td>\n",
       "      <td>0.750481</td>\n",
       "      <td>0.202942</td>\n",
       "      <td>0.202942</td>\n",
       "      <td>0.202942</td>\n",
       "      <td>-1.205497</td>\n",
       "      <td>-1.256322</td>\n",
       "      <td>-0.302564</td>\n",
       "      <td>0.052072</td>\n",
       "      <td>-0.164989</td>\n",
       "      <td>-1.095413</td>\n",
       "      <td>1</td>\n",
       "    </tr>\n",
       "    <tr>\n",
       "      <th>359</th>\n",
       "      <td>XEL</td>\n",
       "      <td>Xcel Energy Inc.</td>\n",
       "      <td>utilities-regulated-electric</td>\n",
       "      <td>utilities</td>\n",
       "      <td>-0.221893</td>\n",
       "      <td>-0.488196</td>\n",
       "      <td>-0.215868</td>\n",
       "      <td>-0.215868</td>\n",
       "      <td>-0.215868</td>\n",
       "      <td>0.756430</td>\n",
       "      <td>0.332822</td>\n",
       "      <td>0.019288</td>\n",
       "      <td>-0.242172</td>\n",
       "      <td>-0.298276</td>\n",
       "      <td>-0.877091</td>\n",
       "      <td>11</td>\n",
       "    </tr>\n",
       "    <tr>\n",
       "      <th>360</th>\n",
       "      <td>XYL</td>\n",
       "      <td>Xylem Inc.</td>\n",
       "      <td>specialty-industrial-machinery</td>\n",
       "      <td>industrials</td>\n",
       "      <td>-0.239278</td>\n",
       "      <td>-0.358567</td>\n",
       "      <td>0.041410</td>\n",
       "      <td>0.041410</td>\n",
       "      <td>0.041410</td>\n",
       "      <td>-0.470926</td>\n",
       "      <td>-0.601634</td>\n",
       "      <td>-0.360353</td>\n",
       "      <td>-0.056811</td>\n",
       "      <td>-0.325145</td>\n",
       "      <td>-0.519295</td>\n",
       "      <td>1</td>\n",
       "    </tr>\n",
       "    <tr>\n",
       "      <th>361</th>\n",
       "      <td>ZBH</td>\n",
       "      <td>Zimmer Biomet Holdings, Inc.</td>\n",
       "      <td>medical-devices</td>\n",
       "      <td>healthcare</td>\n",
       "      <td>-0.269460</td>\n",
       "      <td>-0.164124</td>\n",
       "      <td>0.161256</td>\n",
       "      <td>0.161256</td>\n",
       "      <td>0.161256</td>\n",
       "      <td>0.365531</td>\n",
       "      <td>-0.241292</td>\n",
       "      <td>-0.265023</td>\n",
       "      <td>-0.200939</td>\n",
       "      <td>-0.317359</td>\n",
       "      <td>-0.484571</td>\n",
       "      <td>11</td>\n",
       "    </tr>\n",
       "    <tr>\n",
       "      <th>362</th>\n",
       "      <td>ZTS</td>\n",
       "      <td>Zoetis Inc.</td>\n",
       "      <td>drug-manufacturers-specialty-generic</td>\n",
       "      <td>healthcare</td>\n",
       "      <td>-0.116739</td>\n",
       "      <td>0.339989</td>\n",
       "      <td>-0.121424</td>\n",
       "      <td>-0.121424</td>\n",
       "      <td>-0.121424</td>\n",
       "      <td>0.823556</td>\n",
       "      <td>1.402957</td>\n",
       "      <td>-0.050966</td>\n",
       "      <td>-0.094319</td>\n",
       "      <td>0.158057</td>\n",
       "      <td>1.444263</td>\n",
       "      <td>7</td>\n",
       "    </tr>\n",
       "  </tbody>\n",
       "</table>\n",
       "<p>363 rows × 16 columns</p>\n",
       "</div>"
      ],
      "text/plain": [
       "    Company                          Name  \\\n",
       "0       AOS       A. O. Smith Corporation   \n",
       "1       ABT           Abbott Laboratories   \n",
       "2      ABBV                   AbbVie Inc.   \n",
       "3       ACN                 Accenture plc   \n",
       "4      ADBE                    Adobe Inc.   \n",
       "..      ...                           ...   \n",
       "358    WDAY                 Workday, Inc.   \n",
       "359     XEL              Xcel Energy Inc.   \n",
       "360     XYL                    Xylem Inc.   \n",
       "361     ZBH  Zimmer Biomet Holdings, Inc.   \n",
       "362     ZTS                   Zoetis Inc.   \n",
       "\n",
       "                                 Industry       Sector  Market Cap  \\\n",
       "0          specialty-industrial-machinery  industrials   -0.298221   \n",
       "1                         medical-devices   healthcare    0.261256   \n",
       "2              drug-manufacturers-general   healthcare    0.572965   \n",
       "3         information-technology-services   technology    0.313502   \n",
       "4                 software-infrastructure   technology    0.174893   \n",
       "..                                    ...          ...         ...   \n",
       "358                  software-application   technology   -0.128976   \n",
       "359          utilities-regulated-electric    utilities   -0.221893   \n",
       "360        specialty-industrial-machinery  industrials   -0.239278   \n",
       "361                       medical-devices   healthcare   -0.269460   \n",
       "362  drug-manufacturers-specialty-generic   healthcare   -0.116739   \n",
       "\n",
       "     Rev Growth  NI Growth  EV/EBITDA    EV/Rev  EBITDA Margin  \\\n",
       "0     -0.718648  -0.285561  -0.285561 -0.285561      -0.426155   \n",
       "1     -0.099309  -0.132497  -0.132497 -0.132497      -0.089361   \n",
       "2     -0.178527  -0.307707  -0.307707 -0.307707       1.132160   \n",
       "3     -0.264946  -0.073877  -0.073877 -0.073877      -0.655044   \n",
       "4      0.311182  -0.075831  -0.075831 -0.075831       0.682488   \n",
       "..          ...        ...        ...       ...            ...   \n",
       "358    0.750481   0.202942   0.202942  0.202942      -1.205497   \n",
       "359   -0.488196  -0.215868  -0.215868 -0.215868       0.756430   \n",
       "360   -0.358567   0.041410   0.041410  0.041410      -0.470926   \n",
       "361   -0.164124   0.161256   0.161256  0.161256       0.365531   \n",
       "362    0.339989  -0.121424  -0.121424 -0.121424       0.823556   \n",
       "\n",
       "     Operating Margin  Debt/Equity        PE       ROE       ROA  Cluster  \n",
       "0           -0.257631    -0.395268 -0.258633 -0.060728  1.381529        7  \n",
       "1           -0.181061    -0.310251 -0.272840 -0.241876 -0.124281       11  \n",
       "2            0.634215     2.899931  0.445931  0.270216  0.112075       11  \n",
       "3           -0.513611    -0.376480 -0.096569 -0.096073  0.861622        1  \n",
       "4            1.267438    -0.298398 -0.065885  0.010862  1.694624        7  \n",
       "..                ...          ...       ...       ...       ...      ...  \n",
       "358         -1.256322    -0.302564  0.052072 -0.164989 -1.095413        1  \n",
       "359          0.332822     0.019288 -0.242172 -0.298276 -0.877091       11  \n",
       "360         -0.601634    -0.360353 -0.056811 -0.325145 -0.519295        1  \n",
       "361         -0.241292    -0.265023 -0.200939 -0.317359 -0.484571       11  \n",
       "362          1.402957    -0.050966 -0.094319  0.158057  1.444263        7  \n",
       "\n",
       "[363 rows x 16 columns]"
      ]
     },
     "execution_count": 749,
     "metadata": {},
     "output_type": "execute_result"
    }
   ],
   "source": [
    "df_final = df_scaled_no_outliers_numeric\n",
    "df_final"
   ]
  },
  {
   "cell_type": "code",
   "execution_count": 750,
   "metadata": {},
   "outputs": [],
   "source": [
    "target_stock = \"WMT\""
   ]
  },
  {
   "cell_type": "code",
   "execution_count": 751,
   "metadata": {},
   "outputs": [
    {
     "data": {
      "text/plain": [
       "'discount-stores'"
      ]
     },
     "execution_count": 751,
     "metadata": {},
     "output_type": "execute_result"
    }
   ],
   "source": [
    "target_cluster = df_final[df_final[\"Company\"] == target_stock][\"Cluster\"].values[0]\n",
    "target_sector = df_final[df_final[\"Company\"] == target_stock][\"Sector\"].values[0]\n",
    "target_industry = df_final[df_final[\"Company\"] == target_stock][\"Industry\"].values[0]\n",
    "target_industry"
   ]
  },
  {
   "cell_type": "markdown",
   "metadata": {},
   "source": [
    "## Same Cluster"
   ]
  },
  {
   "cell_type": "code",
   "execution_count": 752,
   "metadata": {},
   "outputs": [
    {
     "data": {
      "text/html": [
       "<div>\n",
       "<style scoped>\n",
       "    .dataframe tbody tr th:only-of-type {\n",
       "        vertical-align: middle;\n",
       "    }\n",
       "\n",
       "    .dataframe tbody tr th {\n",
       "        vertical-align: top;\n",
       "    }\n",
       "\n",
       "    .dataframe thead th {\n",
       "        text-align: right;\n",
       "    }\n",
       "</style>\n",
       "<table border=\"1\" class=\"dataframe\">\n",
       "  <thead>\n",
       "    <tr style=\"text-align: right;\">\n",
       "      <th></th>\n",
       "      <th>Company</th>\n",
       "      <th>Name</th>\n",
       "      <th>Sector</th>\n",
       "      <th>Industry</th>\n",
       "    </tr>\n",
       "  </thead>\n",
       "  <tbody>\n",
       "    <tr>\n",
       "      <th>0</th>\n",
       "      <td>ACN</td>\n",
       "      <td>Accenture plc</td>\n",
       "      <td>technology</td>\n",
       "      <td>information-technology-services</td>\n",
       "    </tr>\n",
       "    <tr>\n",
       "      <th>1</th>\n",
       "      <td>ALGN</td>\n",
       "      <td>Align Technology, Inc.</td>\n",
       "      <td>healthcare</td>\n",
       "      <td>medical-instruments-supplies</td>\n",
       "    </tr>\n",
       "    <tr>\n",
       "      <th>2</th>\n",
       "      <td>AMCR</td>\n",
       "      <td>Amcor plc</td>\n",
       "      <td>consumer-cyclical</td>\n",
       "      <td>packaging-containers</td>\n",
       "    </tr>\n",
       "    <tr>\n",
       "      <th>3</th>\n",
       "      <td>AIZ</td>\n",
       "      <td>Assurant, Inc.</td>\n",
       "      <td>financial-services</td>\n",
       "      <td>insurance-property-casualty</td>\n",
       "    </tr>\n",
       "    <tr>\n",
       "      <th>4</th>\n",
       "      <td>AVY</td>\n",
       "      <td>Avery Dennison Corporation</td>\n",
       "      <td>consumer-cyclical</td>\n",
       "      <td>packaging-containers</td>\n",
       "    </tr>\n",
       "    <tr>\n",
       "      <th>...</th>\n",
       "      <td>...</td>\n",
       "      <td>...</td>\n",
       "      <td>...</td>\n",
       "      <td>...</td>\n",
       "    </tr>\n",
       "    <tr>\n",
       "      <th>99</th>\n",
       "      <td>UHS</td>\n",
       "      <td>Universal Health Services, Inc.</td>\n",
       "      <td>healthcare</td>\n",
       "      <td>medical-care-facilities</td>\n",
       "    </tr>\n",
       "    <tr>\n",
       "      <th>100</th>\n",
       "      <td>WAB</td>\n",
       "      <td>Westinghouse Air Brake Technologies Corporation</td>\n",
       "      <td>industrials</td>\n",
       "      <td>railroads</td>\n",
       "    </tr>\n",
       "    <tr>\n",
       "      <th>101</th>\n",
       "      <td>WMT</td>\n",
       "      <td>Walmart Inc.</td>\n",
       "      <td>consumer-defensive</td>\n",
       "      <td>discount-stores</td>\n",
       "    </tr>\n",
       "    <tr>\n",
       "      <th>102</th>\n",
       "      <td>WDAY</td>\n",
       "      <td>Workday, Inc.</td>\n",
       "      <td>technology</td>\n",
       "      <td>software-application</td>\n",
       "    </tr>\n",
       "    <tr>\n",
       "      <th>103</th>\n",
       "      <td>XYL</td>\n",
       "      <td>Xylem Inc.</td>\n",
       "      <td>industrials</td>\n",
       "      <td>specialty-industrial-machinery</td>\n",
       "    </tr>\n",
       "  </tbody>\n",
       "</table>\n",
       "<p>104 rows × 4 columns</p>\n",
       "</div>"
      ],
      "text/plain": [
       "    Company                                             Name  \\\n",
       "0       ACN                                    Accenture plc   \n",
       "1      ALGN                           Align Technology, Inc.   \n",
       "2      AMCR                                        Amcor plc   \n",
       "3       AIZ                                   Assurant, Inc.   \n",
       "4       AVY                       Avery Dennison Corporation   \n",
       "..      ...                                              ...   \n",
       "99      UHS                  Universal Health Services, Inc.   \n",
       "100     WAB  Westinghouse Air Brake Technologies Corporation   \n",
       "101     WMT                                     Walmart Inc.   \n",
       "102    WDAY                                    Workday, Inc.   \n",
       "103     XYL                                       Xylem Inc.   \n",
       "\n",
       "                 Sector                         Industry  \n",
       "0            technology  information-technology-services  \n",
       "1            healthcare     medical-instruments-supplies  \n",
       "2     consumer-cyclical             packaging-containers  \n",
       "3    financial-services      insurance-property-casualty  \n",
       "4     consumer-cyclical             packaging-containers  \n",
       "..                  ...                              ...  \n",
       "99           healthcare          medical-care-facilities  \n",
       "100         industrials                        railroads  \n",
       "101  consumer-defensive                  discount-stores  \n",
       "102          technology             software-application  \n",
       "103         industrials   specialty-industrial-machinery  \n",
       "\n",
       "[104 rows x 4 columns]"
      ]
     },
     "execution_count": 752,
     "metadata": {},
     "output_type": "execute_result"
    }
   ],
   "source": [
    "comparable_Companies_list = df_final[df_final[\"Cluster\"]==target_cluster][\"Company\"].to_list()\n",
    "comparable_Sectors_list = df_final[df_final[\"Cluster\"]==target_cluster][\"Sector\"].to_list()\n",
    "comparable_Industries_list = df_final[df_final[\"Cluster\"]==target_cluster][\"Industry\"].to_list()\n",
    "comparable_Names_list = df_final[df_final[\"Cluster\"]==target_cluster][\"Name\"].to_list()\n",
    "comparables_df = pd.DataFrame()\n",
    "comparables_df[\"Company\"] = comparable_Companies_list\n",
    "comparables_df[\"Name\"] = comparable_Names_list\n",
    "comparables_df[\"Sector\"] = comparable_Sectors_list\n",
    "comparables_df[\"Industry\"] = comparable_Industries_list\n",
    "comparables_df"
   ]
  },
  {
   "cell_type": "markdown",
   "metadata": {},
   "source": [
    "## Same Cluster and Sector"
   ]
  },
  {
   "cell_type": "code",
   "execution_count": 753,
   "metadata": {},
   "outputs": [
    {
     "data": {
      "text/html": [
       "<div>\n",
       "<style scoped>\n",
       "    .dataframe tbody tr th:only-of-type {\n",
       "        vertical-align: middle;\n",
       "    }\n",
       "\n",
       "    .dataframe tbody tr th {\n",
       "        vertical-align: top;\n",
       "    }\n",
       "\n",
       "    .dataframe thead th {\n",
       "        text-align: right;\n",
       "    }\n",
       "</style>\n",
       "<table border=\"1\" class=\"dataframe\">\n",
       "  <thead>\n",
       "    <tr style=\"text-align: right;\">\n",
       "      <th></th>\n",
       "      <th>Company</th>\n",
       "      <th>Name</th>\n",
       "      <th>Sector</th>\n",
       "      <th>Industry</th>\n",
       "    </tr>\n",
       "  </thead>\n",
       "  <tbody>\n",
       "    <tr>\n",
       "      <th>21</th>\n",
       "      <td>CAG</td>\n",
       "      <td>Conagra Brands, Inc.</td>\n",
       "      <td>consumer-defensive</td>\n",
       "      <td>packaged-foods</td>\n",
       "    </tr>\n",
       "    <tr>\n",
       "      <th>23</th>\n",
       "      <td>COST</td>\n",
       "      <td>Costco Wholesale Corporation</td>\n",
       "      <td>consumer-defensive</td>\n",
       "      <td>discount-stores</td>\n",
       "    </tr>\n",
       "    <tr>\n",
       "      <th>30</th>\n",
       "      <td>DG</td>\n",
       "      <td>Dollar General Corporation</td>\n",
       "      <td>consumer-defensive</td>\n",
       "      <td>discount-stores</td>\n",
       "    </tr>\n",
       "    <tr>\n",
       "      <th>42</th>\n",
       "      <td>GIS</td>\n",
       "      <td>General Mills, Inc.</td>\n",
       "      <td>consumer-defensive</td>\n",
       "      <td>packaged-foods</td>\n",
       "    </tr>\n",
       "    <tr>\n",
       "      <th>49</th>\n",
       "      <td>HRL</td>\n",
       "      <td>Hormel Foods Corporation</td>\n",
       "      <td>consumer-defensive</td>\n",
       "      <td>packaged-foods</td>\n",
       "    </tr>\n",
       "    <tr>\n",
       "      <th>59</th>\n",
       "      <td>K</td>\n",
       "      <td>Kellanova</td>\n",
       "      <td>consumer-defensive</td>\n",
       "      <td>packaged-foods</td>\n",
       "    </tr>\n",
       "    <tr>\n",
       "      <th>60</th>\n",
       "      <td>KR</td>\n",
       "      <td>The Kroger Co.</td>\n",
       "      <td>consumer-defensive</td>\n",
       "      <td>grocery-stores</td>\n",
       "    </tr>\n",
       "    <tr>\n",
       "      <th>63</th>\n",
       "      <td>LW</td>\n",
       "      <td>Lamb Weston Holdings, Inc.</td>\n",
       "      <td>consumer-defensive</td>\n",
       "      <td>packaged-foods</td>\n",
       "    </tr>\n",
       "    <tr>\n",
       "      <th>70</th>\n",
       "      <td>MKC</td>\n",
       "      <td>McCormick &amp; Company, Incorporated</td>\n",
       "      <td>consumer-defensive</td>\n",
       "      <td>packaged-foods</td>\n",
       "    </tr>\n",
       "    <tr>\n",
       "      <th>73</th>\n",
       "      <td>MDLZ</td>\n",
       "      <td>Mondelez International, Inc.</td>\n",
       "      <td>consumer-defensive</td>\n",
       "      <td>confectioners</td>\n",
       "    </tr>\n",
       "    <tr>\n",
       "      <th>79</th>\n",
       "      <td>PEP</td>\n",
       "      <td>PepsiCo, Inc.</td>\n",
       "      <td>consumer-defensive</td>\n",
       "      <td>beverages-non-alcoholic</td>\n",
       "    </tr>\n",
       "    <tr>\n",
       "      <th>90</th>\n",
       "      <td>TGT</td>\n",
       "      <td>Target Corporation</td>\n",
       "      <td>consumer-defensive</td>\n",
       "      <td>discount-stores</td>\n",
       "    </tr>\n",
       "    <tr>\n",
       "      <th>101</th>\n",
       "      <td>WMT</td>\n",
       "      <td>Walmart Inc.</td>\n",
       "      <td>consumer-defensive</td>\n",
       "      <td>discount-stores</td>\n",
       "    </tr>\n",
       "  </tbody>\n",
       "</table>\n",
       "</div>"
      ],
      "text/plain": [
       "    Company                               Name              Sector  \\\n",
       "21      CAG               Conagra Brands, Inc.  consumer-defensive   \n",
       "23     COST       Costco Wholesale Corporation  consumer-defensive   \n",
       "30       DG         Dollar General Corporation  consumer-defensive   \n",
       "42      GIS                General Mills, Inc.  consumer-defensive   \n",
       "49      HRL           Hormel Foods Corporation  consumer-defensive   \n",
       "59        K                          Kellanova  consumer-defensive   \n",
       "60       KR                     The Kroger Co.  consumer-defensive   \n",
       "63       LW         Lamb Weston Holdings, Inc.  consumer-defensive   \n",
       "70      MKC  McCormick & Company, Incorporated  consumer-defensive   \n",
       "73     MDLZ       Mondelez International, Inc.  consumer-defensive   \n",
       "79      PEP                      PepsiCo, Inc.  consumer-defensive   \n",
       "90      TGT                 Target Corporation  consumer-defensive   \n",
       "101     WMT                       Walmart Inc.  consumer-defensive   \n",
       "\n",
       "                    Industry  \n",
       "21            packaged-foods  \n",
       "23           discount-stores  \n",
       "30           discount-stores  \n",
       "42            packaged-foods  \n",
       "49            packaged-foods  \n",
       "59            packaged-foods  \n",
       "60            grocery-stores  \n",
       "63            packaged-foods  \n",
       "70            packaged-foods  \n",
       "73             confectioners  \n",
       "79   beverages-non-alcoholic  \n",
       "90           discount-stores  \n",
       "101          discount-stores  "
      ]
     },
     "execution_count": 753,
     "metadata": {},
     "output_type": "execute_result"
    }
   ],
   "source": [
    "comparables_df[comparables_df[\"Sector\"] == target_sector]"
   ]
  },
  {
   "cell_type": "markdown",
   "metadata": {},
   "source": [
    "## Same Cluster Sector and Industry"
   ]
  },
  {
   "cell_type": "code",
   "execution_count": 754,
   "metadata": {},
   "outputs": [
    {
     "data": {
      "text/html": [
       "<div>\n",
       "<style scoped>\n",
       "    .dataframe tbody tr th:only-of-type {\n",
       "        vertical-align: middle;\n",
       "    }\n",
       "\n",
       "    .dataframe tbody tr th {\n",
       "        vertical-align: top;\n",
       "    }\n",
       "\n",
       "    .dataframe thead th {\n",
       "        text-align: right;\n",
       "    }\n",
       "</style>\n",
       "<table border=\"1\" class=\"dataframe\">\n",
       "  <thead>\n",
       "    <tr style=\"text-align: right;\">\n",
       "      <th></th>\n",
       "      <th>Company</th>\n",
       "      <th>Name</th>\n",
       "      <th>Sector</th>\n",
       "      <th>Industry</th>\n",
       "    </tr>\n",
       "  </thead>\n",
       "  <tbody>\n",
       "    <tr>\n",
       "      <th>23</th>\n",
       "      <td>COST</td>\n",
       "      <td>Costco Wholesale Corporation</td>\n",
       "      <td>consumer-defensive</td>\n",
       "      <td>discount-stores</td>\n",
       "    </tr>\n",
       "    <tr>\n",
       "      <th>30</th>\n",
       "      <td>DG</td>\n",
       "      <td>Dollar General Corporation</td>\n",
       "      <td>consumer-defensive</td>\n",
       "      <td>discount-stores</td>\n",
       "    </tr>\n",
       "    <tr>\n",
       "      <th>90</th>\n",
       "      <td>TGT</td>\n",
       "      <td>Target Corporation</td>\n",
       "      <td>consumer-defensive</td>\n",
       "      <td>discount-stores</td>\n",
       "    </tr>\n",
       "    <tr>\n",
       "      <th>101</th>\n",
       "      <td>WMT</td>\n",
       "      <td>Walmart Inc.</td>\n",
       "      <td>consumer-defensive</td>\n",
       "      <td>discount-stores</td>\n",
       "    </tr>\n",
       "  </tbody>\n",
       "</table>\n",
       "</div>"
      ],
      "text/plain": [
       "    Company                          Name              Sector         Industry\n",
       "23     COST  Costco Wholesale Corporation  consumer-defensive  discount-stores\n",
       "30       DG    Dollar General Corporation  consumer-defensive  discount-stores\n",
       "90      TGT            Target Corporation  consumer-defensive  discount-stores\n",
       "101     WMT                  Walmart Inc.  consumer-defensive  discount-stores"
      ]
     },
     "execution_count": 754,
     "metadata": {},
     "output_type": "execute_result"
    }
   ],
   "source": [
    "comparables_df[comparables_df[\"Industry\"] == target_industry]"
   ]
  },
  {
   "cell_type": "markdown",
   "metadata": {},
   "source": [
    "## Same Sector"
   ]
  },
  {
   "cell_type": "code",
   "execution_count": 755,
   "metadata": {},
   "outputs": [
    {
     "data": {
      "text/html": [
       "<div>\n",
       "<style scoped>\n",
       "    .dataframe tbody tr th:only-of-type {\n",
       "        vertical-align: middle;\n",
       "    }\n",
       "\n",
       "    .dataframe tbody tr th {\n",
       "        vertical-align: top;\n",
       "    }\n",
       "\n",
       "    .dataframe thead th {\n",
       "        text-align: right;\n",
       "    }\n",
       "</style>\n",
       "<table border=\"1\" class=\"dataframe\">\n",
       "  <thead>\n",
       "    <tr style=\"text-align: right;\">\n",
       "      <th></th>\n",
       "      <th>Company</th>\n",
       "      <th>Name</th>\n",
       "      <th>Sector</th>\n",
       "      <th>Industry</th>\n",
       "    </tr>\n",
       "  </thead>\n",
       "  <tbody>\n",
       "    <tr>\n",
       "      <th>31</th>\n",
       "      <td>ADM</td>\n",
       "      <td>Archer-Daniels-Midland Company</td>\n",
       "      <td>consumer-defensive</td>\n",
       "      <td>farm-products</td>\n",
       "    </tr>\n",
       "    <tr>\n",
       "      <th>54</th>\n",
       "      <td>BG</td>\n",
       "      <td>Bunge Global SA</td>\n",
       "      <td>consumer-defensive</td>\n",
       "      <td>farm-products</td>\n",
       "    </tr>\n",
       "    <tr>\n",
       "      <th>77</th>\n",
       "      <td>CLX</td>\n",
       "      <td>The Clorox Company</td>\n",
       "      <td>consumer-defensive</td>\n",
       "      <td>household-personal-products</td>\n",
       "    </tr>\n",
       "    <tr>\n",
       "      <th>80</th>\n",
       "      <td>KO</td>\n",
       "      <td>The Coca-Cola Company</td>\n",
       "      <td>consumer-defensive</td>\n",
       "      <td>beverages-non-alcoholic</td>\n",
       "    </tr>\n",
       "    <tr>\n",
       "      <th>82</th>\n",
       "      <td>CL</td>\n",
       "      <td>Colgate-Palmolive Company</td>\n",
       "      <td>consumer-defensive</td>\n",
       "      <td>household-personal-products</td>\n",
       "    </tr>\n",
       "    <tr>\n",
       "      <th>84</th>\n",
       "      <td>CAG</td>\n",
       "      <td>Conagra Brands, Inc.</td>\n",
       "      <td>consumer-defensive</td>\n",
       "      <td>packaged-foods</td>\n",
       "    </tr>\n",
       "    <tr>\n",
       "      <th>92</th>\n",
       "      <td>COST</td>\n",
       "      <td>Costco Wholesale Corporation</td>\n",
       "      <td>consumer-defensive</td>\n",
       "      <td>discount-stores</td>\n",
       "    </tr>\n",
       "    <tr>\n",
       "      <th>109</th>\n",
       "      <td>DG</td>\n",
       "      <td>Dollar General Corporation</td>\n",
       "      <td>consumer-defensive</td>\n",
       "      <td>discount-stores</td>\n",
       "    </tr>\n",
       "    <tr>\n",
       "      <th>159</th>\n",
       "      <td>GIS</td>\n",
       "      <td>General Mills, Inc.</td>\n",
       "      <td>consumer-defensive</td>\n",
       "      <td>packaged-foods</td>\n",
       "    </tr>\n",
       "    <tr>\n",
       "      <th>170</th>\n",
       "      <td>HSY</td>\n",
       "      <td>The Hershey Company</td>\n",
       "      <td>consumer-defensive</td>\n",
       "      <td>confectioners</td>\n",
       "    </tr>\n",
       "    <tr>\n",
       "      <th>176</th>\n",
       "      <td>HRL</td>\n",
       "      <td>Hormel Foods Corporation</td>\n",
       "      <td>consumer-defensive</td>\n",
       "      <td>packaged-foods</td>\n",
       "    </tr>\n",
       "    <tr>\n",
       "      <th>201</th>\n",
       "      <td>K</td>\n",
       "      <td>Kellanova</td>\n",
       "      <td>consumer-defensive</td>\n",
       "      <td>packaged-foods</td>\n",
       "    </tr>\n",
       "    <tr>\n",
       "      <th>202</th>\n",
       "      <td>KVUE</td>\n",
       "      <td>Kenvue Inc.</td>\n",
       "      <td>consumer-defensive</td>\n",
       "      <td>household-personal-products</td>\n",
       "    </tr>\n",
       "    <tr>\n",
       "      <th>203</th>\n",
       "      <td>KDP</td>\n",
       "      <td>Keurig Dr Pepper Inc.</td>\n",
       "      <td>consumer-defensive</td>\n",
       "      <td>beverages-non-alcoholic</td>\n",
       "    </tr>\n",
       "    <tr>\n",
       "      <th>205</th>\n",
       "      <td>KMB</td>\n",
       "      <td>Kimberly-Clark Corporation</td>\n",
       "      <td>consumer-defensive</td>\n",
       "      <td>household-personal-products</td>\n",
       "    </tr>\n",
       "    <tr>\n",
       "      <th>209</th>\n",
       "      <td>KR</td>\n",
       "      <td>The Kroger Co.</td>\n",
       "      <td>consumer-defensive</td>\n",
       "      <td>grocery-stores</td>\n",
       "    </tr>\n",
       "    <tr>\n",
       "      <th>213</th>\n",
       "      <td>LW</td>\n",
       "      <td>Lamb Weston Holdings, Inc.</td>\n",
       "      <td>consumer-defensive</td>\n",
       "      <td>packaged-foods</td>\n",
       "    </tr>\n",
       "    <tr>\n",
       "      <th>230</th>\n",
       "      <td>MKC</td>\n",
       "      <td>McCormick &amp; Company, Incorporated</td>\n",
       "      <td>consumer-defensive</td>\n",
       "      <td>packaged-foods</td>\n",
       "    </tr>\n",
       "    <tr>\n",
       "      <th>240</th>\n",
       "      <td>TAP</td>\n",
       "      <td>Molson Coors Beverage Company</td>\n",
       "      <td>consumer-defensive</td>\n",
       "      <td>beverages-brewers</td>\n",
       "    </tr>\n",
       "    <tr>\n",
       "      <th>241</th>\n",
       "      <td>MDLZ</td>\n",
       "      <td>Mondelez International, Inc.</td>\n",
       "      <td>consumer-defensive</td>\n",
       "      <td>confectioners</td>\n",
       "    </tr>\n",
       "    <tr>\n",
       "      <th>243</th>\n",
       "      <td>MNST</td>\n",
       "      <td>Monster Beverage Corporation</td>\n",
       "      <td>consumer-defensive</td>\n",
       "      <td>beverages-non-alcoholic</td>\n",
       "    </tr>\n",
       "    <tr>\n",
       "      <th>277</th>\n",
       "      <td>PEP</td>\n",
       "      <td>PepsiCo, Inc.</td>\n",
       "      <td>consumer-defensive</td>\n",
       "      <td>beverages-non-alcoholic</td>\n",
       "    </tr>\n",
       "    <tr>\n",
       "      <th>284</th>\n",
       "      <td>PG</td>\n",
       "      <td>The Procter &amp; Gamble Company</td>\n",
       "      <td>consumer-defensive</td>\n",
       "      <td>household-personal-products</td>\n",
       "    </tr>\n",
       "    <tr>\n",
       "      <th>314</th>\n",
       "      <td>SJM</td>\n",
       "      <td>The J. M. Smucker Company</td>\n",
       "      <td>consumer-defensive</td>\n",
       "      <td>packaged-foods</td>\n",
       "    </tr>\n",
       "    <tr>\n",
       "      <th>329</th>\n",
       "      <td>TGT</td>\n",
       "      <td>Target Corporation</td>\n",
       "      <td>consumer-defensive</td>\n",
       "      <td>discount-stores</td>\n",
       "    </tr>\n",
       "    <tr>\n",
       "      <th>363</th>\n",
       "      <td>WMT</td>\n",
       "      <td>Walmart Inc.</td>\n",
       "      <td>consumer-defensive</td>\n",
       "      <td>discount-stores</td>\n",
       "    </tr>\n",
       "  </tbody>\n",
       "</table>\n",
       "</div>"
      ],
      "text/plain": [
       "    Company                               Name              Sector  \\\n",
       "31      ADM     Archer-Daniels-Midland Company  consumer-defensive   \n",
       "54       BG                    Bunge Global SA  consumer-defensive   \n",
       "77      CLX                 The Clorox Company  consumer-defensive   \n",
       "80       KO              The Coca-Cola Company  consumer-defensive   \n",
       "82       CL          Colgate-Palmolive Company  consumer-defensive   \n",
       "84      CAG               Conagra Brands, Inc.  consumer-defensive   \n",
       "92     COST       Costco Wholesale Corporation  consumer-defensive   \n",
       "109      DG         Dollar General Corporation  consumer-defensive   \n",
       "159     GIS                General Mills, Inc.  consumer-defensive   \n",
       "170     HSY                The Hershey Company  consumer-defensive   \n",
       "176     HRL           Hormel Foods Corporation  consumer-defensive   \n",
       "201       K                          Kellanova  consumer-defensive   \n",
       "202    KVUE                        Kenvue Inc.  consumer-defensive   \n",
       "203     KDP              Keurig Dr Pepper Inc.  consumer-defensive   \n",
       "205     KMB         Kimberly-Clark Corporation  consumer-defensive   \n",
       "209      KR                     The Kroger Co.  consumer-defensive   \n",
       "213      LW         Lamb Weston Holdings, Inc.  consumer-defensive   \n",
       "230     MKC  McCormick & Company, Incorporated  consumer-defensive   \n",
       "240     TAP      Molson Coors Beverage Company  consumer-defensive   \n",
       "241    MDLZ       Mondelez International, Inc.  consumer-defensive   \n",
       "243    MNST       Monster Beverage Corporation  consumer-defensive   \n",
       "277     PEP                      PepsiCo, Inc.  consumer-defensive   \n",
       "284      PG       The Procter & Gamble Company  consumer-defensive   \n",
       "314     SJM          The J. M. Smucker Company  consumer-defensive   \n",
       "329     TGT                 Target Corporation  consumer-defensive   \n",
       "363     WMT                       Walmart Inc.  consumer-defensive   \n",
       "\n",
       "                        Industry  \n",
       "31                 farm-products  \n",
       "54                 farm-products  \n",
       "77   household-personal-products  \n",
       "80       beverages-non-alcoholic  \n",
       "82   household-personal-products  \n",
       "84                packaged-foods  \n",
       "92               discount-stores  \n",
       "109              discount-stores  \n",
       "159               packaged-foods  \n",
       "170                confectioners  \n",
       "176               packaged-foods  \n",
       "201               packaged-foods  \n",
       "202  household-personal-products  \n",
       "203      beverages-non-alcoholic  \n",
       "205  household-personal-products  \n",
       "209               grocery-stores  \n",
       "213               packaged-foods  \n",
       "230               packaged-foods  \n",
       "240            beverages-brewers  \n",
       "241                confectioners  \n",
       "243      beverages-non-alcoholic  \n",
       "277      beverages-non-alcoholic  \n",
       "284  household-personal-products  \n",
       "314               packaged-foods  \n",
       "329              discount-stores  \n",
       "363              discount-stores  "
      ]
     },
     "execution_count": 755,
     "metadata": {},
     "output_type": "execute_result"
    }
   ],
   "source": [
    "df_no_nan[df_no_nan['Sector'] == target_sector].loc[:,['Company', 'Name', 'Sector','Industry' ]]"
   ]
  },
  {
   "cell_type": "markdown",
   "metadata": {},
   "source": [
    "## Same Industry"
   ]
  },
  {
   "cell_type": "code",
   "execution_count": 756,
   "metadata": {},
   "outputs": [
    {
     "data": {
      "text/html": [
       "<div>\n",
       "<style scoped>\n",
       "    .dataframe tbody tr th:only-of-type {\n",
       "        vertical-align: middle;\n",
       "    }\n",
       "\n",
       "    .dataframe tbody tr th {\n",
       "        vertical-align: top;\n",
       "    }\n",
       "\n",
       "    .dataframe thead th {\n",
       "        text-align: right;\n",
       "    }\n",
       "</style>\n",
       "<table border=\"1\" class=\"dataframe\">\n",
       "  <thead>\n",
       "    <tr style=\"text-align: right;\">\n",
       "      <th></th>\n",
       "      <th>Company</th>\n",
       "      <th>Name</th>\n",
       "      <th>Sector</th>\n",
       "      <th>Industry</th>\n",
       "    </tr>\n",
       "  </thead>\n",
       "  <tbody>\n",
       "    <tr>\n",
       "      <th>92</th>\n",
       "      <td>COST</td>\n",
       "      <td>Costco Wholesale Corporation</td>\n",
       "      <td>consumer-defensive</td>\n",
       "      <td>discount-stores</td>\n",
       "    </tr>\n",
       "    <tr>\n",
       "      <th>109</th>\n",
       "      <td>DG</td>\n",
       "      <td>Dollar General Corporation</td>\n",
       "      <td>consumer-defensive</td>\n",
       "      <td>discount-stores</td>\n",
       "    </tr>\n",
       "    <tr>\n",
       "      <th>329</th>\n",
       "      <td>TGT</td>\n",
       "      <td>Target Corporation</td>\n",
       "      <td>consumer-defensive</td>\n",
       "      <td>discount-stores</td>\n",
       "    </tr>\n",
       "    <tr>\n",
       "      <th>363</th>\n",
       "      <td>WMT</td>\n",
       "      <td>Walmart Inc.</td>\n",
       "      <td>consumer-defensive</td>\n",
       "      <td>discount-stores</td>\n",
       "    </tr>\n",
       "  </tbody>\n",
       "</table>\n",
       "</div>"
      ],
      "text/plain": [
       "    Company                          Name              Sector         Industry\n",
       "92     COST  Costco Wholesale Corporation  consumer-defensive  discount-stores\n",
       "109      DG    Dollar General Corporation  consumer-defensive  discount-stores\n",
       "329     TGT            Target Corporation  consumer-defensive  discount-stores\n",
       "363     WMT                  Walmart Inc.  consumer-defensive  discount-stores"
      ]
     },
     "execution_count": 756,
     "metadata": {},
     "output_type": "execute_result"
    }
   ],
   "source": [
    "df_no_nan[df_no_nan['Industry'] == target_industry].loc[:,['Company', 'Name', 'Sector','Industry' ]]"
   ]
  },
  {
   "cell_type": "markdown",
   "metadata": {},
   "source": [
    "## Visualisation Using PCA"
   ]
  },
  {
   "cell_type": "code",
   "execution_count": 757,
   "metadata": {},
   "outputs": [],
   "source": [
    "from sklearn.manifold import TSNE"
   ]
  },
  {
   "cell_type": "code",
   "execution_count": 758,
   "metadata": {},
   "outputs": [],
   "source": [
    "tsne = TSNE(n_components=2, perplexity=30, random_state=42)\n",
    "tsne_result = tsne.fit_transform(df_scaled_no_outliers_numeric.drop(columns=[\"Company\", \"Industry\", \"Sector\", \"Name\", \"Cluster\"]))"
   ]
  },
  {
   "cell_type": "code",
   "execution_count": 759,
   "metadata": {},
   "outputs": [
    {
     "data": {
      "text/html": [
       "<div>\n",
       "<style scoped>\n",
       "    .dataframe tbody tr th:only-of-type {\n",
       "        vertical-align: middle;\n",
       "    }\n",
       "\n",
       "    .dataframe tbody tr th {\n",
       "        vertical-align: top;\n",
       "    }\n",
       "\n",
       "    .dataframe thead th {\n",
       "        text-align: right;\n",
       "    }\n",
       "</style>\n",
       "<table border=\"1\" class=\"dataframe\">\n",
       "  <thead>\n",
       "    <tr style=\"text-align: right;\">\n",
       "      <th></th>\n",
       "      <th>tSNE1</th>\n",
       "      <th>tSNE2</th>\n",
       "      <th>Cluster</th>\n",
       "    </tr>\n",
       "  </thead>\n",
       "  <tbody>\n",
       "    <tr>\n",
       "      <th>0</th>\n",
       "      <td>-2.003372</td>\n",
       "      <td>-5.226768</td>\n",
       "      <td>7</td>\n",
       "    </tr>\n",
       "    <tr>\n",
       "      <th>1</th>\n",
       "      <td>-2.586060</td>\n",
       "      <td>1.461495</td>\n",
       "      <td>11</td>\n",
       "    </tr>\n",
       "    <tr>\n",
       "      <th>2</th>\n",
       "      <td>3.293383</td>\n",
       "      <td>13.532997</td>\n",
       "      <td>11</td>\n",
       "    </tr>\n",
       "    <tr>\n",
       "      <th>3</th>\n",
       "      <td>1.547602</td>\n",
       "      <td>-5.645460</td>\n",
       "      <td>1</td>\n",
       "    </tr>\n",
       "    <tr>\n",
       "      <th>4</th>\n",
       "      <td>-15.632924</td>\n",
       "      <td>5.211610</td>\n",
       "      <td>7</td>\n",
       "    </tr>\n",
       "    <tr>\n",
       "      <th>...</th>\n",
       "      <td>...</td>\n",
       "      <td>...</td>\n",
       "      <td>...</td>\n",
       "    </tr>\n",
       "    <tr>\n",
       "      <th>358</th>\n",
       "      <td>8.658923</td>\n",
       "      <td>-12.214253</td>\n",
       "      <td>1</td>\n",
       "    </tr>\n",
       "    <tr>\n",
       "      <th>359</th>\n",
       "      <td>-5.127053</td>\n",
       "      <td>14.231467</td>\n",
       "      <td>11</td>\n",
       "    </tr>\n",
       "    <tr>\n",
       "      <th>360</th>\n",
       "      <td>4.184382</td>\n",
       "      <td>-2.524417</td>\n",
       "      <td>1</td>\n",
       "    </tr>\n",
       "    <tr>\n",
       "      <th>361</th>\n",
       "      <td>-0.224761</td>\n",
       "      <td>0.595225</td>\n",
       "      <td>11</td>\n",
       "    </tr>\n",
       "    <tr>\n",
       "      <th>362</th>\n",
       "      <td>-15.675657</td>\n",
       "      <td>5.927605</td>\n",
       "      <td>7</td>\n",
       "    </tr>\n",
       "  </tbody>\n",
       "</table>\n",
       "<p>363 rows × 3 columns</p>\n",
       "</div>"
      ],
      "text/plain": [
       "         tSNE1      tSNE2  Cluster\n",
       "0    -2.003372  -5.226768        7\n",
       "1    -2.586060   1.461495       11\n",
       "2     3.293383  13.532997       11\n",
       "3     1.547602  -5.645460        1\n",
       "4   -15.632924   5.211610        7\n",
       "..         ...        ...      ...\n",
       "358   8.658923 -12.214253        1\n",
       "359  -5.127053  14.231467       11\n",
       "360   4.184382  -2.524417        1\n",
       "361  -0.224761   0.595225       11\n",
       "362 -15.675657   5.927605        7\n",
       "\n",
       "[363 rows x 3 columns]"
      ]
     },
     "execution_count": 759,
     "metadata": {},
     "output_type": "execute_result"
    }
   ],
   "source": [
    "df_tsne = pd.DataFrame(tsne_result, columns=[\"tSNE1\", \"tSNE2\"])\n",
    "df_tsne['Cluster'] = df_final[\"Cluster\"]\n",
    "df_tsne"
   ]
  },
  {
   "cell_type": "code",
   "execution_count": 760,
   "metadata": {},
   "outputs": [],
   "source": [
    "tsne_fig = go.Figure()\n",
    "for cluster in df_tsne[\"Cluster\"].unique():\n",
    "    \n",
    "    cluster_data = df_tsne[df_tsne[\"Cluster\"] == cluster]\n",
    "    tsne_fig.add_trace(go.Scatter(x = cluster_data['tSNE1'], y = cluster_data['tSNE2'], name=f\"Cluster: {cluster}\", mode = 'markers',), )"
   ]
  },
  {
   "cell_type": "code",
   "execution_count": 761,
   "metadata": {},
   "outputs": [
    {
     "data": {
      "application/vnd.plotly.v1+json": {
       "config": {
        "plotlyServerURL": "https://plot.ly"
       },
       "data": [
        {
         "mode": "markers",
         "name": "Cluster: 7",
         "type": "scatter",
         "x": [
          -2.0033721923828125,
          -15.63292407989502,
          -8.42475700378418,
          -11.291934967041016,
          -8.351360321044922,
          -7.015015602111816,
          -12.10932731628418,
          -8.664066314697266,
          -16.67902946472168,
          -6.5024847984313965,
          -13.099100112915039,
          -12.248454093933105,
          -10.101851463317871,
          -11.053407669067383,
          -14.497421264648438,
          -10.799581527709961,
          -11.089256286621094,
          -10.33597183227539,
          6.665859699249268,
          -5.673108100891113,
          -5.6721296310424805,
          -12.3712158203125,
          -12.033522605895996,
          6.5021538734436035,
          -9.850343704223633,
          -5.960535526275635,
          -7.77217960357666,
          -12.628082275390625,
          -9.685291290283203,
          -8.582953453063965,
          6.839825630187988,
          -16.685117721557617,
          -14.876961708068848,
          -11.671882629394531,
          -10.95570182800293,
          6.070254325866699,
          -8.116044998168945,
          6.448040962219238,
          -14.469855308532715,
          -11.215080261230469,
          -9.551924705505371,
          -10.877900123596191,
          -13.61351203918457,
          -14.413609504699707,
          -10.664901733398438,
          -11.38946533203125,
          -8.99204158782959,
          -11.219197273254395,
          -5.969515323638916,
          -13.105812072753906,
          -7.476999759674072,
          -9.864295959472656,
          -9.887660026550293,
          -15.675657272338867
         ],
         "y": [
          -5.226767539978027,
          5.211609840393066,
          1.14197838306427,
          -4.021848201751709,
          -8.305072784423828,
          -3.5903074741363525,
          1.962690830230713,
          -4.794067859649658,
          6.369825839996338,
          -0.08751655369997025,
          4.179749965667725,
          4.993417739868164,
          -0.9243792295455933,
          0.4834578037261963,
          6.284097671508789,
          -1.264413833618164,
          -5.902680397033691,
          4.1261186599731445,
          12.774438858032227,
          -7.387979030609131,
          -7.3887619972229,
          5.390239238739014,
          -3.491591215133667,
          10.513190269470215,
          1.917783498764038,
          -6.0629682540893555,
          1.3474209308624268,
          1.0932198762893677,
          -5.670687198638916,
          2.226757526397705,
          11.89518928527832,
          5.6182146072387695,
          3.149198293685913,
          -3.95802903175354,
          1.8205984830856323,
          12.553093910217285,
          -4.199365139007568,
          10.618885040283203,
          -1.2309553623199463,
          4.269290447235107,
          -6.3852739334106445,
          -0.6954784989356995,
          -1.936645746231079,
          4.303796291351318,
          -0.043448951095342636,
          5.854232311248779,
          3.2004339694976807,
          -7.228448867797852,
          0.12835894525051117,
          6.909094333648682,
          -0.9050678610801697,
          1.061063528060913,
          4.324391841888428,
          5.927605152130127
         ]
        },
        {
         "mode": "markers",
         "name": "Cluster: 11",
         "type": "scatter",
         "x": [
          -2.586060047149658,
          3.2933833599090576,
          -0.2560814619064331,
          -3.9256057739257812,
          1.0574063062667847,
          -5.203912734985352,
          2.082193613052368,
          -1.6009708642959595,
          -4.808294296264648,
          1.2888816595077515,
          -3.3780763149261475,
          -10.20346736907959,
          -4.996803283691406,
          7.825328826904297,
          -3.9536995887756348,
          -11.719945907592773,
          0.6535695195198059,
          1.569173812866211,
          -4.388365268707275,
          -7.691549777984619,
          -2.0790605545043945,
          -9.724928855895996,
          -4.72089958190918,
          -0.8140735030174255,
          -0.8240107893943787,
          0.08630890399217606,
          -3.9046249389648438,
          1.2904372215270996,
          -6.7372965812683105,
          0.2462860643863678,
          -3.9624385833740234,
          3.746377468109131,
          2.762345314025879,
          -1.7728561162948608,
          -5.215391635894775,
          -1.1268607378005981,
          -1.7999699115753174,
          -6.569459915161133,
          -1.4051591157913208,
          -7.919802188873291,
          0.35645627975463867,
          -6.888482570648193,
          -2.74139142036438,
          -2.0170512199401855,
          -5.059523582458496,
          -4.079477787017822,
          3.869807243347168,
          -1.0583029985427856,
          -6.595194339752197,
          4.701504707336426,
          0.020616689696907997,
          -5.396316051483154,
          1.0299818515777588,
          -6.902388095855713,
          -5.055684566497803,
          5.292733669281006,
          0.3745029866695404,
          -7.7421441078186035,
          -5.463384628295898,
          -7.761410713195801,
          2.5649545192718506,
          -9.255908966064453,
          -6.663708209991455,
          -5.698399543762207,
          4.033077716827393,
          3.831433057785034,
          4.409791469573975,
          -3.7849063873291016,
          -8.581670761108398,
          -4.634867191314697,
          -7.710395812988281,
          -11.971559524536133,
          -2.962888240814209,
          -8.260250091552734,
          -2.3749215602874756,
          -4.406472206115723,
          -4.744442939758301,
          -0.6244917511940002,
          -4.926337242126465,
          -5.72678279876709,
          6.624146938323975,
          1.6058619022369385,
          4.76776123046875,
          0.7623873949050903,
          2.052516460418701,
          -6.813882350921631,
          1.7040754556655884,
          -4.150325298309326,
          -8.73401165008545,
          -4.662187576293945,
          -3.8360161781311035,
          -7.498447895050049,
          -5.1270527839660645,
          -0.22476089000701904
         ],
         "y": [
          1.4614953994750977,
          13.532997131347656,
          -3.7106754779815674,
          6.780500888824463,
          5.421535491943359,
          13.673955917358398,
          13.035823822021484,
          4.216654300689697,
          4.142828941345215,
          4.1162028312683105,
          -2.665076971054077,
          7.093045711517334,
          -4.396996974945068,
          1.7902377843856812,
          13.735151290893555,
          7.68461275100708,
          11.48457145690918,
          -0.9697253704071045,
          11.45232105255127,
          7.484653949737549,
          2.8108460903167725,
          9.28421401977539,
          12.168246269226074,
          -1.4741421937942505,
          1.3263065814971924,
          4.3824639320373535,
          18.8090763092041,
          0.9854884743690491,
          14.938925743103027,
          -1.193777084350586,
          0.254411906003952,
          4.708923816680908,
          3.800640344619751,
          -0.7222782373428345,
          15.892303466796875,
          3.458372116088867,
          8.171969413757324,
          3.620901346206665,
          5.451159477233887,
          14.184996604919434,
          2.665738821029663,
          14.074368476867676,
          5.867798328399658,
          8.86176872253418,
          -8.185260772705078,
          2.6757025718688965,
          4.3204121589660645,
          2.3027055263519287,
          6.358622074127197,
          2.6746366024017334,
          2.3402607440948486,
          15.154550552368164,
          10.846381187438965,
          8.623104095458984,
          2.743412494659424,
          6.128826141357422,
          0.9165688157081604,
          6.176438808441162,
          12.745858192443848,
          4.085892200469971,
          13.259929656982422,
          8.515680313110352,
          15.567113876342773,
          -3.374660015106201,
          13.410872459411621,
          1.8712266683578491,
          1.9286898374557495,
          11.050726890563965,
          13.90634822845459,
          13.437728881835938,
          6.93574333190918,
          6.598541259765625,
          2.582848310470581,
          12.720988273620605,
          0.5334556102752686,
          -0.6905819177627563,
          -2.9840989112854004,
          -0.13995233178138733,
          0.3665632903575897,
          9.713323593139648,
          1.137913703918457,
          -3.165618658065796,
          3.878965377807617,
          0.13467076420783997,
          5.47321891784668,
          1.753971815109253,
          2.5614771842956543,
          18.757835388183594,
          4.630380630493164,
          2.357731819152832,
          14.592860221862793,
          2.8856253623962402,
          14.231467247009277,
          0.59522545337677
         ]
        },
        {
         "mode": "markers",
         "name": "Cluster: 1",
         "type": "scatter",
         "x": [
          1.5476019382476807,
          4.110783576965332,
          10.439778327941895,
          14.431440353393555,
          4.748368740081787,
          11.126699447631836,
          5.084397315979004,
          11.624709129333496,
          14.456709861755371,
          11.633787155151367,
          9.79393196105957,
          11.589927673339844,
          15.31317138671875,
          7.6811842918396,
          9.829850196838379,
          9.679054260253906,
          18.249080657958984,
          11.215956687927246,
          6.195127487182617,
          10.513176918029785,
          3.017993211746216,
          6.054825305938721,
          12.796591758728027,
          6.698478698730469,
          6.667823791503906,
          16.636371612548828,
          9.741814613342285,
          10.954938888549805,
          10.42284870147705,
          4.940024375915527,
          13.630895614624023,
          4.886651039123535,
          15.100303649902344,
          6.894837856292725,
          12.67881965637207,
          4.144162654876709,
          2.992995500564575,
          9.68626594543457,
          15.713768005371094,
          5.33588981628418,
          3.5952203273773193,
          8.241353034973145,
          5.933164119720459,
          9.72743034362793,
          13.377373695373535,
          8.885760307312012,
          6.533742427825928,
          14.438405990600586,
          8.909146308898926,
          12.753146171569824,
          8.221121788024902,
          13.339679718017578,
          15.076227188110352,
          14.771207809448242,
          2.17514705657959,
          7.601079940795898,
          13.477659225463867,
          13.50259780883789,
          14.261367797851562,
          6.066988945007324,
          17.149965286254883,
          8.642769813537598,
          9.781983375549316,
          9.800163269042969,
          3.6298563480377197,
          15.256512641906738,
          12.35098934173584,
          8.509511947631836,
          5.481470584869385,
          14.046671867370605,
          4.831270694732666,
          11.74751091003418,
          10.629684448242188,
          8.508068084716797,
          9.96317195892334,
          7.285494327545166,
          -4.689923286437988,
          6.069482803344727,
          2.3200175762176514,
          7.759838581085205,
          10.87430477142334,
          7.125669956207275,
          9.568387031555176,
          6.760741233825684,
          5.337996482849121,
          2.2363173961639404,
          -0.4080740809440613,
          7.836765766143799,
          14.703198432922363,
          16.110315322875977,
          10.462892532348633,
          5.305868148803711,
          12.821877479553223,
          1.5184721946716309,
          9.096977233886719,
          0.27485960721969604,
          10.910515785217285,
          5.221681118011475,
          6.666661739349365,
          4.444167137145996,
          3.396932601928711,
          6.102651119232178,
          8.658923149108887,
          4.18438196182251
         ],
         "y": [
          -5.64546012878418,
          0.31733813881874084,
          -4.44873571395874,
          -9.322866439819336,
          -5.543844699859619,
          -14.634209632873535,
          -3.856107711791992,
          -4.672970294952393,
          -14.554510116577148,
          -7.286083221435547,
          0.1870981901884079,
          -9.24711799621582,
          -10.665279388427734,
          -11.653433799743652,
          -11.78852367401123,
          -2.582158327102661,
          -8.722738265991211,
          -10.491009712219238,
          3.0593082904815674,
          -13.151772499084473,
          -5.235820293426514,
          -2.141263008117676,
          -14.471429824829102,
          -15.280801773071289,
          -4.212993144989014,
          -8.80695629119873,
          -2.2010581493377686,
          -1.3175039291381836,
          -5.1278181076049805,
          -1.0631368160247803,
          -8.614822387695312,
          0.35944509506225586,
          -8.292951583862305,
          -7.227512836456299,
          -8.707018852233887,
          -4.604477405548096,
          -3.2493550777435303,
          6.016269207000732,
          -10.31138801574707,
          -2.3926641941070557,
          -8.793079376220703,
          -9.950121879577637,
          1.641717553138733,
          -10.262974739074707,
          -7.69120454788208,
          2.517686128616333,
          -9.118849754333496,
          -7.210847854614258,
          -9.449366569519043,
          -5.340460777282715,
          -7.985416412353516,
          -10.370116233825684,
          -6.448523998260498,
          -8.074118614196777,
          6.305103302001953,
          -5.5128173828125,
          -5.496013164520264,
          -6.779499053955078,
          -4.411240577697754,
          -3.0373401641845703,
          -7.077211856842041,
          -8.84549617767334,
          -9.100458145141602,
          0.686441957950592,
          -5.978261947631836,
          -14.102828025817871,
          -5.995473861694336,
          -0.8413521647453308,
          -9.878952026367188,
          -5.916680335998535,
          -2.031083822250366,
          -2.0472235679626465,
          -11.72976016998291,
          -4.53679895401001,
          -6.02554178237915,
          -6.663531303405762,
          -1.5159006118774414,
          -11.001192092895508,
          -1.0428577661514282,
          1.08241868019104,
          2.7467334270477295,
          -3.329613447189331,
          -11.897964477539062,
          -6.805503845214844,
          -5.736454010009766,
          -6.447311878204346,
          -11.227445602416992,
          0.49827319383621216,
          -14.545358657836914,
          -9.259581565856934,
          -7.60156774520874,
          -15.829240798950195,
          -6.8425116539001465,
          -6.826270580291748,
          -1.5602740049362183,
          -10.408458709716797,
          -5.816107273101807,
          -6.641102313995361,
          -15.254547119140625,
          -8.371047973632812,
          -1.2639769315719604,
          -15.593308448791504,
          -12.214253425598145,
          -2.5244171619415283
         ]
        },
        {
         "mode": "markers",
         "name": "Cluster: 9",
         "type": "scatter",
         "x": [
          -1.7283556461334229,
          -5.45127010345459,
          -5.251252174377441,
          -5.3516645431518555,
          -15.770750999450684,
          -9.643515586853027,
          -5.956606388092041,
          -3.7014658451080322,
          -4.877333164215088,
          -4.878541469573975,
          -5.994973659515381,
          -6.485695838928223,
          -3.8242242336273193,
          -9.093341827392578,
          -7.783275604248047
         ],
         "y": [
          -11.634181022644043,
          -9.666970252990723,
          -12.132669448852539,
          -13.541529655456543,
          -1.5965075492858887,
          -11.97684383392334,
          -10.816177368164062,
          -12.146058082580566,
          -13.045609474182129,
          -13.049699783325195,
          -11.230165481567383,
          -8.789680480957031,
          -12.095014572143555,
          -9.123156547546387,
          -9.66270637512207
         ]
        },
        {
         "mode": "markers",
         "name": "Cluster: 5",
         "type": "scatter",
         "x": [
          -7.6792168617248535,
          -7.497251510620117,
          -7.193439483642578,
          -6.583714962005615,
          -7.2520647048950195,
          -7.252624034881592
         ],
         "y": [
          -14.643726348876953,
          -14.430278778076172,
          -15.05648422241211,
          -14.649612426757812,
          -15.816239356994629,
          -16.29979705810547
         ]
        },
        {
         "mode": "markers",
         "name": "Cluster: 0",
         "type": "scatter",
         "x": [
          -11.4889497756958,
          -8.510862350463867,
          -12.075523376464844,
          -9.245607376098633,
          -10.938422203063965,
          -10.650182723999023,
          -14.768649101257324,
          -13.679099082946777,
          -8.273518562316895,
          -13.308091163635254,
          -13.489392280578613,
          -12.10348892211914,
          -13.93613052368164,
          -12.92766284942627,
          -9.38774299621582,
          -10.387107849121094,
          -9.722207069396973,
          -13.30104923248291,
          -10.835617065429688,
          -13.319558143615723,
          -13.312652587890625,
          -15.261101722717285,
          -13.251306533813477,
          -8.080626487731934,
          -11.304649353027344,
          -16.30384063720703,
          -9.127017974853516,
          -16.762439727783203,
          -10.928269386291504,
          -14.933084487915039,
          -14.267463684082031,
          -12.34591007232666,
          -14.268080711364746,
          -13.755081176757812,
          -11.671277046203613,
          -11.616336822509766,
          -14.776086807250977,
          -10.118973731994629,
          -11.65315055847168,
          -13.736978530883789,
          -15.843932151794434,
          -17.19038200378418,
          -10.102373123168945
         ],
         "y": [
          14.643590927124023,
          15.044390678405762,
          16.198429107666016,
          15.460814476013184,
          19.246896743774414,
          13.296905517578125,
          18.67130470275879,
          13.985286712646484,
          18.158384323120117,
          15.350638389587402,
          11.905531883239746,
          10.344399452209473,
          17.359718322753906,
          10.187264442443848,
          17.740753173828125,
          18.168617248535156,
          14.575657844543457,
          17.849018096923828,
          17.421701431274414,
          8.10250473022461,
          13.766646385192871,
          8.22787094116211,
          18.464689254760742,
          16.85928726196289,
          18.055673599243164,
          7.6868391036987305,
          17.087045669555664,
          7.209414005279541,
          16.439208984375,
          13.351523399353027,
          9.441680908203125,
          18.277807235717773,
          17.032419204711914,
          19.54999351501465,
          17.43861198425293,
          13.40286636352539,
          15.665775299072266,
          15.50413990020752,
          10.063179016113281,
          11.845584869384766,
          18.361543655395508,
          9.802103996276855,
          16.627788543701172
         ]
        },
        {
         "mode": "markers",
         "name": "Cluster: 2",
         "type": "scatter",
         "x": [
          -19.687875747680664,
          -19.687875747680664,
          -19.988460540771484,
          -19.324378967285156,
          -20.218351364135742
         ],
         "y": [
          0.011560319922864437,
          0.011525474488735199,
          -0.7198907136917114,
          0.36745327711105347,
          0.3876549005508423
         ]
        },
        {
         "mode": "markers",
         "name": "Cluster: 10",
         "type": "scatter",
         "x": [
          16.866201400756836,
          -1.5072779655456543,
          15.365870475769043,
          17.548450469970703,
          11.507397651672363,
          17.08742332458496,
          15.99366283416748,
          9.891637802124023,
          8.712578773498535,
          14.130622863769531,
          9.981732368469238,
          19.00192642211914,
          15.074111938476562,
          16.449382781982422,
          13.552961349487305,
          7.308474063873291,
          17.741615295410156,
          19.24134063720703,
          15.696213722229004,
          11.848348617553711,
          17.492401123046875,
          -9.442619323730469,
          10.570464134216309,
          18.30243492126465,
          14.339130401611328,
          -1.852899193763733,
          15.038372039794922,
          11.744175910949707,
          16.06011390686035,
          18.178085327148438,
          6.181153297424316,
          18.286842346191406
         ],
         "y": [
          0.3305293321609497,
          15.444330215454102,
          -0.1767449527978897,
          -4.200557708740234,
          1.9976084232330322,
          -4.609803199768066,
          -0.04520120099186897,
          5.535250186920166,
          5.551198482513428,
          4.383892059326172,
          2.730177879333496,
          -0.563978374004364,
          0.37006357312202454,
          -3.484952688217163,
          -3.1281285285949707,
          4.679444313049316,
          -3.126650333404541,
          1.460189700126648,
          1.3815319538116455,
          2.4474830627441406,
          -1.9764095544815063,
          9.908949851989746,
          1.6802096366882324,
          -4.2157206535339355,
          3.960726022720337,
          15.177083969116211,
          3.3586535453796387,
          1.5023409128189087,
          1.1482059955596924,
          -3.2501347064971924,
          5.633159637451172,
          -1.4347442388534546
         ]
        },
        {
         "mode": "markers",
         "name": "Cluster: 8",
         "type": "scatter",
         "x": [
          7.748091697692871,
          7.747564315795898,
          8.140496253967285,
          5.822582721710205
         ],
         "y": [
          14.372302055358887,
          14.285881996154785,
          15.064987182617188,
          13.989508628845215
         ]
        },
        {
         "mode": "markers",
         "name": "Cluster: 6",
         "type": "scatter",
         "x": [
          0.2913660407066345,
          1.1187214851379395,
          0.9885326027870178,
          0.9383803009986877
         ],
         "y": [
          -16.638879776000977,
          -17.734573364257812,
          -17.168283462524414,
          -16.96624183654785
         ]
        },
        {
         "mode": "markers",
         "name": "Cluster: 4",
         "type": "scatter",
         "x": [
          8.522607803344727
         ],
         "y": [
          15.675553321838379
         ]
        },
        {
         "mode": "markers",
         "name": "Cluster: 3",
         "type": "scatter",
         "x": [
          -7.369115829467773
         ],
         "y": [
          -17.01337242126465
         ]
        }
       ],
       "layout": {
        "template": {
         "data": {
          "bar": [
           {
            "error_x": {
             "color": "#f2f5fa"
            },
            "error_y": {
             "color": "#f2f5fa"
            },
            "marker": {
             "line": {
              "color": "rgb(17,17,17)",
              "width": 0.5
             },
             "pattern": {
              "fillmode": "overlay",
              "size": 10,
              "solidity": 0.2
             }
            },
            "type": "bar"
           }
          ],
          "barpolar": [
           {
            "marker": {
             "line": {
              "color": "rgb(17,17,17)",
              "width": 0.5
             },
             "pattern": {
              "fillmode": "overlay",
              "size": 10,
              "solidity": 0.2
             }
            },
            "type": "barpolar"
           }
          ],
          "carpet": [
           {
            "aaxis": {
             "endlinecolor": "#A2B1C6",
             "gridcolor": "#506784",
             "linecolor": "#506784",
             "minorgridcolor": "#506784",
             "startlinecolor": "#A2B1C6"
            },
            "baxis": {
             "endlinecolor": "#A2B1C6",
             "gridcolor": "#506784",
             "linecolor": "#506784",
             "minorgridcolor": "#506784",
             "startlinecolor": "#A2B1C6"
            },
            "type": "carpet"
           }
          ],
          "choropleth": [
           {
            "colorbar": {
             "outlinewidth": 0,
             "ticks": ""
            },
            "type": "choropleth"
           }
          ],
          "contour": [
           {
            "colorbar": {
             "outlinewidth": 0,
             "ticks": ""
            },
            "colorscale": [
             [
              0,
              "#0d0887"
             ],
             [
              0.1111111111111111,
              "#46039f"
             ],
             [
              0.2222222222222222,
              "#7201a8"
             ],
             [
              0.3333333333333333,
              "#9c179e"
             ],
             [
              0.4444444444444444,
              "#bd3786"
             ],
             [
              0.5555555555555556,
              "#d8576b"
             ],
             [
              0.6666666666666666,
              "#ed7953"
             ],
             [
              0.7777777777777778,
              "#fb9f3a"
             ],
             [
              0.8888888888888888,
              "#fdca26"
             ],
             [
              1,
              "#f0f921"
             ]
            ],
            "type": "contour"
           }
          ],
          "contourcarpet": [
           {
            "colorbar": {
             "outlinewidth": 0,
             "ticks": ""
            },
            "type": "contourcarpet"
           }
          ],
          "heatmap": [
           {
            "colorbar": {
             "outlinewidth": 0,
             "ticks": ""
            },
            "colorscale": [
             [
              0,
              "#0d0887"
             ],
             [
              0.1111111111111111,
              "#46039f"
             ],
             [
              0.2222222222222222,
              "#7201a8"
             ],
             [
              0.3333333333333333,
              "#9c179e"
             ],
             [
              0.4444444444444444,
              "#bd3786"
             ],
             [
              0.5555555555555556,
              "#d8576b"
             ],
             [
              0.6666666666666666,
              "#ed7953"
             ],
             [
              0.7777777777777778,
              "#fb9f3a"
             ],
             [
              0.8888888888888888,
              "#fdca26"
             ],
             [
              1,
              "#f0f921"
             ]
            ],
            "type": "heatmap"
           }
          ],
          "heatmapgl": [
           {
            "colorbar": {
             "outlinewidth": 0,
             "ticks": ""
            },
            "colorscale": [
             [
              0,
              "#0d0887"
             ],
             [
              0.1111111111111111,
              "#46039f"
             ],
             [
              0.2222222222222222,
              "#7201a8"
             ],
             [
              0.3333333333333333,
              "#9c179e"
             ],
             [
              0.4444444444444444,
              "#bd3786"
             ],
             [
              0.5555555555555556,
              "#d8576b"
             ],
             [
              0.6666666666666666,
              "#ed7953"
             ],
             [
              0.7777777777777778,
              "#fb9f3a"
             ],
             [
              0.8888888888888888,
              "#fdca26"
             ],
             [
              1,
              "#f0f921"
             ]
            ],
            "type": "heatmapgl"
           }
          ],
          "histogram": [
           {
            "marker": {
             "pattern": {
              "fillmode": "overlay",
              "size": 10,
              "solidity": 0.2
             }
            },
            "type": "histogram"
           }
          ],
          "histogram2d": [
           {
            "colorbar": {
             "outlinewidth": 0,
             "ticks": ""
            },
            "colorscale": [
             [
              0,
              "#0d0887"
             ],
             [
              0.1111111111111111,
              "#46039f"
             ],
             [
              0.2222222222222222,
              "#7201a8"
             ],
             [
              0.3333333333333333,
              "#9c179e"
             ],
             [
              0.4444444444444444,
              "#bd3786"
             ],
             [
              0.5555555555555556,
              "#d8576b"
             ],
             [
              0.6666666666666666,
              "#ed7953"
             ],
             [
              0.7777777777777778,
              "#fb9f3a"
             ],
             [
              0.8888888888888888,
              "#fdca26"
             ],
             [
              1,
              "#f0f921"
             ]
            ],
            "type": "histogram2d"
           }
          ],
          "histogram2dcontour": [
           {
            "colorbar": {
             "outlinewidth": 0,
             "ticks": ""
            },
            "colorscale": [
             [
              0,
              "#0d0887"
             ],
             [
              0.1111111111111111,
              "#46039f"
             ],
             [
              0.2222222222222222,
              "#7201a8"
             ],
             [
              0.3333333333333333,
              "#9c179e"
             ],
             [
              0.4444444444444444,
              "#bd3786"
             ],
             [
              0.5555555555555556,
              "#d8576b"
             ],
             [
              0.6666666666666666,
              "#ed7953"
             ],
             [
              0.7777777777777778,
              "#fb9f3a"
             ],
             [
              0.8888888888888888,
              "#fdca26"
             ],
             [
              1,
              "#f0f921"
             ]
            ],
            "type": "histogram2dcontour"
           }
          ],
          "mesh3d": [
           {
            "colorbar": {
             "outlinewidth": 0,
             "ticks": ""
            },
            "type": "mesh3d"
           }
          ],
          "parcoords": [
           {
            "line": {
             "colorbar": {
              "outlinewidth": 0,
              "ticks": ""
             }
            },
            "type": "parcoords"
           }
          ],
          "pie": [
           {
            "automargin": true,
            "type": "pie"
           }
          ],
          "scatter": [
           {
            "marker": {
             "line": {
              "color": "#283442"
             }
            },
            "type": "scatter"
           }
          ],
          "scatter3d": [
           {
            "line": {
             "colorbar": {
              "outlinewidth": 0,
              "ticks": ""
             }
            },
            "marker": {
             "colorbar": {
              "outlinewidth": 0,
              "ticks": ""
             }
            },
            "type": "scatter3d"
           }
          ],
          "scattercarpet": [
           {
            "marker": {
             "colorbar": {
              "outlinewidth": 0,
              "ticks": ""
             }
            },
            "type": "scattercarpet"
           }
          ],
          "scattergeo": [
           {
            "marker": {
             "colorbar": {
              "outlinewidth": 0,
              "ticks": ""
             }
            },
            "type": "scattergeo"
           }
          ],
          "scattergl": [
           {
            "marker": {
             "line": {
              "color": "#283442"
             }
            },
            "type": "scattergl"
           }
          ],
          "scattermapbox": [
           {
            "marker": {
             "colorbar": {
              "outlinewidth": 0,
              "ticks": ""
             }
            },
            "type": "scattermapbox"
           }
          ],
          "scatterpolar": [
           {
            "marker": {
             "colorbar": {
              "outlinewidth": 0,
              "ticks": ""
             }
            },
            "type": "scatterpolar"
           }
          ],
          "scatterpolargl": [
           {
            "marker": {
             "colorbar": {
              "outlinewidth": 0,
              "ticks": ""
             }
            },
            "type": "scatterpolargl"
           }
          ],
          "scatterternary": [
           {
            "marker": {
             "colorbar": {
              "outlinewidth": 0,
              "ticks": ""
             }
            },
            "type": "scatterternary"
           }
          ],
          "surface": [
           {
            "colorbar": {
             "outlinewidth": 0,
             "ticks": ""
            },
            "colorscale": [
             [
              0,
              "#0d0887"
             ],
             [
              0.1111111111111111,
              "#46039f"
             ],
             [
              0.2222222222222222,
              "#7201a8"
             ],
             [
              0.3333333333333333,
              "#9c179e"
             ],
             [
              0.4444444444444444,
              "#bd3786"
             ],
             [
              0.5555555555555556,
              "#d8576b"
             ],
             [
              0.6666666666666666,
              "#ed7953"
             ],
             [
              0.7777777777777778,
              "#fb9f3a"
             ],
             [
              0.8888888888888888,
              "#fdca26"
             ],
             [
              1,
              "#f0f921"
             ]
            ],
            "type": "surface"
           }
          ],
          "table": [
           {
            "cells": {
             "fill": {
              "color": "#506784"
             },
             "line": {
              "color": "rgb(17,17,17)"
             }
            },
            "header": {
             "fill": {
              "color": "#2a3f5f"
             },
             "line": {
              "color": "rgb(17,17,17)"
             }
            },
            "type": "table"
           }
          ]
         },
         "layout": {
          "annotationdefaults": {
           "arrowcolor": "#f2f5fa",
           "arrowhead": 0,
           "arrowwidth": 1
          },
          "autotypenumbers": "strict",
          "coloraxis": {
           "colorbar": {
            "outlinewidth": 0,
            "ticks": ""
           }
          },
          "colorscale": {
           "diverging": [
            [
             0,
             "#8e0152"
            ],
            [
             0.1,
             "#c51b7d"
            ],
            [
             0.2,
             "#de77ae"
            ],
            [
             0.3,
             "#f1b6da"
            ],
            [
             0.4,
             "#fde0ef"
            ],
            [
             0.5,
             "#f7f7f7"
            ],
            [
             0.6,
             "#e6f5d0"
            ],
            [
             0.7,
             "#b8e186"
            ],
            [
             0.8,
             "#7fbc41"
            ],
            [
             0.9,
             "#4d9221"
            ],
            [
             1,
             "#276419"
            ]
           ],
           "sequential": [
            [
             0,
             "#0d0887"
            ],
            [
             0.1111111111111111,
             "#46039f"
            ],
            [
             0.2222222222222222,
             "#7201a8"
            ],
            [
             0.3333333333333333,
             "#9c179e"
            ],
            [
             0.4444444444444444,
             "#bd3786"
            ],
            [
             0.5555555555555556,
             "#d8576b"
            ],
            [
             0.6666666666666666,
             "#ed7953"
            ],
            [
             0.7777777777777778,
             "#fb9f3a"
            ],
            [
             0.8888888888888888,
             "#fdca26"
            ],
            [
             1,
             "#f0f921"
            ]
           ],
           "sequentialminus": [
            [
             0,
             "#0d0887"
            ],
            [
             0.1111111111111111,
             "#46039f"
            ],
            [
             0.2222222222222222,
             "#7201a8"
            ],
            [
             0.3333333333333333,
             "#9c179e"
            ],
            [
             0.4444444444444444,
             "#bd3786"
            ],
            [
             0.5555555555555556,
             "#d8576b"
            ],
            [
             0.6666666666666666,
             "#ed7953"
            ],
            [
             0.7777777777777778,
             "#fb9f3a"
            ],
            [
             0.8888888888888888,
             "#fdca26"
            ],
            [
             1,
             "#f0f921"
            ]
           ]
          },
          "colorway": [
           "#636efa",
           "#EF553B",
           "#00cc96",
           "#ab63fa",
           "#FFA15A",
           "#19d3f3",
           "#FF6692",
           "#B6E880",
           "#FF97FF",
           "#FECB52"
          ],
          "font": {
           "color": "#f2f5fa"
          },
          "geo": {
           "bgcolor": "rgb(17,17,17)",
           "lakecolor": "rgb(17,17,17)",
           "landcolor": "rgb(17,17,17)",
           "showlakes": true,
           "showland": true,
           "subunitcolor": "#506784"
          },
          "hoverlabel": {
           "align": "left"
          },
          "hovermode": "closest",
          "mapbox": {
           "style": "dark"
          },
          "paper_bgcolor": "rgb(17,17,17)",
          "plot_bgcolor": "rgb(17,17,17)",
          "polar": {
           "angularaxis": {
            "gridcolor": "#506784",
            "linecolor": "#506784",
            "ticks": ""
           },
           "bgcolor": "rgb(17,17,17)",
           "radialaxis": {
            "gridcolor": "#506784",
            "linecolor": "#506784",
            "ticks": ""
           }
          },
          "scene": {
           "xaxis": {
            "backgroundcolor": "rgb(17,17,17)",
            "gridcolor": "#506784",
            "gridwidth": 2,
            "linecolor": "#506784",
            "showbackground": true,
            "ticks": "",
            "zerolinecolor": "#C8D4E3"
           },
           "yaxis": {
            "backgroundcolor": "rgb(17,17,17)",
            "gridcolor": "#506784",
            "gridwidth": 2,
            "linecolor": "#506784",
            "showbackground": true,
            "ticks": "",
            "zerolinecolor": "#C8D4E3"
           },
           "zaxis": {
            "backgroundcolor": "rgb(17,17,17)",
            "gridcolor": "#506784",
            "gridwidth": 2,
            "linecolor": "#506784",
            "showbackground": true,
            "ticks": "",
            "zerolinecolor": "#C8D4E3"
           }
          },
          "shapedefaults": {
           "line": {
            "color": "#f2f5fa"
           }
          },
          "sliderdefaults": {
           "bgcolor": "#C8D4E3",
           "bordercolor": "rgb(17,17,17)",
           "borderwidth": 1,
           "tickwidth": 0
          },
          "ternary": {
           "aaxis": {
            "gridcolor": "#506784",
            "linecolor": "#506784",
            "ticks": ""
           },
           "baxis": {
            "gridcolor": "#506784",
            "linecolor": "#506784",
            "ticks": ""
           },
           "bgcolor": "rgb(17,17,17)",
           "caxis": {
            "gridcolor": "#506784",
            "linecolor": "#506784",
            "ticks": ""
           }
          },
          "title": {
           "x": 0.05
          },
          "updatemenudefaults": {
           "bgcolor": "#506784",
           "borderwidth": 0
          },
          "xaxis": {
           "automargin": true,
           "gridcolor": "#283442",
           "linecolor": "#506784",
           "ticks": "",
           "title": {
            "standoff": 15
           },
           "zerolinecolor": "#283442",
           "zerolinewidth": 2
          },
          "yaxis": {
           "automargin": true,
           "gridcolor": "#283442",
           "linecolor": "#506784",
           "ticks": "",
           "title": {
            "standoff": 15
           },
           "zerolinecolor": "#283442",
           "zerolinewidth": 2
          }
         }
        }
       }
      }
     },
     "metadata": {},
     "output_type": "display_data"
    }
   ],
   "source": [
    "tsne_fig"
   ]
  }
 ],
 "metadata": {
  "kernelspec": {
   "display_name": "stonksApp-env",
   "language": "python",
   "name": "python3"
  },
  "language_info": {
   "codemirror_mode": {
    "name": "ipython",
    "version": 3
   },
   "file_extension": ".py",
   "mimetype": "text/x-python",
   "name": "python",
   "nbconvert_exporter": "python",
   "pygments_lexer": "ipython3",
   "version": "3.12.3"
  }
 },
 "nbformat": 4,
 "nbformat_minor": 2
}
