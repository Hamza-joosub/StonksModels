{
 "cells": [
  {
   "cell_type": "code",
   "execution_count": 933,
   "metadata": {},
   "outputs": [],
   "source": [
    "\n",
    "import requests\n",
    "import warnings\n",
    "from tqdm import tqdm, trange\n",
    "import streamlit as st\n",
    "import pandas as pd \n",
    "import yfinance as yf\n",
    "from datetime import datetime\n",
    "from dateutil.relativedelta import relativedelta\n",
    "import plotly_express  as px\n",
    "import plotly.graph_objects as go\n",
    "import random\n",
    "import unittest\n",
    "import tables\n",
    "import pickle\n",
    "import pyarrow.parquet as pq\n",
    "import pyarrow as pa\n",
    "import plotly.io as pio\n",
    "import math\n",
    "import investpy\n",
    "import sklearn.preprocessing\n",
    "from sklearn.preprocessing import StandardScaler\n",
    "from sklearn.cluster import KMeans\n",
    "import subprocess\n",
    "import numpy as np\n",
    "import matplotlib.pyplot as plt\n",
    "warnings.simplefilter(action='ignore', category=pd.errors.PerformanceWarning)"
   ]
  },
  {
   "cell_type": "code",
   "execution_count": 909,
   "metadata": {},
   "outputs": [],
   "source": [
    "pio.templates.default = \"plotly_dark\""
   ]
  },
  {
   "cell_type": "code",
   "execution_count": 1003,
   "metadata": {},
   "outputs": [],
   "source": [
    "oi = yf.Ticker(\"XLK\")"
   ]
  },
  {
   "cell_type": "code",
   "execution_count": 1044,
   "metadata": {},
   "outputs": [],
   "source": [
    "sector_proxies = ['XLB', 'XLC', 'XLE', 'XLF', 'XLI', 'XLK', 'XLP', 'XLRE', 'XLU', 'XLV', 'XLY']\n",
    "sector_proxies_names = ['Materials', 'Communications', 'Energy', 'Financials', 'Industrials', 'Technology', 'Consumer Staples', 'Real Estate', 'Utilities', 'Healthcare', 'Consumer Discretionary']"
   ]
  },
  {
   "cell_type": "code",
   "execution_count": 1046,
   "metadata": {},
   "outputs": [
    {
     "data": {
      "text/plain": [
       "11"
      ]
     },
     "execution_count": 1046,
     "metadata": {},
     "output_type": "execute_result"
    }
   ],
   "source": [
    "len(sector_proxies)"
   ]
  },
  {
   "cell_type": "code",
   "execution_count": 1038,
   "metadata": {},
   "outputs": [],
   "source": [
    "hm = yf.Tickers(sector_proxies)"
   ]
  },
  {
   "cell_type": "code",
   "execution_count": 1069,
   "metadata": {},
   "outputs": [
    {
     "name": "stderr",
     "output_type": "stream",
     "text": [
      "[*********************100%%**********************]  1 of 1 completed\n"
     ]
    },
    {
     "data": {
      "text/html": [
       "<div>\n",
       "<style scoped>\n",
       "    .dataframe tbody tr th:only-of-type {\n",
       "        vertical-align: middle;\n",
       "    }\n",
       "\n",
       "    .dataframe tbody tr th {\n",
       "        vertical-align: top;\n",
       "    }\n",
       "\n",
       "    .dataframe thead th {\n",
       "        text-align: right;\n",
       "    }\n",
       "</style>\n",
       "<table border=\"1\" class=\"dataframe\">\n",
       "  <thead>\n",
       "    <tr style=\"text-align: right;\">\n",
       "      <th></th>\n",
       "      <th>Open</th>\n",
       "      <th>High</th>\n",
       "      <th>Low</th>\n",
       "      <th>Close</th>\n",
       "      <th>Adj Close</th>\n",
       "      <th>Volume</th>\n",
       "    </tr>\n",
       "    <tr>\n",
       "      <th>Date</th>\n",
       "      <th></th>\n",
       "      <th></th>\n",
       "      <th></th>\n",
       "      <th></th>\n",
       "      <th></th>\n",
       "      <th></th>\n",
       "    </tr>\n",
       "  </thead>\n",
       "  <tbody>\n",
       "    <tr>\n",
       "      <th>2020-02-10</th>\n",
       "      <td>53.700001</td>\n",
       "      <td>53.830002</td>\n",
       "      <td>53.380001</td>\n",
       "      <td>53.709999</td>\n",
       "      <td>43.077812</td>\n",
       "      <td>14640600</td>\n",
       "    </tr>\n",
       "    <tr>\n",
       "      <th>2020-02-11</th>\n",
       "      <td>54.439999</td>\n",
       "      <td>54.520000</td>\n",
       "      <td>54.070000</td>\n",
       "      <td>54.310001</td>\n",
       "      <td>43.559055</td>\n",
       "      <td>13844600</td>\n",
       "    </tr>\n",
       "    <tr>\n",
       "      <th>2020-02-12</th>\n",
       "      <td>55.119999</td>\n",
       "      <td>55.349998</td>\n",
       "      <td>54.590000</td>\n",
       "      <td>55.040001</td>\n",
       "      <td>44.144543</td>\n",
       "      <td>17199800</td>\n",
       "    </tr>\n",
       "    <tr>\n",
       "      <th>2020-02-13</th>\n",
       "      <td>54.889999</td>\n",
       "      <td>55.180000</td>\n",
       "      <td>54.549999</td>\n",
       "      <td>54.869999</td>\n",
       "      <td>44.008183</td>\n",
       "      <td>11974900</td>\n",
       "    </tr>\n",
       "    <tr>\n",
       "      <th>2020-02-14</th>\n",
       "      <td>55.060001</td>\n",
       "      <td>55.099998</td>\n",
       "      <td>54.240002</td>\n",
       "      <td>54.580002</td>\n",
       "      <td>43.775593</td>\n",
       "      <td>12520000</td>\n",
       "    </tr>\n",
       "    <tr>\n",
       "      <th>...</th>\n",
       "      <td>...</td>\n",
       "      <td>...</td>\n",
       "      <td>...</td>\n",
       "      <td>...</td>\n",
       "      <td>...</td>\n",
       "      <td>...</td>\n",
       "    </tr>\n",
       "    <tr>\n",
       "      <th>2025-02-03</th>\n",
       "      <td>87.629997</td>\n",
       "      <td>88.550003</td>\n",
       "      <td>86.830002</td>\n",
       "      <td>88.190002</td>\n",
       "      <td>88.190002</td>\n",
       "      <td>19908200</td>\n",
       "    </tr>\n",
       "    <tr>\n",
       "      <th>2025-02-04</th>\n",
       "      <td>87.779999</td>\n",
       "      <td>90.230003</td>\n",
       "      <td>87.629997</td>\n",
       "      <td>90.040001</td>\n",
       "      <td>90.040001</td>\n",
       "      <td>20139900</td>\n",
       "    </tr>\n",
       "    <tr>\n",
       "      <th>2025-02-05</th>\n",
       "      <td>90.010002</td>\n",
       "      <td>90.360001</td>\n",
       "      <td>89.510002</td>\n",
       "      <td>90.230003</td>\n",
       "      <td>90.230003</td>\n",
       "      <td>10886000</td>\n",
       "    </tr>\n",
       "    <tr>\n",
       "      <th>2025-02-06</th>\n",
       "      <td>90.639999</td>\n",
       "      <td>90.860001</td>\n",
       "      <td>88.089996</td>\n",
       "      <td>88.570000</td>\n",
       "      <td>88.570000</td>\n",
       "      <td>20654800</td>\n",
       "    </tr>\n",
       "    <tr>\n",
       "      <th>2025-02-07</th>\n",
       "      <td>88.900002</td>\n",
       "      <td>89.370003</td>\n",
       "      <td>88.440002</td>\n",
       "      <td>88.559998</td>\n",
       "      <td>88.559998</td>\n",
       "      <td>11283400</td>\n",
       "    </tr>\n",
       "  </tbody>\n",
       "</table>\n",
       "<p>1257 rows × 6 columns</p>\n",
       "</div>"
      ],
      "text/plain": [
       "                 Open       High        Low      Close  Adj Close    Volume\n",
       "Date                                                                       \n",
       "2020-02-10  53.700001  53.830002  53.380001  53.709999  43.077812  14640600\n",
       "2020-02-11  54.439999  54.520000  54.070000  54.310001  43.559055  13844600\n",
       "2020-02-12  55.119999  55.349998  54.590000  55.040001  44.144543  17199800\n",
       "2020-02-13  54.889999  55.180000  54.549999  54.869999  44.008183  11974900\n",
       "2020-02-14  55.060001  55.099998  54.240002  54.580002  43.775593  12520000\n",
       "...               ...        ...        ...        ...        ...       ...\n",
       "2025-02-03  87.629997  88.550003  86.830002  88.190002  88.190002  19908200\n",
       "2025-02-04  87.779999  90.230003  87.629997  90.040001  90.040001  20139900\n",
       "2025-02-05  90.010002  90.360001  89.510002  90.230003  90.230003  10886000\n",
       "2025-02-06  90.639999  90.860001  88.089996  88.570000  88.570000  20654800\n",
       "2025-02-07  88.900002  89.370003  88.440002  88.559998  88.559998  11283400\n",
       "\n",
       "[1257 rows x 6 columns]"
      ]
     },
     "execution_count": 1069,
     "metadata": {},
     "output_type": "execute_result"
    }
   ],
   "source": [
    "yf.download(tickers=['XLE'],start = '2020-02-08',)"
   ]
  },
  {
   "cell_type": "code",
   "execution_count": 1070,
   "metadata": {},
   "outputs": [
    {
     "name": "stderr",
     "output_type": "stream",
     "text": [
      "[*********************100%%**********************]  11 of 11 completed\n"
     ]
    },
    {
     "data": {
      "text/html": [
       "<div>\n",
       "<style scoped>\n",
       "    .dataframe tbody tr th:only-of-type {\n",
       "        vertical-align: middle;\n",
       "    }\n",
       "\n",
       "    .dataframe tbody tr th {\n",
       "        vertical-align: top;\n",
       "    }\n",
       "\n",
       "    .dataframe thead th {\n",
       "        text-align: right;\n",
       "    }\n",
       "</style>\n",
       "<table border=\"1\" class=\"dataframe\">\n",
       "  <thead>\n",
       "    <tr style=\"text-align: right;\">\n",
       "      <th>Ticker</th>\n",
       "      <th>XLB</th>\n",
       "      <th>XLC</th>\n",
       "      <th>XLE</th>\n",
       "      <th>XLF</th>\n",
       "      <th>XLI</th>\n",
       "      <th>XLK</th>\n",
       "      <th>XLP</th>\n",
       "      <th>XLRE</th>\n",
       "      <th>XLU</th>\n",
       "      <th>XLV</th>\n",
       "      <th>XLY</th>\n",
       "    </tr>\n",
       "    <tr>\n",
       "      <th>Date</th>\n",
       "      <th></th>\n",
       "      <th></th>\n",
       "      <th></th>\n",
       "      <th></th>\n",
       "      <th></th>\n",
       "      <th></th>\n",
       "      <th></th>\n",
       "      <th></th>\n",
       "      <th></th>\n",
       "      <th></th>\n",
       "      <th></th>\n",
       "    </tr>\n",
       "  </thead>\n",
       "  <tbody>\n",
       "    <tr>\n",
       "      <th>2020-02-10</th>\n",
       "      <td>60.060001</td>\n",
       "      <td>56.189999</td>\n",
       "      <td>53.709999</td>\n",
       "      <td>31.010000</td>\n",
       "      <td>84.120003</td>\n",
       "      <td>101.040001</td>\n",
       "      <td>64.529999</td>\n",
       "      <td>40.400002</td>\n",
       "      <td>68.849998</td>\n",
       "      <td>103.589996</td>\n",
       "      <td>129.759995</td>\n",
       "    </tr>\n",
       "    <tr>\n",
       "      <th>2020-02-11</th>\n",
       "      <td>60.389999</td>\n",
       "      <td>56.130001</td>\n",
       "      <td>54.310001</td>\n",
       "      <td>31.120001</td>\n",
       "      <td>84.440002</td>\n",
       "      <td>100.699997</td>\n",
       "      <td>64.290001</td>\n",
       "      <td>40.889999</td>\n",
       "      <td>69.099998</td>\n",
       "      <td>104.209999</td>\n",
       "      <td>130.779999</td>\n",
       "    </tr>\n",
       "    <tr>\n",
       "      <th>2020-02-12</th>\n",
       "      <td>60.720001</td>\n",
       "      <td>56.860001</td>\n",
       "      <td>55.040001</td>\n",
       "      <td>31.139999</td>\n",
       "      <td>85.230003</td>\n",
       "      <td>101.790001</td>\n",
       "      <td>64.260002</td>\n",
       "      <td>41.150002</td>\n",
       "      <td>69.150002</td>\n",
       "      <td>104.339996</td>\n",
       "      <td>132.119995</td>\n",
       "    </tr>\n",
       "    <tr>\n",
       "      <th>2020-02-13</th>\n",
       "      <td>60.500000</td>\n",
       "      <td>56.869999</td>\n",
       "      <td>54.869999</td>\n",
       "      <td>31.129999</td>\n",
       "      <td>84.750000</td>\n",
       "      <td>101.519997</td>\n",
       "      <td>64.639999</td>\n",
       "      <td>41.400002</td>\n",
       "      <td>69.919998</td>\n",
       "      <td>103.849998</td>\n",
       "      <td>131.889999</td>\n",
       "    </tr>\n",
       "    <tr>\n",
       "      <th>2020-02-14</th>\n",
       "      <td>60.509998</td>\n",
       "      <td>56.939999</td>\n",
       "      <td>54.580002</td>\n",
       "      <td>31.170000</td>\n",
       "      <td>84.639999</td>\n",
       "      <td>101.959999</td>\n",
       "      <td>64.790001</td>\n",
       "      <td>41.880001</td>\n",
       "      <td>70.389999</td>\n",
       "      <td>103.930000</td>\n",
       "      <td>131.690002</td>\n",
       "    </tr>\n",
       "    <tr>\n",
       "      <th>...</th>\n",
       "      <td>...</td>\n",
       "      <td>...</td>\n",
       "      <td>...</td>\n",
       "      <td>...</td>\n",
       "      <td>...</td>\n",
       "      <td>...</td>\n",
       "      <td>...</td>\n",
       "      <td>...</td>\n",
       "      <td>...</td>\n",
       "      <td>...</td>\n",
       "      <td>...</td>\n",
       "    </tr>\n",
       "    <tr>\n",
       "      <th>2025-02-03</th>\n",
       "      <td>88.879997</td>\n",
       "      <td>102.599998</td>\n",
       "      <td>88.190002</td>\n",
       "      <td>51.259998</td>\n",
       "      <td>136.979996</td>\n",
       "      <td>227.699997</td>\n",
       "      <td>79.290001</td>\n",
       "      <td>41.349998</td>\n",
       "      <td>78.300003</td>\n",
       "      <td>147.440002</td>\n",
       "      <td>229.100006</td>\n",
       "    </tr>\n",
       "    <tr>\n",
       "      <th>2025-02-04</th>\n",
       "      <td>89.139999</td>\n",
       "      <td>103.519997</td>\n",
       "      <td>90.040001</td>\n",
       "      <td>51.139999</td>\n",
       "      <td>137.020004</td>\n",
       "      <td>230.979996</td>\n",
       "      <td>78.620003</td>\n",
       "      <td>41.349998</td>\n",
       "      <td>77.610001</td>\n",
       "      <td>147.039993</td>\n",
       "      <td>231.800003</td>\n",
       "    </tr>\n",
       "    <tr>\n",
       "      <th>2025-02-05</th>\n",
       "      <td>89.070000</td>\n",
       "      <td>102.519997</td>\n",
       "      <td>90.230003</td>\n",
       "      <td>51.680000</td>\n",
       "      <td>137.119995</td>\n",
       "      <td>234.190002</td>\n",
       "      <td>79.110001</td>\n",
       "      <td>42.000000</td>\n",
       "      <td>78.389999</td>\n",
       "      <td>148.449997</td>\n",
       "      <td>229.169998</td>\n",
       "    </tr>\n",
       "    <tr>\n",
       "      <th>2025-02-06</th>\n",
       "      <td>89.379997</td>\n",
       "      <td>102.959999</td>\n",
       "      <td>88.570000</td>\n",
       "      <td>52.110001</td>\n",
       "      <td>137.740005</td>\n",
       "      <td>234.830002</td>\n",
       "      <td>79.470001</td>\n",
       "      <td>42.119999</td>\n",
       "      <td>78.300003</td>\n",
       "      <td>147.119995</td>\n",
       "      <td>230.080002</td>\n",
       "    </tr>\n",
       "    <tr>\n",
       "      <th>2025-02-07</th>\n",
       "      <td>88.290001</td>\n",
       "      <td>102.739998</td>\n",
       "      <td>88.559998</td>\n",
       "      <td>51.820000</td>\n",
       "      <td>137.330002</td>\n",
       "      <td>232.820007</td>\n",
       "      <td>79.349998</td>\n",
       "      <td>41.970001</td>\n",
       "      <td>78.139999</td>\n",
       "      <td>146.429993</td>\n",
       "      <td>225.580002</td>\n",
       "    </tr>\n",
       "  </tbody>\n",
       "</table>\n",
       "<p>1257 rows × 11 columns</p>\n",
       "</div>"
      ],
      "text/plain": [
       "Ticker            XLB         XLC        XLE        XLF         XLI  \\\n",
       "Date                                                                  \n",
       "2020-02-10  60.060001   56.189999  53.709999  31.010000   84.120003   \n",
       "2020-02-11  60.389999   56.130001  54.310001  31.120001   84.440002   \n",
       "2020-02-12  60.720001   56.860001  55.040001  31.139999   85.230003   \n",
       "2020-02-13  60.500000   56.869999  54.869999  31.129999   84.750000   \n",
       "2020-02-14  60.509998   56.939999  54.580002  31.170000   84.639999   \n",
       "...               ...         ...        ...        ...         ...   \n",
       "2025-02-03  88.879997  102.599998  88.190002  51.259998  136.979996   \n",
       "2025-02-04  89.139999  103.519997  90.040001  51.139999  137.020004   \n",
       "2025-02-05  89.070000  102.519997  90.230003  51.680000  137.119995   \n",
       "2025-02-06  89.379997  102.959999  88.570000  52.110001  137.740005   \n",
       "2025-02-07  88.290001  102.739998  88.559998  51.820000  137.330002   \n",
       "\n",
       "Ticker             XLK        XLP       XLRE        XLU         XLV  \\\n",
       "Date                                                                  \n",
       "2020-02-10  101.040001  64.529999  40.400002  68.849998  103.589996   \n",
       "2020-02-11  100.699997  64.290001  40.889999  69.099998  104.209999   \n",
       "2020-02-12  101.790001  64.260002  41.150002  69.150002  104.339996   \n",
       "2020-02-13  101.519997  64.639999  41.400002  69.919998  103.849998   \n",
       "2020-02-14  101.959999  64.790001  41.880001  70.389999  103.930000   \n",
       "...                ...        ...        ...        ...         ...   \n",
       "2025-02-03  227.699997  79.290001  41.349998  78.300003  147.440002   \n",
       "2025-02-04  230.979996  78.620003  41.349998  77.610001  147.039993   \n",
       "2025-02-05  234.190002  79.110001  42.000000  78.389999  148.449997   \n",
       "2025-02-06  234.830002  79.470001  42.119999  78.300003  147.119995   \n",
       "2025-02-07  232.820007  79.349998  41.970001  78.139999  146.429993   \n",
       "\n",
       "Ticker             XLY  \n",
       "Date                    \n",
       "2020-02-10  129.759995  \n",
       "2020-02-11  130.779999  \n",
       "2020-02-12  132.119995  \n",
       "2020-02-13  131.889999  \n",
       "2020-02-14  131.690002  \n",
       "...                ...  \n",
       "2025-02-03  229.100006  \n",
       "2025-02-04  231.800003  \n",
       "2025-02-05  229.169998  \n",
       "2025-02-06  230.080002  \n",
       "2025-02-07  225.580002  \n",
       "\n",
       "[1257 rows x 11 columns]"
      ]
     },
     "execution_count": 1070,
     "metadata": {},
     "output_type": "execute_result"
    }
   ],
   "source": [
    "df = hm.history(period='5y', interval='1d',auto_adjust=False)['Close']\n",
    "df"
   ]
  },
  {
   "cell_type": "code",
   "execution_count": 1072,
   "metadata": {},
   "outputs": [
    {
     "data": {
      "text/plain": [
       "Ticker\n",
       "XLB      74.160004\n",
       "XLC      73.559998\n",
       "XLE      46.470001\n",
       "XLF      32.220001\n",
       "XLI      89.959999\n",
       "XLK     136.919998\n",
       "XLP      65.809998\n",
       "XLRE     37.990002\n",
       "XLU      61.970001\n",
       "XLV     116.540001\n",
       "XLY     170.559998\n",
       "Name: 2021-02-17 00:00:00, dtype: float64"
      ]
     },
     "execution_count": 1072,
     "metadata": {},
     "output_type": "execute_result"
    }
   ],
   "source": [
    "df.iloc[-1000,:]"
   ]
  },
  {
   "cell_type": "code",
   "execution_count": 1064,
   "metadata": {},
   "outputs": [
    {
     "data": {
      "text/html": [
       "<div>\n",
       "<style scoped>\n",
       "    .dataframe tbody tr th:only-of-type {\n",
       "        vertical-align: middle;\n",
       "    }\n",
       "\n",
       "    .dataframe tbody tr th {\n",
       "        vertical-align: top;\n",
       "    }\n",
       "\n",
       "    .dataframe thead th {\n",
       "        text-align: right;\n",
       "    }\n",
       "</style>\n",
       "<table border=\"1\" class=\"dataframe\">\n",
       "  <thead>\n",
       "    <tr style=\"text-align: right;\">\n",
       "      <th></th>\n",
       "      <th>Value</th>\n",
       "      <th>Name</th>\n",
       "    </tr>\n",
       "    <tr>\n",
       "      <th>Ticker</th>\n",
       "      <th></th>\n",
       "      <th></th>\n",
       "    </tr>\n",
       "  </thead>\n",
       "  <tbody>\n",
       "    <tr>\n",
       "      <th>XLB</th>\n",
       "      <td>-1.219508</td>\n",
       "      <td>Materials</td>\n",
       "    </tr>\n",
       "    <tr>\n",
       "      <th>XLC</th>\n",
       "      <td>-0.213676</td>\n",
       "      <td>Communications</td>\n",
       "    </tr>\n",
       "    <tr>\n",
       "      <th>XLE</th>\n",
       "      <td>-0.011293</td>\n",
       "      <td>Energy</td>\n",
       "    </tr>\n",
       "    <tr>\n",
       "      <th>XLF</th>\n",
       "      <td>-0.556517</td>\n",
       "      <td>Financials</td>\n",
       "    </tr>\n",
       "    <tr>\n",
       "      <th>XLI</th>\n",
       "      <td>-0.297665</td>\n",
       "      <td>Industrials</td>\n",
       "    </tr>\n",
       "    <tr>\n",
       "      <th>XLK</th>\n",
       "      <td>-0.855936</td>\n",
       "      <td>Technology</td>\n",
       "    </tr>\n",
       "    <tr>\n",
       "      <th>XLP</th>\n",
       "      <td>-0.151004</td>\n",
       "      <td>Consumer Staples</td>\n",
       "    </tr>\n",
       "    <tr>\n",
       "      <th>XLRE</th>\n",
       "      <td>-0.356120</td>\n",
       "      <td>Real Estate</td>\n",
       "    </tr>\n",
       "    <tr>\n",
       "      <th>XLU</th>\n",
       "      <td>-0.204347</td>\n",
       "      <td>Utilities</td>\n",
       "    </tr>\n",
       "    <tr>\n",
       "      <th>XLV</th>\n",
       "      <td>-0.469007</td>\n",
       "      <td>Healthcare</td>\n",
       "    </tr>\n",
       "    <tr>\n",
       "      <th>XLY</th>\n",
       "      <td>-1.955841</td>\n",
       "      <td>Consumer Discretionary</td>\n",
       "    </tr>\n",
       "  </tbody>\n",
       "</table>\n",
       "</div>"
      ],
      "text/plain": [
       "           Value                    Name\n",
       "Ticker                                  \n",
       "XLB    -1.219508               Materials\n",
       "XLC    -0.213676          Communications\n",
       "XLE    -0.011293                  Energy\n",
       "XLF    -0.556517              Financials\n",
       "XLI    -0.297665             Industrials\n",
       "XLK    -0.855936              Technology\n",
       "XLP    -0.151004        Consumer Staples\n",
       "XLRE   -0.356120             Real Estate\n",
       "XLU    -0.204347               Utilities\n",
       "XLV    -0.469007              Healthcare\n",
       "XLY    -1.955841  Consumer Discretionary"
      ]
     },
     "execution_count": 1064,
     "metadata": {},
     "output_type": "execute_result"
    }
   ],
   "source": [
    "lookback_period = 2\n",
    "performance_df = ((df.iloc[-1,:]-df.iloc[-lookback_period,:])/df.iloc[-lookback_period,:])*100\n",
    "performance_df = pd.DataFrame(performance_df, columns=[\"Value\", ])\n",
    "performance_df[\"Name\"] = sector_proxies_names\n",
    "performance_df "
   ]
  },
  {
   "cell_type": "code",
   "execution_count": 1063,
   "metadata": {},
   "outputs": [
    {
     "data": {
      "text/html": [
       "<div>\n",
       "<style scoped>\n",
       "    .dataframe tbody tr th:only-of-type {\n",
       "        vertical-align: middle;\n",
       "    }\n",
       "\n",
       "    .dataframe tbody tr th {\n",
       "        vertical-align: top;\n",
       "    }\n",
       "\n",
       "    .dataframe thead th {\n",
       "        text-align: right;\n",
       "    }\n",
       "</style>\n",
       "<table border=\"1\" class=\"dataframe\">\n",
       "  <thead>\n",
       "    <tr style=\"text-align: right;\">\n",
       "      <th></th>\n",
       "      <th>Value</th>\n",
       "      <th>Name</th>\n",
       "    </tr>\n",
       "    <tr>\n",
       "      <th>Ticker</th>\n",
       "      <th></th>\n",
       "      <th></th>\n",
       "    </tr>\n",
       "  </thead>\n",
       "  <tbody>\n",
       "    <tr>\n",
       "      <th>XLY</th>\n",
       "      <td>-0.019558</td>\n",
       "      <td>Consumer Discretionary</td>\n",
       "    </tr>\n",
       "    <tr>\n",
       "      <th>XLB</th>\n",
       "      <td>-0.012195</td>\n",
       "      <td>Materials</td>\n",
       "    </tr>\n",
       "    <tr>\n",
       "      <th>XLK</th>\n",
       "      <td>-0.008559</td>\n",
       "      <td>Technology</td>\n",
       "    </tr>\n",
       "    <tr>\n",
       "      <th>XLF</th>\n",
       "      <td>-0.005565</td>\n",
       "      <td>Financials</td>\n",
       "    </tr>\n",
       "    <tr>\n",
       "      <th>XLV</th>\n",
       "      <td>-0.004690</td>\n",
       "      <td>Healthcare</td>\n",
       "    </tr>\n",
       "    <tr>\n",
       "      <th>XLRE</th>\n",
       "      <td>-0.003561</td>\n",
       "      <td>Real Estate</td>\n",
       "    </tr>\n",
       "    <tr>\n",
       "      <th>XLI</th>\n",
       "      <td>-0.002977</td>\n",
       "      <td>Industrials</td>\n",
       "    </tr>\n",
       "    <tr>\n",
       "      <th>XLC</th>\n",
       "      <td>-0.002137</td>\n",
       "      <td>Communications</td>\n",
       "    </tr>\n",
       "    <tr>\n",
       "      <th>XLU</th>\n",
       "      <td>-0.002043</td>\n",
       "      <td>Utilities</td>\n",
       "    </tr>\n",
       "    <tr>\n",
       "      <th>XLP</th>\n",
       "      <td>-0.001510</td>\n",
       "      <td>Consumer Staples</td>\n",
       "    </tr>\n",
       "    <tr>\n",
       "      <th>XLE</th>\n",
       "      <td>-0.000113</td>\n",
       "      <td>Energy</td>\n",
       "    </tr>\n",
       "  </tbody>\n",
       "</table>\n",
       "</div>"
      ],
      "text/plain": [
       "           Value                    Name\n",
       "Ticker                                  \n",
       "XLY    -0.019558  Consumer Discretionary\n",
       "XLB    -0.012195               Materials\n",
       "XLK    -0.008559              Technology\n",
       "XLF    -0.005565              Financials\n",
       "XLV    -0.004690              Healthcare\n",
       "XLRE   -0.003561             Real Estate\n",
       "XLI    -0.002977             Industrials\n",
       "XLC    -0.002137          Communications\n",
       "XLU    -0.002043               Utilities\n",
       "XLP    -0.001510        Consumer Staples\n",
       "XLE    -0.000113                  Energy"
      ]
     },
     "execution_count": 1063,
     "metadata": {},
     "output_type": "execute_result"
    }
   ],
   "source": [
    "temp = performance_df.sort_values(['Value'])\n",
    "temp"
   ]
  },
  {
   "cell_type": "code",
   "execution_count": null,
   "metadata": {},
   "outputs": [
    {
     "data": {
      "application/vnd.plotly.v1+json": {
       "config": {
        "plotlyServerURL": "https://plot.ly"
       },
       "data": [
        {
         "orientation": "h",
         "type": "bar",
         "x": [
          -0.01955841430888158,
          -0.012195081353607253,
          -0.008559359924895803,
          -0.005565168146817016,
          -0.004690065689960314,
          -0.003561199311144631,
          -0.002976649090737282,
          -0.002136764011843346,
          -0.0020434694236679592,
          -0.0015100383130580441,
          -0.00011292916636481875
         ],
         "y": [
          "Consumer Discretionary",
          "Materials",
          "Technology",
          "Financials",
          "Healthcare",
          "Real Estate",
          "Industrials",
          "Communications",
          "Utilities",
          "Consumer Staples",
          "Energy"
         ]
        }
       ],
       "layout": {
        "template": {
         "data": {
          "bar": [
           {
            "error_x": {
             "color": "#f2f5fa"
            },
            "error_y": {
             "color": "#f2f5fa"
            },
            "marker": {
             "line": {
              "color": "rgb(17,17,17)",
              "width": 0.5
             },
             "pattern": {
              "fillmode": "overlay",
              "size": 10,
              "solidity": 0.2
             }
            },
            "type": "bar"
           }
          ],
          "barpolar": [
           {
            "marker": {
             "line": {
              "color": "rgb(17,17,17)",
              "width": 0.5
             },
             "pattern": {
              "fillmode": "overlay",
              "size": 10,
              "solidity": 0.2
             }
            },
            "type": "barpolar"
           }
          ],
          "carpet": [
           {
            "aaxis": {
             "endlinecolor": "#A2B1C6",
             "gridcolor": "#506784",
             "linecolor": "#506784",
             "minorgridcolor": "#506784",
             "startlinecolor": "#A2B1C6"
            },
            "baxis": {
             "endlinecolor": "#A2B1C6",
             "gridcolor": "#506784",
             "linecolor": "#506784",
             "minorgridcolor": "#506784",
             "startlinecolor": "#A2B1C6"
            },
            "type": "carpet"
           }
          ],
          "choropleth": [
           {
            "colorbar": {
             "outlinewidth": 0,
             "ticks": ""
            },
            "type": "choropleth"
           }
          ],
          "contour": [
           {
            "colorbar": {
             "outlinewidth": 0,
             "ticks": ""
            },
            "colorscale": [
             [
              0,
              "#0d0887"
             ],
             [
              0.1111111111111111,
              "#46039f"
             ],
             [
              0.2222222222222222,
              "#7201a8"
             ],
             [
              0.3333333333333333,
              "#9c179e"
             ],
             [
              0.4444444444444444,
              "#bd3786"
             ],
             [
              0.5555555555555556,
              "#d8576b"
             ],
             [
              0.6666666666666666,
              "#ed7953"
             ],
             [
              0.7777777777777778,
              "#fb9f3a"
             ],
             [
              0.8888888888888888,
              "#fdca26"
             ],
             [
              1,
              "#f0f921"
             ]
            ],
            "type": "contour"
           }
          ],
          "contourcarpet": [
           {
            "colorbar": {
             "outlinewidth": 0,
             "ticks": ""
            },
            "type": "contourcarpet"
           }
          ],
          "heatmap": [
           {
            "colorbar": {
             "outlinewidth": 0,
             "ticks": ""
            },
            "colorscale": [
             [
              0,
              "#0d0887"
             ],
             [
              0.1111111111111111,
              "#46039f"
             ],
             [
              0.2222222222222222,
              "#7201a8"
             ],
             [
              0.3333333333333333,
              "#9c179e"
             ],
             [
              0.4444444444444444,
              "#bd3786"
             ],
             [
              0.5555555555555556,
              "#d8576b"
             ],
             [
              0.6666666666666666,
              "#ed7953"
             ],
             [
              0.7777777777777778,
              "#fb9f3a"
             ],
             [
              0.8888888888888888,
              "#fdca26"
             ],
             [
              1,
              "#f0f921"
             ]
            ],
            "type": "heatmap"
           }
          ],
          "heatmapgl": [
           {
            "colorbar": {
             "outlinewidth": 0,
             "ticks": ""
            },
            "colorscale": [
             [
              0,
              "#0d0887"
             ],
             [
              0.1111111111111111,
              "#46039f"
             ],
             [
              0.2222222222222222,
              "#7201a8"
             ],
             [
              0.3333333333333333,
              "#9c179e"
             ],
             [
              0.4444444444444444,
              "#bd3786"
             ],
             [
              0.5555555555555556,
              "#d8576b"
             ],
             [
              0.6666666666666666,
              "#ed7953"
             ],
             [
              0.7777777777777778,
              "#fb9f3a"
             ],
             [
              0.8888888888888888,
              "#fdca26"
             ],
             [
              1,
              "#f0f921"
             ]
            ],
            "type": "heatmapgl"
           }
          ],
          "histogram": [
           {
            "marker": {
             "pattern": {
              "fillmode": "overlay",
              "size": 10,
              "solidity": 0.2
             }
            },
            "type": "histogram"
           }
          ],
          "histogram2d": [
           {
            "colorbar": {
             "outlinewidth": 0,
             "ticks": ""
            },
            "colorscale": [
             [
              0,
              "#0d0887"
             ],
             [
              0.1111111111111111,
              "#46039f"
             ],
             [
              0.2222222222222222,
              "#7201a8"
             ],
             [
              0.3333333333333333,
              "#9c179e"
             ],
             [
              0.4444444444444444,
              "#bd3786"
             ],
             [
              0.5555555555555556,
              "#d8576b"
             ],
             [
              0.6666666666666666,
              "#ed7953"
             ],
             [
              0.7777777777777778,
              "#fb9f3a"
             ],
             [
              0.8888888888888888,
              "#fdca26"
             ],
             [
              1,
              "#f0f921"
             ]
            ],
            "type": "histogram2d"
           }
          ],
          "histogram2dcontour": [
           {
            "colorbar": {
             "outlinewidth": 0,
             "ticks": ""
            },
            "colorscale": [
             [
              0,
              "#0d0887"
             ],
             [
              0.1111111111111111,
              "#46039f"
             ],
             [
              0.2222222222222222,
              "#7201a8"
             ],
             [
              0.3333333333333333,
              "#9c179e"
             ],
             [
              0.4444444444444444,
              "#bd3786"
             ],
             [
              0.5555555555555556,
              "#d8576b"
             ],
             [
              0.6666666666666666,
              "#ed7953"
             ],
             [
              0.7777777777777778,
              "#fb9f3a"
             ],
             [
              0.8888888888888888,
              "#fdca26"
             ],
             [
              1,
              "#f0f921"
             ]
            ],
            "type": "histogram2dcontour"
           }
          ],
          "mesh3d": [
           {
            "colorbar": {
             "outlinewidth": 0,
             "ticks": ""
            },
            "type": "mesh3d"
           }
          ],
          "parcoords": [
           {
            "line": {
             "colorbar": {
              "outlinewidth": 0,
              "ticks": ""
             }
            },
            "type": "parcoords"
           }
          ],
          "pie": [
           {
            "automargin": true,
            "type": "pie"
           }
          ],
          "scatter": [
           {
            "marker": {
             "line": {
              "color": "#283442"
             }
            },
            "type": "scatter"
           }
          ],
          "scatter3d": [
           {
            "line": {
             "colorbar": {
              "outlinewidth": 0,
              "ticks": ""
             }
            },
            "marker": {
             "colorbar": {
              "outlinewidth": 0,
              "ticks": ""
             }
            },
            "type": "scatter3d"
           }
          ],
          "scattercarpet": [
           {
            "marker": {
             "colorbar": {
              "outlinewidth": 0,
              "ticks": ""
             }
            },
            "type": "scattercarpet"
           }
          ],
          "scattergeo": [
           {
            "marker": {
             "colorbar": {
              "outlinewidth": 0,
              "ticks": ""
             }
            },
            "type": "scattergeo"
           }
          ],
          "scattergl": [
           {
            "marker": {
             "line": {
              "color": "#283442"
             }
            },
            "type": "scattergl"
           }
          ],
          "scattermapbox": [
           {
            "marker": {
             "colorbar": {
              "outlinewidth": 0,
              "ticks": ""
             }
            },
            "type": "scattermapbox"
           }
          ],
          "scatterpolar": [
           {
            "marker": {
             "colorbar": {
              "outlinewidth": 0,
              "ticks": ""
             }
            },
            "type": "scatterpolar"
           }
          ],
          "scatterpolargl": [
           {
            "marker": {
             "colorbar": {
              "outlinewidth": 0,
              "ticks": ""
             }
            },
            "type": "scatterpolargl"
           }
          ],
          "scatterternary": [
           {
            "marker": {
             "colorbar": {
              "outlinewidth": 0,
              "ticks": ""
             }
            },
            "type": "scatterternary"
           }
          ],
          "surface": [
           {
            "colorbar": {
             "outlinewidth": 0,
             "ticks": ""
            },
            "colorscale": [
             [
              0,
              "#0d0887"
             ],
             [
              0.1111111111111111,
              "#46039f"
             ],
             [
              0.2222222222222222,
              "#7201a8"
             ],
             [
              0.3333333333333333,
              "#9c179e"
             ],
             [
              0.4444444444444444,
              "#bd3786"
             ],
             [
              0.5555555555555556,
              "#d8576b"
             ],
             [
              0.6666666666666666,
              "#ed7953"
             ],
             [
              0.7777777777777778,
              "#fb9f3a"
             ],
             [
              0.8888888888888888,
              "#fdca26"
             ],
             [
              1,
              "#f0f921"
             ]
            ],
            "type": "surface"
           }
          ],
          "table": [
           {
            "cells": {
             "fill": {
              "color": "#506784"
             },
             "line": {
              "color": "rgb(17,17,17)"
             }
            },
            "header": {
             "fill": {
              "color": "#2a3f5f"
             },
             "line": {
              "color": "rgb(17,17,17)"
             }
            },
            "type": "table"
           }
          ]
         },
         "layout": {
          "annotationdefaults": {
           "arrowcolor": "#f2f5fa",
           "arrowhead": 0,
           "arrowwidth": 1
          },
          "autotypenumbers": "strict",
          "coloraxis": {
           "colorbar": {
            "outlinewidth": 0,
            "ticks": ""
           }
          },
          "colorscale": {
           "diverging": [
            [
             0,
             "#8e0152"
            ],
            [
             0.1,
             "#c51b7d"
            ],
            [
             0.2,
             "#de77ae"
            ],
            [
             0.3,
             "#f1b6da"
            ],
            [
             0.4,
             "#fde0ef"
            ],
            [
             0.5,
             "#f7f7f7"
            ],
            [
             0.6,
             "#e6f5d0"
            ],
            [
             0.7,
             "#b8e186"
            ],
            [
             0.8,
             "#7fbc41"
            ],
            [
             0.9,
             "#4d9221"
            ],
            [
             1,
             "#276419"
            ]
           ],
           "sequential": [
            [
             0,
             "#0d0887"
            ],
            [
             0.1111111111111111,
             "#46039f"
            ],
            [
             0.2222222222222222,
             "#7201a8"
            ],
            [
             0.3333333333333333,
             "#9c179e"
            ],
            [
             0.4444444444444444,
             "#bd3786"
            ],
            [
             0.5555555555555556,
             "#d8576b"
            ],
            [
             0.6666666666666666,
             "#ed7953"
            ],
            [
             0.7777777777777778,
             "#fb9f3a"
            ],
            [
             0.8888888888888888,
             "#fdca26"
            ],
            [
             1,
             "#f0f921"
            ]
           ],
           "sequentialminus": [
            [
             0,
             "#0d0887"
            ],
            [
             0.1111111111111111,
             "#46039f"
            ],
            [
             0.2222222222222222,
             "#7201a8"
            ],
            [
             0.3333333333333333,
             "#9c179e"
            ],
            [
             0.4444444444444444,
             "#bd3786"
            ],
            [
             0.5555555555555556,
             "#d8576b"
            ],
            [
             0.6666666666666666,
             "#ed7953"
            ],
            [
             0.7777777777777778,
             "#fb9f3a"
            ],
            [
             0.8888888888888888,
             "#fdca26"
            ],
            [
             1,
             "#f0f921"
            ]
           ]
          },
          "colorway": [
           "#636efa",
           "#EF553B",
           "#00cc96",
           "#ab63fa",
           "#FFA15A",
           "#19d3f3",
           "#FF6692",
           "#B6E880",
           "#FF97FF",
           "#FECB52"
          ],
          "font": {
           "color": "#f2f5fa"
          },
          "geo": {
           "bgcolor": "rgb(17,17,17)",
           "lakecolor": "rgb(17,17,17)",
           "landcolor": "rgb(17,17,17)",
           "showlakes": true,
           "showland": true,
           "subunitcolor": "#506784"
          },
          "hoverlabel": {
           "align": "left"
          },
          "hovermode": "closest",
          "mapbox": {
           "style": "dark"
          },
          "paper_bgcolor": "rgb(17,17,17)",
          "plot_bgcolor": "rgb(17,17,17)",
          "polar": {
           "angularaxis": {
            "gridcolor": "#506784",
            "linecolor": "#506784",
            "ticks": ""
           },
           "bgcolor": "rgb(17,17,17)",
           "radialaxis": {
            "gridcolor": "#506784",
            "linecolor": "#506784",
            "ticks": ""
           }
          },
          "scene": {
           "xaxis": {
            "backgroundcolor": "rgb(17,17,17)",
            "gridcolor": "#506784",
            "gridwidth": 2,
            "linecolor": "#506784",
            "showbackground": true,
            "ticks": "",
            "zerolinecolor": "#C8D4E3"
           },
           "yaxis": {
            "backgroundcolor": "rgb(17,17,17)",
            "gridcolor": "#506784",
            "gridwidth": 2,
            "linecolor": "#506784",
            "showbackground": true,
            "ticks": "",
            "zerolinecolor": "#C8D4E3"
           },
           "zaxis": {
            "backgroundcolor": "rgb(17,17,17)",
            "gridcolor": "#506784",
            "gridwidth": 2,
            "linecolor": "#506784",
            "showbackground": true,
            "ticks": "",
            "zerolinecolor": "#C8D4E3"
           }
          },
          "shapedefaults": {
           "line": {
            "color": "#f2f5fa"
           }
          },
          "sliderdefaults": {
           "bgcolor": "#C8D4E3",
           "bordercolor": "rgb(17,17,17)",
           "borderwidth": 1,
           "tickwidth": 0
          },
          "ternary": {
           "aaxis": {
            "gridcolor": "#506784",
            "linecolor": "#506784",
            "ticks": ""
           },
           "baxis": {
            "gridcolor": "#506784",
            "linecolor": "#506784",
            "ticks": ""
           },
           "bgcolor": "rgb(17,17,17)",
           "caxis": {
            "gridcolor": "#506784",
            "linecolor": "#506784",
            "ticks": ""
           }
          },
          "title": {
           "x": 0.05
          },
          "updatemenudefaults": {
           "bgcolor": "#506784",
           "borderwidth": 0
          },
          "xaxis": {
           "automargin": true,
           "gridcolor": "#283442",
           "linecolor": "#506784",
           "ticks": "",
           "title": {
            "standoff": 15
           },
           "zerolinecolor": "#283442",
           "zerolinewidth": 2
          },
          "yaxis": {
           "automargin": true,
           "gridcolor": "#283442",
           "linecolor": "#506784",
           "ticks": "",
           "title": {
            "standoff": 15
           },
           "zerolinecolor": "#283442",
           "zerolinewidth": 2
          }
         }
        },
        "xaxis": {
         "title": {
          "text": "Performance over 1 Days"
         }
        },
        "yaxis": {
         "title": {
          "text": "Sector"
         }
        }
       }
      }
     },
     "metadata": {},
     "output_type": "display_data"
    }
   ],
   "source": [
    "performance_fig = go.Figure()\n",
    "temp = performance_df.sort_values(['Value'])\n",
    "performance_fig.add_trace(go.Bar(x = temp[0], y = temp[\"Name\"], orientation='h'))\n",
    "performance_fig.update_xaxes(title_text = f\"Performance over {lookback_period-1} Days\")\n",
    "performance_fig.update_yaxes(title_text = \"Sector\")\n",
    "performance_fig"
   ]
  },
  {
   "cell_type": "code",
   "execution_count": null,
   "metadata": {},
   "outputs": [
    {
     "data": {
      "text/html": [
       "<div>\n",
       "<style scoped>\n",
       "    .dataframe tbody tr th:only-of-type {\n",
       "        vertical-align: middle;\n",
       "    }\n",
       "\n",
       "    .dataframe tbody tr th {\n",
       "        vertical-align: top;\n",
       "    }\n",
       "\n",
       "    .dataframe thead th {\n",
       "        text-align: right;\n",
       "    }\n",
       "</style>\n",
       "<table border=\"1\" class=\"dataframe\">\n",
       "  <thead>\n",
       "    <tr style=\"text-align: right;\">\n",
       "      <th></th>\n",
       "      <th>Close</th>\n",
       "    </tr>\n",
       "    <tr>\n",
       "      <th>Date</th>\n",
       "      <th></th>\n",
       "    </tr>\n",
       "  </thead>\n",
       "  <tbody>\n",
       "    <tr>\n",
       "      <th>2025-01-08 00:00:00-05:00</th>\n",
       "      <td>233.880005</td>\n",
       "    </tr>\n",
       "    <tr>\n",
       "      <th>2025-01-10 00:00:00-05:00</th>\n",
       "      <td>228.779999</td>\n",
       "    </tr>\n",
       "    <tr>\n",
       "      <th>2025-01-13 00:00:00-05:00</th>\n",
       "      <td>227.160004</td>\n",
       "    </tr>\n",
       "    <tr>\n",
       "      <th>2025-01-14 00:00:00-05:00</th>\n",
       "      <td>227.759995</td>\n",
       "    </tr>\n",
       "    <tr>\n",
       "      <th>2025-01-15 00:00:00-05:00</th>\n",
       "      <td>232.289993</td>\n",
       "    </tr>\n",
       "    <tr>\n",
       "      <th>2025-01-16 00:00:00-05:00</th>\n",
       "      <td>230.500000</td>\n",
       "    </tr>\n",
       "    <tr>\n",
       "      <th>2025-01-17 00:00:00-05:00</th>\n",
       "      <td>234.110001</td>\n",
       "    </tr>\n",
       "    <tr>\n",
       "      <th>2025-01-21 00:00:00-05:00</th>\n",
       "      <td>236.059998</td>\n",
       "    </tr>\n",
       "    <tr>\n",
       "      <th>2025-01-22 00:00:00-05:00</th>\n",
       "      <td>241.389999</td>\n",
       "    </tr>\n",
       "    <tr>\n",
       "      <th>2025-01-23 00:00:00-05:00</th>\n",
       "      <td>241.820007</td>\n",
       "    </tr>\n",
       "    <tr>\n",
       "      <th>2025-01-24 00:00:00-05:00</th>\n",
       "      <td>239.300003</td>\n",
       "    </tr>\n",
       "    <tr>\n",
       "      <th>2025-01-27 00:00:00-05:00</th>\n",
       "      <td>227.570007</td>\n",
       "    </tr>\n",
       "    <tr>\n",
       "      <th>2025-01-28 00:00:00-05:00</th>\n",
       "      <td>233.639999</td>\n",
       "    </tr>\n",
       "    <tr>\n",
       "      <th>2025-01-29 00:00:00-05:00</th>\n",
       "      <td>231.740005</td>\n",
       "    </tr>\n",
       "    <tr>\n",
       "      <th>2025-01-30 00:00:00-05:00</th>\n",
       "      <td>232.169998</td>\n",
       "    </tr>\n",
       "    <tr>\n",
       "      <th>2025-01-31 00:00:00-05:00</th>\n",
       "      <td>230.809998</td>\n",
       "    </tr>\n",
       "    <tr>\n",
       "      <th>2025-02-03 00:00:00-05:00</th>\n",
       "      <td>227.699997</td>\n",
       "    </tr>\n",
       "    <tr>\n",
       "      <th>2025-02-04 00:00:00-05:00</th>\n",
       "      <td>230.979996</td>\n",
       "    </tr>\n",
       "    <tr>\n",
       "      <th>2025-02-05 00:00:00-05:00</th>\n",
       "      <td>234.190002</td>\n",
       "    </tr>\n",
       "    <tr>\n",
       "      <th>2025-02-06 00:00:00-05:00</th>\n",
       "      <td>234.830002</td>\n",
       "    </tr>\n",
       "    <tr>\n",
       "      <th>2025-02-07 00:00:00-05:00</th>\n",
       "      <td>232.820007</td>\n",
       "    </tr>\n",
       "  </tbody>\n",
       "</table>\n",
       "</div>"
      ],
      "text/plain": [
       "                                Close\n",
       "Date                                 \n",
       "2025-01-08 00:00:00-05:00  233.880005\n",
       "2025-01-10 00:00:00-05:00  228.779999\n",
       "2025-01-13 00:00:00-05:00  227.160004\n",
       "2025-01-14 00:00:00-05:00  227.759995\n",
       "2025-01-15 00:00:00-05:00  232.289993\n",
       "2025-01-16 00:00:00-05:00  230.500000\n",
       "2025-01-17 00:00:00-05:00  234.110001\n",
       "2025-01-21 00:00:00-05:00  236.059998\n",
       "2025-01-22 00:00:00-05:00  241.389999\n",
       "2025-01-23 00:00:00-05:00  241.820007\n",
       "2025-01-24 00:00:00-05:00  239.300003\n",
       "2025-01-27 00:00:00-05:00  227.570007\n",
       "2025-01-28 00:00:00-05:00  233.639999\n",
       "2025-01-29 00:00:00-05:00  231.740005\n",
       "2025-01-30 00:00:00-05:00  232.169998\n",
       "2025-01-31 00:00:00-05:00  230.809998\n",
       "2025-02-03 00:00:00-05:00  227.699997\n",
       "2025-02-04 00:00:00-05:00  230.979996\n",
       "2025-02-05 00:00:00-05:00  234.190002\n",
       "2025-02-06 00:00:00-05:00  234.830002\n",
       "2025-02-07 00:00:00-05:00  232.820007"
      ]
     },
     "execution_count": 1010,
     "metadata": {},
     "output_type": "execute_result"
    }
   ],
   "source": [
    "prices = pd.DataFrame(oi.history()['Close'])\n",
    "prices"
   ]
  }
 ],
 "metadata": {
  "kernelspec": {
   "display_name": "stonksApp-env",
   "language": "python",
   "name": "python3"
  },
  "language_info": {
   "codemirror_mode": {
    "name": "ipython",
    "version": 3
   },
   "file_extension": ".py",
   "mimetype": "text/x-python",
   "name": "python",
   "nbconvert_exporter": "python",
   "pygments_lexer": "ipython3",
   "version": "3.12.3"
  }
 },
 "nbformat": 4,
 "nbformat_minor": 2
}
